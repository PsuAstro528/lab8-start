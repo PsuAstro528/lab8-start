{
 "cells": [
  {
   "cell_type": "markdown",
   "metadata": {},
   "source": [
    "# Astro 528: High-performance Computing for Astrophysics\n",
    "## Lab 8, Exercise 2\n",
    "## GPU Programming:  Writing Custom Kernels"
   ]
  },
  {
   "cell_type": "markdown",
   "metadata": {},
   "source": [
    "### Why a Jupyter notebook?\n",
    "This exercise is again a Jupyter notebook, rather than Pluto.  Why?  When using the GPU, it is possible to do things that require restarting Julia in order to recover from.  That requires shutting down the Pluto server.  The way that our Pluto servier is run from JupyterLab, that would require killing your whole JupyterLab session and requesting a new one.  This exercise has some custom CUDA kernels.  When I tested it, the notebook worked correctly.  But I encourage students to try tweaking things, and that could easily lead to some errors that require a restart.  So I decided to put this into a Jupyter notebook.  In Jupyter, you can go to the *Kernel* menu and select *Restart Kernel* to get a new kernel and try again.\n",
    "\n",
    "### Setting up the GPU\n",
    "Remember that when using Jupyter, the order in which you execute cells affects the state of the notebook.  (In contrast to in Pluto, where it figures out the order that cells are to be run, so we can put implementation details at the bottom of the notebook, where they're less distracting.)\n",
    "Therefore, we place code in the order that it should be run.  We'll start loading the packages we'll use for writing our custom GPU kernels."
   ]
  },
  {
   "cell_type": "code",
   "execution_count": 1,
   "metadata": {},
   "outputs": [],
   "source": [
    "using KernelAbstractions   # Allows writing code once for different brand GPUs\n",
    "using CUDA, CUDAKernels    # for NVIDIA GPUs\n",
    "using BenchmarkTools       # for timing\n",
    "using Markdown"
   ]
  },
  {
   "cell_type": "markdown",
   "metadata": {},
   "source": [
    "As before we will check that the system we're running on has an NVIDIA GPU that we can use and check what's installed."
   ]
  },
  {
   "cell_type": "code",
   "execution_count": 2,
   "metadata": {},
   "outputs": [
    {
     "data": {
      "text/plain": [
       "CUDA.DeviceIterator() for 1 devices:\n",
       "0. Tesla P100-PCIE-12GB"
      ]
     },
     "execution_count": 2,
     "metadata": {},
     "output_type": "execute_result"
    }
   ],
   "source": [
    "CUDA.devices()"
   ]
  },
  {
   "cell_type": "code",
   "execution_count": 3,
   "metadata": {},
   "outputs": [
    {
     "name": "stdout",
     "output_type": "stream",
     "text": [
      "CUDA toolkit 11.4, artifact installation\n",
      "NVIDIA driver 440.64.0, for CUDA 10.2\n",
      "CUDA driver 11.4\n",
      "\n",
      "Libraries: \n",
      "- CUBLAS: 11.5.4\n",
      "- CURAND: 10.2.5\n",
      "- CUFFT: 10.5.1\n",
      "- CUSOLVER: 11.2.0\n",
      "- CUSPARSE: 11.6.0\n",
      "- CUPTI: 14.0.0\n",
      "- NVML: 10.0.0+440.64.0\n",
      "- CUDNN: 8.20.2 (for CUDA 11.4.0)\n",
      "- CUTENSOR: 1.3.0 (for CUDA 11.2.0)\n",
      "\n",
      "Toolchain:\n",
      "- Julia: 1.6.0\n",
      "- LLVM: 11.0.1\n",
      "- PTX ISA support: 3.2, 4.0, 4.1, 4.2, 4.3, 5.0, 6.0, 6.1, 6.3, 6.4, 6.5, 7.0\n",
      "- Device capability support: sm_35, sm_37, sm_50, sm_52, sm_53, sm_60, sm_61, sm_62, sm_70, sm_72, sm_75, sm_80\n",
      "\n",
      "1 device:\n",
      "  0: Tesla P100-PCIE-12GB (sm_60, 11.902 GiB / 11.912 GiB available)\n"
     ]
    }
   ],
   "source": [
    "CUDA.versioninfo()"
   ]
  },
  {
   "cell_type": "markdown",
   "metadata": {},
   "source": [
    "We'll make use of the GPU's warpsize later in the exericse, so let's get it now."
   ]
  },
  {
   "cell_type": "code",
   "execution_count": 4,
   "metadata": {},
   "outputs": [
    {
     "data": {
      "text/plain": [
       "32"
      ]
     },
     "execution_count": 4,
     "metadata": {},
     "output_type": "execute_result"
    }
   ],
   "source": [
    "warpsize(CUDA.device())"
   ]
  },
  {
   "cell_type": "markdown",
   "metadata": {},
   "source": [
    "## CPU version of code to run in parallel \n",
    "We'll write two functions that we'll convert into GPU kernels.  The first, `calc_rv_circ`, will be a simple function, so we keep things simple.  The second, `calc_rv_kepler`, will call other several user-written functions.  We'll even place the code to solve Kepler's equation in a module to help with code maintainability."
   ]
  },
  {
   "cell_type": "code",
   "execution_count": 5,
   "metadata": {},
   "outputs": [
    {
     "data": {
      "text/plain": [
       "calc_rv_circ (generic function with 1 method)"
      ]
     },
     "execution_count": 5,
     "metadata": {},
     "output_type": "execute_result"
    }
   ],
   "source": [
    "function calc_rv_circ(t::Real; param::NamedTuple )\n",
    "    P = param.P\n",
    "    K = param.K\n",
    "    M0 = param.M0\n",
    "    mean_anom = t*2π/P-M0\n",
    "    rv = K*sin(mean_anom)\n",
    "end"
   ]
  },
  {
   "cell_type": "markdown",
   "metadata": {},
   "source": [
    "### Code for computing radial velocity of a Keplerian orbit"
   ]
  },
  {
   "cell_type": "code",
   "execution_count": 6,
   "metadata": {},
   "outputs": [
    {
     "data": {
      "text/plain": [
       "Main.KeplerEqn"
      ]
     },
     "execution_count": 6,
     "metadata": {},
     "output_type": "execute_result"
    }
   ],
   "source": [
    "\"Solve Computing Eccentric Anomaly from Mean Anomally via Kepler's Equation\"\n",
    "module KeplerEqn\n",
    "using KernelAbstractions  # since we'll use KernelAbstractions to get slightly better performance.\n",
    "export calc_ecc_anom\n",
    "\n",
    "\"\"\"   ecc_anom_init_guess_danby(M, ecc)\n",
    "Initial guess for eccentric anomaly given mean anomaly (M) and eccentricity (ecc)\n",
    "    Based on \"The Solution of Kepler's Equations - Part Three\"  \n",
    "    Danby, J. M. A. (1987) Journal: Celestial Mechanics, Volume 40, Issue 3-4, pp. 303-312  1987C\n",
    "eMec..40..303D\n",
    "\"\"\"\n",
    "function ecc_anom_init_guess_danby(M, ecc)\n",
    "    k = convert(typeof(ecc),0.85)\n",
    "    if(M<zero(M)) M += 2pi end\n",
    "    (M<pi) ? M + k*ecc : M - k*ecc;\n",
    "end\n",
    "\n",
    "\"\"\"   update_ecc_anom_laguerre(E, M, ecc)\n",
    "Update the current guess (E) for the solution to Kepler's equation given mean anomaly (M) and ecc\n",
    "entricity (ecc)\n",
    "   Based on \"An Improved Algorithm due to Laguerre for the Solution of Kepler's Equation\"\n",
    "   Conway, B. A.  (1986) Celestial Mechanics, Volume 39, Issue 2, pp.199-211  1986CeMec..39..199C\n",
    "\"\"\"\n",
    "function update_ecc_anom_laguerre(E, M, ecc)\n",
    "  es, ec = ecc.*sincos(E)\n",
    "  F = (E-es)-M\n",
    "  Fp = one(E)-ec\n",
    "  Fpp = es\n",
    "  n = 5\n",
    "  root = sqrt(abs((n-1)*((n-1)*Fp*Fp-n*F*Fpp)))\n",
    "  denom = Fp>zero(E) ? Fp+root : Fp-root\n",
    "  return E-n*F/denom\n",
    "end\n",
    "\n",
    "const default_ecc_anom_tol = 1e-8\n",
    "\"Loop to update the current estimate of the solution to Kepler's equation.\"\n",
    "function calc_ecc_anom(mean_anom, ecc, tol = default_ecc_anom_tol )\n",
    "    default_max_its_laguerre = 200\n",
    "    max_its = default_max_its_laguerre\n",
    "    @assert zero(ecc) <= ecc < one(ecc)\n",
    "    @assert tol*100 <= one(tol)\n",
    "    #M = mod(mean_anom,convert(typeof(mean_anom),2pi))\n",
    "    M = rem2pi(mean_anom,RoundNearest)\n",
    "    E = ecc_anom_init_guess_danby(M,ecc)\n",
    "    # Slight optimization from our original CPU code here, to tell the GPU to try to unroll the first several itterations of the for loop. \n",
    "    #for i in 1:max_its\n",
    "    KernelAbstractions.Extras.@unroll 6 for i in 1:max_its\n",
    "       E_old = E\n",
    "       E = update_ecc_anom_laguerre(E_old, M, ecc)\n",
    "       if abs(E-E_old)<convert(typeof(mean_anom),tol) break end\n",
    "    end\n",
    "    return E\n",
    "end\n",
    "\n",
    "end # module KeplerEqn"
   ]
  },
  {
   "cell_type": "code",
   "execution_count": 7,
   "metadata": {},
   "outputs": [
    {
     "data": {
      "text/plain": [
       "calc_true_anom (generic function with 1 method)"
      ]
     },
     "execution_count": 7,
     "metadata": {},
     "output_type": "execute_result"
    }
   ],
   "source": [
    "function calc_true_anom(ecc_anom::Real, e::Real)\n",
    "    true_anom = 2*atan(sqrt((1+e)/(1-e))*tan(ecc_anom/2))\n",
    "end"
   ]
  },
  {
   "cell_type": "code",
   "execution_count": 8,
   "metadata": {},
   "outputs": [
    {
     "data": {
      "text/plain": [
       "calc_rv_kepler (generic function with 1 method)"
      ]
     },
     "execution_count": 8,
     "metadata": {},
     "output_type": "execute_result"
    }
   ],
   "source": [
    "function calc_rv_kepler(t::Real; param::NamedTuple )\n",
    "    P = param.P\n",
    "    K = param.K\n",
    "    ecc = param.e\n",
    "    ω = param.ω\n",
    "    M0 = param.M0\n",
    "    mean_anom = t*2π/P-M0\n",
    "    ecc_anom = KeplerEqn.calc_ecc_anom(mean_anom,ecc)\n",
    "    true_anom = calc_true_anom(ecc_anom,ecc)\n",
    "    rv = (cos(ω+true_anom)+ecc*cos(ω)) * K/sqrt((1-ecc)*(1+ecc))\n",
    "end"
   ]
  },
  {
   "cell_type": "markdown",
   "metadata": {},
   "source": [
    "## Writing GPU kernels with KernelAbstractions.jl\n",
    "The CPU version of `calc_rv_circ_kernel` and `calc_rv_kepler_kernel` operate on scalars.  For GPU calculations to be efficient, we need them to operate on arrays.  For some simple use cases (like the examples below), we could just use `map`.  However, it is useful to start simple when demonstrating how to write a custom GPU kernel.  Below we'll using the `KernelAbstractions` `@kernel` macro to simplify writing our GPU kernel.  For example, rather than calculating the index to operate on explicitly from the thread and block indices, we'll use the `@index` macro to get the index for each thread to operate on.  There's also a useful `@Const` macro that allows us to specify that the data in our input arrays will remain constant, allowing for memory-related optimizations that aren't always possible. It will be up to us when we call the kernel to make sure that there as many threads as elements of `y` and `times`.  "
   ]
  },
  {
   "cell_type": "code",
   "execution_count": 9,
   "metadata": {},
   "outputs": [
    {
     "data": {
      "text/plain": [
       "calc_rv_circ_kernel (generic function with 5 methods)"
      ]
     },
     "execution_count": 9,
     "metadata": {},
     "output_type": "execute_result"
    }
   ],
   "source": [
    "KernelAbstractions.@kernel function calc_rv_circ_kernel(y, @Const(times), @Const(param) )\n",
    "    I = @index(Global)\n",
    "    t = times[I]\n",
    "    y[I] = calc_rv_circ(t, param=param)\n",
    "end"
   ]
  },
  {
   "cell_type": "code",
   "execution_count": 10,
   "metadata": {},
   "outputs": [
    {
     "data": {
      "text/plain": [
       "calc_rv_kepler_kernel (generic function with 5 methods)"
      ]
     },
     "execution_count": 10,
     "metadata": {},
     "output_type": "execute_result"
    }
   ],
   "source": [
    "KernelAbstractions.@kernel function calc_rv_kepler_kernel(y, @Const(times), @Const(param) )\n",
    "    I = @index(Global)\n",
    "    t = times[I]\n",
    "    y[I] = calc_rv_kepler(t,param=param)\n",
    "end"
   ]
  },
  {
   "cell_type": "markdown",
   "metadata": {},
   "source": [
    "One great feature of the `KernelAbstractions.jl` package is that we can the core code for kernels once, and turn them into kernels that can run on a CPU, an NVIDIA GPU or an AMD GPU. \n",
    "In order to get a kernel that can be executed, we call the function returned by the `@kernel` macro, specifying the hardware we will use to execute the kernel.  \n",
    "Optionally, we can specify the *workgroup size* and the size of the global indices to be used, when we request the kernel.  If we don't provide that info now, then we'll need to provide it at runtime. As we discussed previously, its often useful for the compiler to have information at compile time.  Therefore, we'll specify the workgroup size at compile time in building our kernels below.  We'll leave the size of the global indices as a dynamic parameter, so that we don't need to recompile a kernel for each problem size."
   ]
  },
  {
   "cell_type": "code",
   "execution_count": 11,
   "metadata": {},
   "outputs": [
    {
     "data": {
      "text/plain": [
       "KernelAbstractions.Kernel{CPU, KernelAbstractions.NDIteration.StaticSize{(16,)}, KernelAbstractions.NDIteration.DynamicSize, typeof(cpu_calc_rv_circ_kernel)}(cpu_calc_rv_circ_kernel)"
      ]
     },
     "execution_count": 11,
     "metadata": {},
     "output_type": "execute_result"
    }
   ],
   "source": [
    "cpu_kernel_calc_rv_circ! = calc_rv_circ_kernel(CPU(), 16)"
   ]
  },
  {
   "cell_type": "code",
   "execution_count": 12,
   "metadata": {},
   "outputs": [
    {
     "data": {
      "text/plain": [
       "KernelAbstractions.Kernel{CPU, KernelAbstractions.NDIteration.StaticSize{(16,)}, KernelAbstractions.NDIteration.DynamicSize, typeof(cpu_calc_rv_kepler_kernel)}(cpu_calc_rv_kepler_kernel)"
      ]
     },
     "execution_count": 12,
     "metadata": {},
     "output_type": "execute_result"
    }
   ],
   "source": [
    "cpu_kernel_calc_rv_kepler! = calc_rv_kepler_kernel(CPU(), 16)"
   ]
  },
  {
   "cell_type": "markdown",
   "metadata": {},
   "source": [
    "## Generate data for testing kernels\n",
    "Let's generate some simulated data for testing our CPU kernels.  Below are functions that will make it easy to generate datasets of various sizes later in the exercise."
   ]
  },
  {
   "cell_type": "code",
   "execution_count": 13,
   "metadata": {},
   "outputs": [
    {
     "data": {
      "text/plain": [
       "generate_obs_data (generic function with 2 methods)"
      ]
     },
     "execution_count": 13,
     "metadata": {},
     "output_type": "execute_result"
    }
   ],
   "source": [
    "function generate_obs_data(times::AbstractArray; param, σ_obs, model)\n",
    "    num_obs = length(times)\n",
    "    rv_true = model.(times, param = param)\n",
    "    rv_obs = rv_true .+ σ_obs.*randn(num_obs)\n",
    "    obs_data = (; t=times, rv=rv_obs, σ=σ_obs.*ones(num_obs) )\n",
    "end\n",
    "\n",
    "function generate_obs_data(;time_span, num_obs, param, σ_obs, model)\n",
    "    days_in_year = 365.2425\n",
    "    times = sort(time_span*days_in_year*rand(num_obs))\n",
    "    generate_obs_data(times, param=param, σ_obs=σ_obs, model=model)\n",
    "end"
   ]
  },
  {
   "cell_type": "code",
   "execution_count": 14,
   "metadata": {
    "tags": []
   },
   "outputs": [
    {
     "data": {
      "text/plain": [
       "(P = 3.0, K = 5.0, e = 0.4, ω = 0.7853981633974483, M0 = 0.7853981633974483)"
      ]
     },
     "execution_count": 14,
     "metadata": {},
     "output_type": "execute_result"
    }
   ],
   "source": [
    "begin\n",
    "    P_true = 3.0\n",
    "    K_true = 5.0\n",
    "    e_true = 0.4\n",
    "    ω_true = π/4\n",
    "    M0_true = π/4\n",
    "    θ_true  = (;P=P_true, K=K_true, e=e_true, ω=ω_true, M0=M0_true )\n",
    "end"
   ]
  },
  {
   "cell_type": "code",
   "execution_count": 15,
   "metadata": {},
   "outputs": [],
   "source": [
    "n_obs = 1_000_000\n",
    "time_span_in_years = 1\n",
    "obs_data = generate_obs_data(time_span=time_span_in_years, num_obs=n_obs, param=θ_true, σ_obs=1.0, model=calc_rv_kepler);"
   ]
  },
  {
   "cell_type": "markdown",
   "metadata": {},
   "source": [
    "It's often nice to visualize our data, just to make sure our code is doing what we expect.  I've commented out the plotting code, so the pbs script will work.  Also, note that if we plotted all the data, it would take a *very* long time, you'll be better off just ploting a random sample of the points."
   ]
  },
  {
   "cell_type": "code",
   "execution_count": null,
   "metadata": {},
   "outputs": [],
   "source": [
    "#using Plots"
   ]
  },
  {
   "cell_type": "code",
   "execution_count": 16,
   "metadata": {},
   "outputs": [
    {
     "data": {
      "image/svg+xml": [
       "<?xml version=\"1.0\" encoding=\"utf-8\"?>\n",
       "<svg xmlns=\"http://www.w3.org/2000/svg\" xmlns:xlink=\"http://www.w3.org/1999/xlink\" width=\"600\" height=\"400\" viewBox=\"0 0 2400 1600\">\n",
       "<defs>\n",
       "  <clipPath id=\"clip980\">\n",
       "    <rect x=\"0\" y=\"0\" width=\"2400\" height=\"1600\"/>\n",
       "  </clipPath>\n",
       "</defs>\n",
       "<path clip-path=\"url(#clip980)\" d=\"\n",
       "M0 1600 L2400 1600 L2400 0 L0 0  Z\n",
       "  \" fill=\"#ffffff\" fill-rule=\"evenodd\" fill-opacity=\"1\"/>\n",
       "<defs>\n",
       "  <clipPath id=\"clip981\">\n",
       "    <rect x=\"480\" y=\"0\" width=\"1681\" height=\"1600\"/>\n",
       "  </clipPath>\n",
       "</defs>\n",
       "<path clip-path=\"url(#clip980)\" d=\"\n",
       "M257.204 1423.18 L2352.76 1423.18 L2352.76 123.472 L257.204 123.472  Z\n",
       "  \" fill=\"#ffffff\" fill-rule=\"evenodd\" fill-opacity=\"1\"/>\n",
       "<defs>\n",
       "  <clipPath id=\"clip982\">\n",
       "    <rect x=\"257\" y=\"123\" width=\"2097\" height=\"1301\"/>\n",
       "  </clipPath>\n",
       "</defs>\n",
       "<polyline clip-path=\"url(#clip982)\" style=\"stroke:#000000; stroke-linecap:butt; stroke-linejoin:round; stroke-width:2; stroke-opacity:0.1; fill:none\" points=\"\n",
       "  308.645,1423.18 308.645,123.472 \n",
       "  \"/>\n",
       "<polyline clip-path=\"url(#clip982)\" style=\"stroke:#000000; stroke-linecap:butt; stroke-linejoin:round; stroke-width:2; stroke-opacity:0.1; fill:none\" points=\"\n",
       "  852.537,1423.18 852.537,123.472 \n",
       "  \"/>\n",
       "<polyline clip-path=\"url(#clip982)\" style=\"stroke:#000000; stroke-linecap:butt; stroke-linejoin:round; stroke-width:2; stroke-opacity:0.1; fill:none\" points=\"\n",
       "  1396.43,1423.18 1396.43,123.472 \n",
       "  \"/>\n",
       "<polyline clip-path=\"url(#clip982)\" style=\"stroke:#000000; stroke-linecap:butt; stroke-linejoin:round; stroke-width:2; stroke-opacity:0.1; fill:none\" points=\"\n",
       "  1940.32,1423.18 1940.32,123.472 \n",
       "  \"/>\n",
       "<polyline clip-path=\"url(#clip980)\" style=\"stroke:#000000; stroke-linecap:butt; stroke-linejoin:round; stroke-width:4; stroke-opacity:1; fill:none\" points=\"\n",
       "  257.204,1423.18 2352.76,1423.18 \n",
       "  \"/>\n",
       "<polyline clip-path=\"url(#clip980)\" style=\"stroke:#000000; stroke-linecap:butt; stroke-linejoin:round; stroke-width:4; stroke-opacity:1; fill:none\" points=\"\n",
       "  308.645,1423.18 308.645,1404.28 \n",
       "  \"/>\n",
       "<polyline clip-path=\"url(#clip980)\" style=\"stroke:#000000; stroke-linecap:butt; stroke-linejoin:round; stroke-width:4; stroke-opacity:1; fill:none\" points=\"\n",
       "  852.537,1423.18 852.537,1404.28 \n",
       "  \"/>\n",
       "<polyline clip-path=\"url(#clip980)\" style=\"stroke:#000000; stroke-linecap:butt; stroke-linejoin:round; stroke-width:4; stroke-opacity:1; fill:none\" points=\"\n",
       "  1396.43,1423.18 1396.43,1404.28 \n",
       "  \"/>\n",
       "<polyline clip-path=\"url(#clip980)\" style=\"stroke:#000000; stroke-linecap:butt; stroke-linejoin:round; stroke-width:4; stroke-opacity:1; fill:none\" points=\"\n",
       "  1940.32,1423.18 1940.32,1404.28 \n",
       "  \"/>\n",
       "<path clip-path=\"url(#clip980)\" d=\"M308.645 1454.1 Q305.034 1454.1 303.205 1457.66 Q301.4 1461.2 301.4 1468.33 Q301.4 1475.44 303.205 1479.01 Q305.034 1482.55 308.645 1482.55 Q312.279 1482.55 314.085 1479.01 Q315.914 1475.44 315.914 1468.33 Q315.914 1461.2 314.085 1457.66 Q312.279 1454.1 308.645 1454.1 M308.645 1450.39 Q314.455 1450.39 317.511 1455 Q320.589 1459.58 320.589 1468.33 Q320.589 1477.06 317.511 1481.67 Q314.455 1486.25 308.645 1486.25 Q302.835 1486.25 299.756 1481.67 Q296.701 1477.06 296.701 1468.33 Q296.701 1459.58 299.756 1455 Q302.835 1450.39 308.645 1450.39 Z\" fill=\"#000000\" fill-rule=\"evenodd\" fill-opacity=\"1\" /><path clip-path=\"url(#clip980)\" d=\"M812.143 1481.64 L819.782 1481.64 L819.782 1455.28 L811.472 1456.95 L811.472 1452.69 L819.736 1451.02 L824.412 1451.02 L824.412 1481.64 L832.051 1481.64 L832.051 1485.58 L812.143 1485.58 L812.143 1481.64 Z\" fill=\"#000000\" fill-rule=\"evenodd\" fill-opacity=\"1\" /><path clip-path=\"url(#clip980)\" d=\"M851.495 1454.1 Q847.884 1454.1 846.055 1457.66 Q844.25 1461.2 844.25 1468.33 Q844.25 1475.44 846.055 1479.01 Q847.884 1482.55 851.495 1482.55 Q855.129 1482.55 856.935 1479.01 Q858.763 1475.44 858.763 1468.33 Q858.763 1461.2 856.935 1457.66 Q855.129 1454.1 851.495 1454.1 M851.495 1450.39 Q857.305 1450.39 860.361 1455 Q863.439 1459.58 863.439 1468.33 Q863.439 1477.06 860.361 1481.67 Q857.305 1486.25 851.495 1486.25 Q845.685 1486.25 842.606 1481.67 Q839.551 1477.06 839.551 1468.33 Q839.551 1459.58 842.606 1455 Q845.685 1450.39 851.495 1450.39 Z\" fill=\"#000000\" fill-rule=\"evenodd\" fill-opacity=\"1\" /><path clip-path=\"url(#clip980)\" d=\"M881.657 1454.1 Q878.046 1454.1 876.217 1457.66 Q874.411 1461.2 874.411 1468.33 Q874.411 1475.44 876.217 1479.01 Q878.046 1482.55 881.657 1482.55 Q885.291 1482.55 887.097 1479.01 Q888.925 1475.44 888.925 1468.33 Q888.925 1461.2 887.097 1457.66 Q885.291 1454.1 881.657 1454.1 M881.657 1450.39 Q887.467 1450.39 890.522 1455 Q893.601 1459.58 893.601 1468.33 Q893.601 1477.06 890.522 1481.67 Q887.467 1486.25 881.657 1486.25 Q875.847 1486.25 872.768 1481.67 Q869.712 1477.06 869.712 1468.33 Q869.712 1459.58 872.768 1455 Q875.847 1450.39 881.657 1450.39 Z\" fill=\"#000000\" fill-rule=\"evenodd\" fill-opacity=\"1\" /><path clip-path=\"url(#clip980)\" d=\"M1360.12 1481.64 L1376.44 1481.64 L1376.44 1485.58 L1354.5 1485.58 L1354.5 1481.64 Q1357.16 1478.89 1361.74 1474.26 Q1366.35 1469.61 1367.53 1468.27 Q1369.77 1465.74 1370.65 1464.01 Q1371.56 1462.25 1371.56 1460.56 Q1371.56 1457.8 1369.61 1456.07 Q1367.69 1454.33 1364.59 1454.33 Q1362.39 1454.33 1359.94 1455.09 Q1357.5 1455.86 1354.73 1457.41 L1354.73 1452.69 Q1357.55 1451.55 1360 1450.97 Q1362.46 1450.39 1364.5 1450.39 Q1369.87 1450.39 1373.06 1453.08 Q1376.25 1455.77 1376.25 1460.26 Q1376.25 1462.39 1375.44 1464.31 Q1374.66 1466.2 1372.55 1468.8 Q1371.97 1469.47 1368.87 1472.69 Q1365.77 1475.88 1360.12 1481.64 Z\" fill=\"#000000\" fill-rule=\"evenodd\" fill-opacity=\"1\" /><path clip-path=\"url(#clip980)\" d=\"M1396.25 1454.1 Q1392.64 1454.1 1390.81 1457.66 Q1389.01 1461.2 1389.01 1468.33 Q1389.01 1475.44 1390.81 1479.01 Q1392.64 1482.55 1396.25 1482.55 Q1399.89 1482.55 1401.69 1479.01 Q1403.52 1475.44 1403.52 1468.33 Q1403.52 1461.2 1401.69 1457.66 Q1399.89 1454.1 1396.25 1454.1 M1396.25 1450.39 Q1402.06 1450.39 1405.12 1455 Q1408.2 1459.58 1408.2 1468.33 Q1408.2 1477.06 1405.12 1481.67 Q1402.06 1486.25 1396.25 1486.25 Q1390.44 1486.25 1387.37 1481.67 Q1384.31 1477.06 1384.31 1468.33 Q1384.31 1459.58 1387.37 1455 Q1390.44 1450.39 1396.25 1450.39 Z\" fill=\"#000000\" fill-rule=\"evenodd\" fill-opacity=\"1\" /><path clip-path=\"url(#clip980)\" d=\"M1426.42 1454.1 Q1422.81 1454.1 1420.98 1457.66 Q1419.17 1461.2 1419.17 1468.33 Q1419.17 1475.44 1420.98 1479.01 Q1422.81 1482.55 1426.42 1482.55 Q1430.05 1482.55 1431.86 1479.01 Q1433.68 1475.44 1433.68 1468.33 Q1433.68 1461.2 1431.86 1457.66 Q1430.05 1454.1 1426.42 1454.1 M1426.42 1450.39 Q1432.23 1450.39 1435.28 1455 Q1438.36 1459.58 1438.36 1468.33 Q1438.36 1477.06 1435.28 1481.67 Q1432.23 1486.25 1426.42 1486.25 Q1420.61 1486.25 1417.53 1481.67 Q1414.47 1477.06 1414.47 1468.33 Q1414.47 1459.58 1417.53 1455 Q1420.61 1450.39 1426.42 1450.39 Z\" fill=\"#000000\" fill-rule=\"evenodd\" fill-opacity=\"1\" /><path clip-path=\"url(#clip980)\" d=\"M1914.08 1466.95 Q1917.44 1467.66 1919.31 1469.93 Q1921.21 1472.2 1921.21 1475.53 Q1921.21 1480.65 1917.69 1483.45 Q1914.17 1486.25 1907.69 1486.25 Q1905.52 1486.25 1903.2 1485.81 Q1900.91 1485.39 1898.46 1484.54 L1898.46 1480.02 Q1900.4 1481.16 1902.72 1481.74 Q1905.03 1482.32 1907.55 1482.32 Q1911.95 1482.32 1914.24 1480.58 Q1916.56 1478.84 1916.56 1475.53 Q1916.56 1472.48 1914.41 1470.77 Q1912.28 1469.03 1908.46 1469.03 L1904.43 1469.03 L1904.43 1465.19 L1908.64 1465.19 Q1912.09 1465.19 1913.92 1463.82 Q1915.75 1462.43 1915.75 1459.84 Q1915.75 1457.18 1913.85 1455.77 Q1911.97 1454.33 1908.46 1454.33 Q1906.54 1454.33 1904.34 1454.75 Q1902.14 1455.16 1899.5 1456.04 L1899.5 1451.88 Q1902.16 1451.14 1904.47 1450.77 Q1906.81 1450.39 1908.87 1450.39 Q1914.2 1450.39 1917.3 1452.83 Q1920.4 1455.23 1920.4 1459.35 Q1920.4 1462.22 1918.76 1464.21 Q1917.11 1466.18 1914.08 1466.95 Z\" fill=\"#000000\" fill-rule=\"evenodd\" fill-opacity=\"1\" /><path clip-path=\"url(#clip980)\" d=\"M1940.08 1454.1 Q1936.47 1454.1 1934.64 1457.66 Q1932.83 1461.2 1932.83 1468.33 Q1932.83 1475.44 1934.64 1479.01 Q1936.47 1482.55 1940.08 1482.55 Q1943.71 1482.55 1945.52 1479.01 Q1947.35 1475.44 1947.35 1468.33 Q1947.35 1461.2 1945.52 1457.66 Q1943.71 1454.1 1940.08 1454.1 M1940.08 1450.39 Q1945.89 1450.39 1948.94 1455 Q1952.02 1459.58 1952.02 1468.33 Q1952.02 1477.06 1948.94 1481.67 Q1945.89 1486.25 1940.08 1486.25 Q1934.27 1486.25 1931.19 1481.67 Q1928.13 1477.06 1928.13 1468.33 Q1928.13 1459.58 1931.19 1455 Q1934.27 1450.39 1940.08 1450.39 Z\" fill=\"#000000\" fill-rule=\"evenodd\" fill-opacity=\"1\" /><path clip-path=\"url(#clip980)\" d=\"M1970.24 1454.1 Q1966.63 1454.1 1964.8 1457.66 Q1962.99 1461.2 1962.99 1468.33 Q1962.99 1475.44 1964.8 1479.01 Q1966.63 1482.55 1970.24 1482.55 Q1973.87 1482.55 1975.68 1479.01 Q1977.51 1475.44 1977.51 1468.33 Q1977.51 1461.2 1975.68 1457.66 Q1973.87 1454.1 1970.24 1454.1 M1970.24 1450.39 Q1976.05 1450.39 1979.1 1455 Q1982.18 1459.58 1982.18 1468.33 Q1982.18 1477.06 1979.1 1481.67 Q1976.05 1486.25 1970.24 1486.25 Q1964.43 1486.25 1961.35 1481.67 Q1958.29 1477.06 1958.29 1468.33 Q1958.29 1459.58 1961.35 1455 Q1964.43 1450.39 1970.24 1450.39 Z\" fill=\"#000000\" fill-rule=\"evenodd\" fill-opacity=\"1\" /><path clip-path=\"url(#clip980)\" d=\"M1171.44 1520.52 L1211.64 1520.52 L1211.64 1525.93 L1194.77 1525.93 L1194.77 1568.04 L1188.31 1568.04 L1188.31 1525.93 L1171.44 1525.93 L1171.44 1520.52 Z\" fill=\"#000000\" fill-rule=\"evenodd\" fill-opacity=\"1\" /><path clip-path=\"url(#clip980)\" d=\"M1215.59 1532.4 L1221.45 1532.4 L1221.45 1568.04 L1215.59 1568.04 L1215.59 1532.4 M1215.59 1518.52 L1221.45 1518.52 L1221.45 1525.93 L1215.59 1525.93 L1215.59 1518.52 Z\" fill=\"#000000\" fill-rule=\"evenodd\" fill-opacity=\"1\" /><path clip-path=\"url(#clip980)\" d=\"M1261.45 1539.24 Q1263.65 1535.29 1266.71 1533.41 Q1269.76 1531.54 1273.9 1531.54 Q1279.47 1531.54 1282.49 1535.45 Q1285.52 1539.33 1285.52 1546.53 L1285.52 1568.04 L1279.63 1568.04 L1279.63 1546.72 Q1279.63 1541.59 1277.81 1539.11 Q1276 1536.63 1272.28 1536.63 Q1267.72 1536.63 1265.08 1539.65 Q1262.44 1542.68 1262.44 1547.9 L1262.44 1568.04 L1256.55 1568.04 L1256.55 1546.72 Q1256.55 1541.56 1254.74 1539.11 Q1252.92 1536.63 1249.14 1536.63 Q1244.65 1536.63 1242.01 1539.68 Q1239.37 1542.71 1239.37 1547.9 L1239.37 1568.04 L1233.48 1568.04 L1233.48 1532.4 L1239.37 1532.4 L1239.37 1537.93 Q1241.37 1534.66 1244.17 1533.1 Q1246.97 1531.54 1250.82 1531.54 Q1254.71 1531.54 1257.41 1533.51 Q1260.15 1535.48 1261.45 1539.24 Z\" fill=\"#000000\" fill-rule=\"evenodd\" fill-opacity=\"1\" /><path clip-path=\"url(#clip980)\" d=\"M1327.69 1548.76 L1327.69 1551.62 L1300.76 1551.62 Q1301.14 1557.67 1304.39 1560.85 Q1307.67 1564 1313.49 1564 Q1316.87 1564 1320.02 1563.17 Q1323.2 1562.35 1326.32 1560.69 L1326.32 1566.23 Q1323.17 1567.57 1319.86 1568.27 Q1316.55 1568.97 1313.14 1568.97 Q1304.61 1568.97 1299.62 1564 Q1294.65 1559.04 1294.65 1550.57 Q1294.65 1541.82 1299.36 1536.69 Q1304.1 1531.54 1312.13 1531.54 Q1319.32 1531.54 1323.49 1536.18 Q1327.69 1540.8 1327.69 1548.76 M1321.83 1547.04 Q1321.77 1542.23 1319.13 1539.37 Q1316.52 1536.5 1312.19 1536.5 Q1307.29 1536.5 1304.33 1539.27 Q1301.4 1542.04 1300.95 1547.07 L1321.83 1547.04 Z\" fill=\"#000000\" fill-rule=\"evenodd\" fill-opacity=\"1\" /><path clip-path=\"url(#clip980)\" d=\"M1372.09 1518.58 Q1367.83 1525.9 1365.76 1533.06 Q1363.69 1540.23 1363.69 1547.58 Q1363.69 1554.93 1365.76 1562.16 Q1367.86 1569.35 1372.09 1576.64 L1367 1576.64 Q1362.22 1569.16 1359.84 1561.93 Q1357.48 1554.71 1357.48 1547.58 Q1357.48 1540.48 1359.84 1533.29 Q1362.19 1526.09 1367 1518.58 L1372.09 1518.58 Z\" fill=\"#000000\" fill-rule=\"evenodd\" fill-opacity=\"1\" /><path clip-path=\"url(#clip980)\" d=\"M1406.91 1537.81 L1406.91 1518.52 L1412.77 1518.52 L1412.77 1568.04 L1406.91 1568.04 L1406.91 1562.7 Q1405.06 1565.88 1402.23 1567.44 Q1399.43 1568.97 1395.48 1568.97 Q1389.02 1568.97 1384.95 1563.81 Q1380.91 1558.65 1380.91 1550.25 Q1380.91 1541.85 1384.95 1536.69 Q1389.02 1531.54 1395.48 1531.54 Q1399.43 1531.54 1402.23 1533.1 Q1405.06 1534.62 1406.91 1537.81 M1386.95 1550.25 Q1386.95 1556.71 1389.6 1560.4 Q1392.27 1564.07 1396.92 1564.07 Q1401.56 1564.07 1404.24 1560.4 Q1406.91 1556.71 1406.91 1550.25 Q1406.91 1543.79 1404.24 1540.13 Q1401.56 1536.44 1396.92 1536.44 Q1392.27 1536.44 1389.6 1540.13 Q1386.95 1543.79 1386.95 1550.25 Z\" fill=\"#000000\" fill-rule=\"evenodd\" fill-opacity=\"1\" /><path clip-path=\"url(#clip980)\" d=\"M1423.91 1518.58 L1429 1518.58 Q1433.77 1526.09 1436.13 1533.29 Q1438.52 1540.48 1438.52 1547.58 Q1438.52 1554.71 1436.13 1561.93 Q1433.77 1569.16 1429 1576.64 L1423.91 1576.64 Q1428.14 1569.35 1430.21 1562.16 Q1432.31 1554.93 1432.31 1547.58 Q1432.31 1540.23 1430.21 1533.06 Q1428.14 1525.9 1423.91 1518.58 Z\" fill=\"#000000\" fill-rule=\"evenodd\" fill-opacity=\"1\" /><polyline clip-path=\"url(#clip982)\" style=\"stroke:#000000; stroke-linecap:butt; stroke-linejoin:round; stroke-width:2; stroke-opacity:0.1; fill:none\" points=\"\n",
       "  257.204,1245.53 2352.76,1245.53 \n",
       "  \"/>\n",
       "<polyline clip-path=\"url(#clip982)\" style=\"stroke:#000000; stroke-linecap:butt; stroke-linejoin:round; stroke-width:2; stroke-opacity:0.1; fill:none\" points=\"\n",
       "  257.204,1052.91 2352.76,1052.91 \n",
       "  \"/>\n",
       "<polyline clip-path=\"url(#clip982)\" style=\"stroke:#000000; stroke-linecap:butt; stroke-linejoin:round; stroke-width:2; stroke-opacity:0.1; fill:none\" points=\"\n",
       "  257.204,860.277 2352.76,860.277 \n",
       "  \"/>\n",
       "<polyline clip-path=\"url(#clip982)\" style=\"stroke:#000000; stroke-linecap:butt; stroke-linejoin:round; stroke-width:2; stroke-opacity:0.1; fill:none\" points=\"\n",
       "  257.204,667.649 2352.76,667.649 \n",
       "  \"/>\n",
       "<polyline clip-path=\"url(#clip982)\" style=\"stroke:#000000; stroke-linecap:butt; stroke-linejoin:round; stroke-width:2; stroke-opacity:0.1; fill:none\" points=\"\n",
       "  257.204,475.021 2352.76,475.021 \n",
       "  \"/>\n",
       "<polyline clip-path=\"url(#clip982)\" style=\"stroke:#000000; stroke-linecap:butt; stroke-linejoin:round; stroke-width:2; stroke-opacity:0.1; fill:none\" points=\"\n",
       "  257.204,282.393 2352.76,282.393 \n",
       "  \"/>\n",
       "<polyline clip-path=\"url(#clip980)\" style=\"stroke:#000000; stroke-linecap:butt; stroke-linejoin:round; stroke-width:4; stroke-opacity:1; fill:none\" points=\"\n",
       "  257.204,1423.18 257.204,123.472 \n",
       "  \"/>\n",
       "<polyline clip-path=\"url(#clip980)\" style=\"stroke:#000000; stroke-linecap:butt; stroke-linejoin:round; stroke-width:4; stroke-opacity:1; fill:none\" points=\"\n",
       "  257.204,1245.53 276.102,1245.53 \n",
       "  \"/>\n",
       "<polyline clip-path=\"url(#clip980)\" style=\"stroke:#000000; stroke-linecap:butt; stroke-linejoin:round; stroke-width:4; stroke-opacity:1; fill:none\" points=\"\n",
       "  257.204,1052.91 276.102,1052.91 \n",
       "  \"/>\n",
       "<polyline clip-path=\"url(#clip980)\" style=\"stroke:#000000; stroke-linecap:butt; stroke-linejoin:round; stroke-width:4; stroke-opacity:1; fill:none\" points=\"\n",
       "  257.204,860.277 276.102,860.277 \n",
       "  \"/>\n",
       "<polyline clip-path=\"url(#clip980)\" style=\"stroke:#000000; stroke-linecap:butt; stroke-linejoin:round; stroke-width:4; stroke-opacity:1; fill:none\" points=\"\n",
       "  257.204,667.649 276.102,667.649 \n",
       "  \"/>\n",
       "<polyline clip-path=\"url(#clip980)\" style=\"stroke:#000000; stroke-linecap:butt; stroke-linejoin:round; stroke-width:4; stroke-opacity:1; fill:none\" points=\"\n",
       "  257.204,475.021 276.102,475.021 \n",
       "  \"/>\n",
       "<polyline clip-path=\"url(#clip980)\" style=\"stroke:#000000; stroke-linecap:butt; stroke-linejoin:round; stroke-width:4; stroke-opacity:1; fill:none\" points=\"\n",
       "  257.204,282.393 276.102,282.393 \n",
       "  \"/>\n",
       "<path clip-path=\"url(#clip980)\" d=\"M114.26 1245.98 L143.936 1245.98 L143.936 1249.92 L114.26 1249.92 L114.26 1245.98 Z\" fill=\"#000000\" fill-rule=\"evenodd\" fill-opacity=\"1\" /><path clip-path=\"url(#clip980)\" d=\"M154.075 1228.25 L172.431 1228.25 L172.431 1232.19 L158.357 1232.19 L158.357 1240.66 Q159.376 1240.31 160.394 1240.15 Q161.413 1239.97 162.431 1239.97 Q168.218 1239.97 171.598 1243.14 Q174.977 1246.31 174.977 1251.73 Q174.977 1257.3 171.505 1260.41 Q168.033 1263.48 161.714 1263.48 Q159.538 1263.48 157.269 1263.11 Q155.024 1262.74 152.616 1262 L152.616 1257.3 Q154.7 1258.44 156.922 1258.99 Q159.144 1259.55 161.621 1259.55 Q165.626 1259.55 167.964 1257.44 Q170.302 1255.34 170.302 1251.73 Q170.302 1248.11 167.964 1246.01 Q165.626 1243.9 161.621 1243.9 Q159.746 1243.9 157.871 1244.32 Q156.019 1244.73 154.075 1245.61 L154.075 1228.25 Z\" fill=\"#000000\" fill-rule=\"evenodd\" fill-opacity=\"1\" /><path clip-path=\"url(#clip980)\" d=\"M184.19 1256.93 L189.075 1256.93 L189.075 1262.81 L184.19 1262.81 L184.19 1256.93 Z\" fill=\"#000000\" fill-rule=\"evenodd\" fill-opacity=\"1\" /><path clip-path=\"url(#clip980)\" d=\"M209.26 1231.33 Q205.649 1231.33 203.82 1234.9 Q202.014 1238.44 202.014 1245.57 Q202.014 1252.67 203.82 1256.24 Q205.649 1259.78 209.26 1259.78 Q212.894 1259.78 214.699 1256.24 Q216.528 1252.67 216.528 1245.57 Q216.528 1238.44 214.699 1234.9 Q212.894 1231.33 209.26 1231.33 M209.26 1227.63 Q215.07 1227.63 218.125 1232.23 Q221.204 1236.82 221.204 1245.57 Q221.204 1254.29 218.125 1258.9 Q215.07 1263.48 209.26 1263.48 Q203.449 1263.48 200.371 1258.9 Q197.315 1254.29 197.315 1245.57 Q197.315 1236.82 200.371 1232.23 Q203.449 1227.63 209.26 1227.63 Z\" fill=\"#000000\" fill-rule=\"evenodd\" fill-opacity=\"1\" /><path clip-path=\"url(#clip980)\" d=\"M115.256 1053.36 L144.931 1053.36 L144.931 1057.29 L115.256 1057.29 L115.256 1053.36 Z\" fill=\"#000000\" fill-rule=\"evenodd\" fill-opacity=\"1\" /><path clip-path=\"url(#clip980)\" d=\"M159.052 1066.25 L175.371 1066.25 L175.371 1070.19 L153.427 1070.19 L153.427 1066.25 Q156.089 1063.5 160.672 1058.87 Q165.278 1054.21 166.459 1052.87 Q168.704 1050.35 169.584 1048.61 Q170.487 1046.85 170.487 1045.16 Q170.487 1042.41 168.542 1040.67 Q166.621 1038.94 163.519 1038.94 Q161.32 1038.94 158.866 1039.7 Q156.436 1040.46 153.658 1042.01 L153.658 1037.29 Q156.482 1036.16 158.936 1035.58 Q161.39 1035 163.427 1035 Q168.797 1035 171.991 1037.69 Q175.186 1040.37 175.186 1044.86 Q175.186 1046.99 174.376 1048.91 Q173.589 1050.81 171.482 1053.4 Q170.903 1054.07 167.802 1057.29 Q164.7 1060.49 159.052 1066.25 Z\" fill=\"#000000\" fill-rule=\"evenodd\" fill-opacity=\"1\" /><path clip-path=\"url(#clip980)\" d=\"M185.186 1064.31 L190.07 1064.31 L190.07 1070.19 L185.186 1070.19 L185.186 1064.31 Z\" fill=\"#000000\" fill-rule=\"evenodd\" fill-opacity=\"1\" /><path clip-path=\"url(#clip980)\" d=\"M200.301 1035.63 L218.658 1035.63 L218.658 1039.56 L204.584 1039.56 L204.584 1048.03 Q205.602 1047.69 206.621 1047.52 Q207.639 1047.34 208.658 1047.34 Q214.445 1047.34 217.824 1050.51 Q221.204 1053.68 221.204 1059.1 Q221.204 1064.68 217.732 1067.78 Q214.26 1070.86 207.94 1070.86 Q205.764 1070.86 203.496 1070.49 Q201.25 1070.12 198.843 1069.38 L198.843 1064.68 Q200.926 1065.81 203.149 1066.37 Q205.371 1066.92 207.848 1066.92 Q211.852 1066.92 214.19 1064.81 Q216.528 1062.71 216.528 1059.1 Q216.528 1055.49 214.19 1053.38 Q211.852 1051.27 207.848 1051.27 Q205.973 1051.27 204.098 1051.69 Q202.246 1052.11 200.301 1052.99 L200.301 1035.63 Z\" fill=\"#000000\" fill-rule=\"evenodd\" fill-opacity=\"1\" /><path clip-path=\"url(#clip980)\" d=\"M164.028 846.076 Q160.417 846.076 158.589 849.641 Q156.783 853.182 156.783 860.312 Q156.783 867.418 158.589 870.983 Q160.417 874.525 164.028 874.525 Q167.663 874.525 169.468 870.983 Q171.297 867.418 171.297 860.312 Q171.297 853.182 169.468 849.641 Q167.663 846.076 164.028 846.076 M164.028 842.372 Q169.839 842.372 172.894 846.979 Q175.973 851.562 175.973 860.312 Q175.973 869.039 172.894 873.645 Q169.839 878.229 164.028 878.229 Q158.218 878.229 155.14 873.645 Q152.084 869.039 152.084 860.312 Q152.084 851.562 155.14 846.979 Q158.218 842.372 164.028 842.372 Z\" fill=\"#000000\" fill-rule=\"evenodd\" fill-opacity=\"1\" /><path clip-path=\"url(#clip980)\" d=\"M184.19 871.678 L189.075 871.678 L189.075 877.557 L184.19 877.557 L184.19 871.678 Z\" fill=\"#000000\" fill-rule=\"evenodd\" fill-opacity=\"1\" /><path clip-path=\"url(#clip980)\" d=\"M209.26 846.076 Q205.649 846.076 203.82 849.641 Q202.014 853.182 202.014 860.312 Q202.014 867.418 203.82 870.983 Q205.649 874.525 209.26 874.525 Q212.894 874.525 214.699 870.983 Q216.528 867.418 216.528 860.312 Q216.528 853.182 214.699 849.641 Q212.894 846.076 209.26 846.076 M209.26 842.372 Q215.07 842.372 218.125 846.979 Q221.204 851.562 221.204 860.312 Q221.204 869.039 218.125 873.645 Q215.07 878.229 209.26 878.229 Q203.449 878.229 200.371 873.645 Q197.315 869.039 197.315 860.312 Q197.315 851.562 200.371 846.979 Q203.449 842.372 209.26 842.372 Z\" fill=\"#000000\" fill-rule=\"evenodd\" fill-opacity=\"1\" /><path clip-path=\"url(#clip980)\" d=\"M159.052 680.994 L175.371 680.994 L175.371 684.929 L153.427 684.929 L153.427 680.994 Q156.089 678.239 160.672 673.61 Q165.278 668.957 166.459 667.615 Q168.704 665.091 169.584 663.355 Q170.487 661.596 170.487 659.906 Q170.487 657.152 168.542 655.416 Q166.621 653.679 163.519 653.679 Q161.32 653.679 158.866 654.443 Q156.436 655.207 153.658 656.758 L153.658 652.036 Q156.482 650.902 158.936 650.323 Q161.39 649.744 163.427 649.744 Q168.797 649.744 171.991 652.429 Q175.186 655.115 175.186 659.605 Q175.186 661.735 174.376 663.656 Q173.589 665.554 171.482 668.147 Q170.903 668.818 167.802 672.036 Q164.7 675.23 159.052 680.994 Z\" fill=\"#000000\" fill-rule=\"evenodd\" fill-opacity=\"1\" /><path clip-path=\"url(#clip980)\" d=\"M185.186 679.05 L190.07 679.05 L190.07 684.929 L185.186 684.929 L185.186 679.05 Z\" fill=\"#000000\" fill-rule=\"evenodd\" fill-opacity=\"1\" /><path clip-path=\"url(#clip980)\" d=\"M200.301 650.369 L218.658 650.369 L218.658 654.304 L204.584 654.304 L204.584 662.777 Q205.602 662.429 206.621 662.267 Q207.639 662.082 208.658 662.082 Q214.445 662.082 217.824 665.253 Q221.204 668.425 221.204 673.841 Q221.204 679.42 217.732 682.522 Q214.26 685.601 207.94 685.601 Q205.764 685.601 203.496 685.23 Q201.25 684.86 198.843 684.119 L198.843 679.42 Q200.926 680.554 203.149 681.11 Q205.371 681.665 207.848 681.665 Q211.852 681.665 214.19 679.559 Q216.528 677.452 216.528 673.841 Q216.528 670.23 214.19 668.124 Q211.852 666.017 207.848 666.017 Q205.973 666.017 204.098 666.434 Q202.246 666.851 200.301 667.73 L200.301 650.369 Z\" fill=\"#000000\" fill-rule=\"evenodd\" fill-opacity=\"1\" /><path clip-path=\"url(#clip980)\" d=\"M154.075 457.741 L172.431 457.741 L172.431 461.676 L158.357 461.676 L158.357 470.149 Q159.376 469.801 160.394 469.639 Q161.413 469.454 162.431 469.454 Q168.218 469.454 171.598 472.625 Q174.977 475.797 174.977 481.213 Q174.977 486.792 171.505 489.894 Q168.033 492.973 161.714 492.973 Q159.538 492.973 157.269 492.602 Q155.024 492.232 152.616 491.491 L152.616 486.792 Q154.7 487.926 156.922 488.482 Q159.144 489.037 161.621 489.037 Q165.626 489.037 167.964 486.931 Q170.302 484.824 170.302 481.213 Q170.302 477.602 167.964 475.496 Q165.626 473.389 161.621 473.389 Q159.746 473.389 157.871 473.806 Q156.019 474.223 154.075 475.102 L154.075 457.741 Z\" fill=\"#000000\" fill-rule=\"evenodd\" fill-opacity=\"1\" /><path clip-path=\"url(#clip980)\" d=\"M184.19 486.422 L189.075 486.422 L189.075 492.301 L184.19 492.301 L184.19 486.422 Z\" fill=\"#000000\" fill-rule=\"evenodd\" fill-opacity=\"1\" /><path clip-path=\"url(#clip980)\" d=\"M209.26 460.82 Q205.649 460.82 203.82 464.385 Q202.014 467.926 202.014 475.056 Q202.014 482.162 203.82 485.727 Q205.649 489.269 209.26 489.269 Q212.894 489.269 214.699 485.727 Q216.528 482.162 216.528 475.056 Q216.528 467.926 214.699 464.385 Q212.894 460.82 209.26 460.82 M209.26 457.116 Q215.07 457.116 218.125 461.723 Q221.204 466.306 221.204 475.056 Q221.204 483.783 218.125 488.389 Q215.07 492.973 209.26 492.973 Q203.449 492.973 200.371 488.389 Q197.315 483.783 197.315 475.056 Q197.315 466.306 200.371 461.723 Q203.449 457.116 209.26 457.116 Z\" fill=\"#000000\" fill-rule=\"evenodd\" fill-opacity=\"1\" /><path clip-path=\"url(#clip980)\" d=\"M153.843 265.113 L176.065 265.113 L176.065 267.104 L163.519 299.673 L158.635 299.673 L170.44 269.048 L153.843 269.048 L153.843 265.113 Z\" fill=\"#000000\" fill-rule=\"evenodd\" fill-opacity=\"1\" /><path clip-path=\"url(#clip980)\" d=\"M185.186 293.794 L190.07 293.794 L190.07 299.673 L185.186 299.673 L185.186 293.794 Z\" fill=\"#000000\" fill-rule=\"evenodd\" fill-opacity=\"1\" /><path clip-path=\"url(#clip980)\" d=\"M200.301 265.113 L218.658 265.113 L218.658 269.048 L204.584 269.048 L204.584 277.521 Q205.602 277.173 206.621 277.011 Q207.639 276.826 208.658 276.826 Q214.445 276.826 217.824 279.997 Q221.204 283.169 221.204 288.585 Q221.204 294.164 217.732 297.266 Q214.26 300.345 207.94 300.345 Q205.764 300.345 203.496 299.974 Q201.25 299.604 198.843 298.863 L198.843 294.164 Q200.926 295.298 203.149 295.854 Q205.371 296.409 207.848 296.409 Q211.852 296.409 214.19 294.303 Q216.528 292.197 216.528 288.585 Q216.528 284.974 214.19 282.868 Q211.852 280.761 207.848 280.761 Q205.973 280.761 204.098 281.178 Q202.246 281.595 200.301 282.474 L200.301 265.113 Z\" fill=\"#000000\" fill-rule=\"evenodd\" fill-opacity=\"1\" /><path clip-path=\"url(#clip980)\" d=\"M41.7242 883.453 Q42.4244 881.384 44.7161 879.442 Q47.0077 877.469 51.0181 875.496 L64.0042 868.971 L64.0042 875.878 L51.8138 881.957 Q47.0395 884.312 45.48 886.54 Q43.9204 888.736 43.9204 892.556 L43.9204 899.558 L64.0042 899.558 L64.0042 905.987 L16.4842 905.987 L16.4842 891.473 Q16.4842 883.325 19.8898 879.315 Q23.2955 875.305 30.1704 875.305 Q34.6582 875.305 37.6183 877.405 Q40.5784 879.474 41.7242 883.453 M21.7677 899.558 L38.6368 899.558 L38.6368 891.473 Q38.6368 886.827 36.5043 884.471 Q34.34 882.084 30.1704 882.084 Q26.0009 882.084 23.9002 884.471 Q21.7677 886.827 21.7677 891.473 L21.7677 899.558 Z\" fill=\"#000000\" fill-rule=\"evenodd\" fill-opacity=\"1\" /><path clip-path=\"url(#clip980)\" d=\"M64.0042 852.006 L16.4842 870.148 L16.4842 863.433 L56.4926 848.378 L16.4842 833.291 L16.4842 826.607 L64.0042 844.717 L64.0042 852.006 Z\" fill=\"#000000\" fill-rule=\"evenodd\" fill-opacity=\"1\" /><path clip-path=\"url(#clip980)\" d=\"M14.5426 785.134 Q21.8632 789.399 29.0246 791.468 Q36.186 793.537 43.5384 793.537 Q50.8908 793.537 58.1159 791.468 Q65.3091 789.368 72.5979 785.134 L72.5979 790.227 Q65.1182 795.001 57.8931 797.388 Q50.668 799.744 43.5384 799.744 Q36.4406 799.744 29.2474 797.388 Q22.0542 795.033 14.5426 790.227 L14.5426 785.134 Z\" fill=\"#000000\" fill-rule=\"evenodd\" fill-opacity=\"1\" /><path clip-path=\"url(#clip980)\" d=\"M35.1993 746.017 Q31.2526 743.821 29.3747 740.765 Q27.4968 737.71 27.4968 733.572 Q27.4968 728.002 31.4117 724.978 Q35.2948 721.955 42.4881 721.955 L64.0042 721.955 L64.0042 727.843 L42.679 727.843 Q37.5546 727.843 35.072 729.657 Q32.5894 731.471 32.5894 735.195 Q32.5894 739.747 35.6131 742.389 Q38.6368 745.03 43.8567 745.03 L64.0042 745.03 L64.0042 750.919 L42.679 750.919 Q37.5228 750.919 35.072 752.733 Q32.5894 754.547 32.5894 758.335 Q32.5894 762.823 35.6449 765.464 Q38.6686 768.106 43.8567 768.106 L64.0042 768.106 L64.0042 773.994 L28.3562 773.994 L28.3562 768.106 L33.8944 768.106 Q30.616 766.101 29.0564 763.3 Q27.4968 760.499 27.4968 756.648 Q27.4968 752.765 29.4702 750.059 Q31.4436 747.322 35.1993 746.017 Z\" fill=\"#000000\" fill-rule=\"evenodd\" fill-opacity=\"1\" /><path clip-path=\"url(#clip980)\" d=\"M16.4842 699.866 L16.4842 694.455 L70.0516 711.006 L70.0516 716.417 L16.4842 699.866 Z\" fill=\"#000000\" fill-rule=\"evenodd\" fill-opacity=\"1\" /><path clip-path=\"url(#clip980)\" d=\"M29.4065 665.586 L34.9447 665.586 Q33.6716 668.069 33.035 670.743 Q32.3984 673.416 32.3984 676.281 Q32.3984 680.641 33.7352 682.837 Q35.072 685.002 37.7456 685.002 Q39.7826 685.002 40.9603 683.442 Q42.1061 681.883 43.1565 677.172 L43.6021 675.167 Q44.9389 668.928 47.3897 666.318 Q49.8086 663.677 54.1691 663.677 Q59.1344 663.677 62.0308 667.623 Q64.9272 671.538 64.9272 678.413 Q64.9272 681.278 64.3543 684.397 Q63.8132 687.484 62.6992 690.922 L56.6518 690.922 Q58.3387 687.675 59.198 684.524 Q60.0256 681.373 60.0256 678.286 Q60.0256 674.148 58.6251 671.92 Q57.1929 669.692 54.6147 669.692 Q52.2276 669.692 50.9545 671.316 Q49.6813 672.907 48.5037 678.35 L48.0262 680.387 Q46.8804 685.829 44.5251 688.248 Q42.138 690.667 38.0002 690.667 Q32.9713 690.667 30.2341 687.102 Q27.4968 683.538 27.4968 676.981 Q27.4968 673.735 27.9743 670.87 Q28.4517 668.005 29.4065 665.586 Z\" fill=\"#000000\" fill-rule=\"evenodd\" fill-opacity=\"1\" /><path clip-path=\"url(#clip980)\" d=\"M14.5426 655.274 L14.5426 650.181 Q22.0542 645.407 29.2474 643.052 Q36.4406 640.665 43.5384 640.665 Q50.668 640.665 57.8931 643.052 Q65.1182 645.407 72.5979 650.181 L72.5979 655.274 Q65.3091 651.041 58.1159 648.972 Q50.8908 646.871 43.5384 646.871 Q36.186 646.871 29.0246 648.972 Q21.8632 651.041 14.5426 655.274 Z\" fill=\"#000000\" fill-rule=\"evenodd\" fill-opacity=\"1\" /><path clip-path=\"url(#clip980)\" d=\"M1028.57 14.0809 L1028.57 22.0612 Q1023.91 19.8332 1019.78 18.7395 Q1015.64 17.6457 1011.8 17.6457 Q1005.11 17.6457 1001.47 20.2383 Q997.861 22.8309 997.861 27.611 Q997.861 31.6214 1000.25 33.6873 Q1002.68 35.7128 1009.41 36.9686 L1014.35 37.9813 Q1023.5 39.7232 1027.84 44.1387 Q1032.21 48.5136 1032.21 55.8863 Q1032.21 64.6767 1026.3 69.2137 Q1020.42 73.7508 1009.04 73.7508 Q1004.75 73.7508 999.886 72.7785 Q995.066 71.8063 989.88 69.9024 L989.88 61.4765 Q994.863 64.2716 999.643 65.6895 Q1004.42 67.1073 1009.04 67.1073 Q1016.05 67.1073 1019.86 64.3527 Q1023.66 61.598 1023.66 56.4939 Q1023.66 52.0379 1020.91 49.5264 Q1018.2 47.0148 1011.96 45.759 L1006.98 44.7868 Q997.82 42.9639 993.729 39.075 Q989.637 35.1862 989.637 28.2591 Q989.637 20.2383 995.268 15.6203 Q1000.94 11.0023 1010.86 11.0023 Q1015.12 11.0023 1019.53 11.7719 Q1023.95 12.5416 1028.57 14.0809 Z\" fill=\"#000000\" fill-rule=\"evenodd\" fill-opacity=\"1\" /><path clip-path=\"url(#clip980)\" d=\"M1044.65 27.2059 L1052.1 27.2059 L1052.1 72.576 L1044.65 72.576 L1044.65 27.2059 M1044.65 9.54393 L1052.1 9.54393 L1052.1 18.9825 L1044.65 18.9825 L1044.65 9.54393 Z\" fill=\"#000000\" fill-rule=\"evenodd\" fill-opacity=\"1\" /><path clip-path=\"url(#clip980)\" d=\"M1103.02 35.9153 Q1105.82 30.8922 1109.71 28.5022 Q1113.59 26.1121 1118.86 26.1121 Q1125.95 26.1121 1129.8 31.0947 Q1133.65 36.0368 1133.65 45.1919 L1133.65 72.576 L1126.15 72.576 L1126.15 45.4349 Q1126.15 38.913 1123.84 35.7533 Q1121.53 32.5936 1116.8 32.5936 Q1111 32.5936 1107.64 36.4419 Q1104.28 40.2903 1104.28 46.9338 L1104.28 72.576 L1096.78 72.576 L1096.78 45.4349 Q1096.78 38.8725 1094.47 35.7533 Q1092.17 32.5936 1087.35 32.5936 Q1081.63 32.5936 1078.27 36.4824 Q1074.91 40.3308 1074.91 46.9338 L1074.91 72.576 L1067.41 72.576 L1067.41 27.2059 L1074.91 27.2059 L1074.91 34.2544 Q1077.46 30.082 1081.03 28.0971 Q1084.59 26.1121 1089.49 26.1121 Q1094.43 26.1121 1097.88 28.6237 Q1101.36 31.1352 1103.02 35.9153 Z\" fill=\"#000000\" fill-rule=\"evenodd\" fill-opacity=\"1\" /><path clip-path=\"url(#clip980)\" d=\"M1147.74 54.671 L1147.74 27.2059 L1155.2 27.2059 L1155.2 54.3874 Q1155.2 60.8284 1157.71 64.0691 Q1160.22 67.2693 1165.24 67.2693 Q1171.28 67.2693 1174.76 63.421 Q1178.29 59.5726 1178.29 52.9291 L1178.29 27.2059 L1185.74 27.2059 L1185.74 72.576 L1178.29 72.576 L1178.29 65.6084 Q1175.57 69.7404 1171.97 71.7658 Q1168.4 73.7508 1163.66 73.7508 Q1155.85 73.7508 1151.8 68.8897 Q1147.74 64.0286 1147.74 54.671 M1166.5 26.1121 L1166.5 26.1121 Z\" fill=\"#000000\" fill-rule=\"evenodd\" fill-opacity=\"1\" /><path clip-path=\"url(#clip980)\" d=\"M1201.09 9.54393 L1208.55 9.54393 L1208.55 72.576 L1201.09 72.576 L1201.09 9.54393 Z\" fill=\"#000000\" fill-rule=\"evenodd\" fill-opacity=\"1\" /><path clip-path=\"url(#clip980)\" d=\"M1244.76 49.7694 Q1235.73 49.7694 1232.25 51.8354 Q1228.76 53.9013 1228.76 58.8839 Q1228.76 62.8538 1231.35 65.2034 Q1233.99 67.5124 1238.48 67.5124 Q1244.68 67.5124 1248.41 63.1374 Q1252.18 58.7219 1252.18 51.4303 L1252.18 49.7694 L1244.76 49.7694 M1259.63 46.6907 L1259.63 72.576 L1252.18 72.576 L1252.18 65.6895 Q1249.62 69.8214 1245.82 71.8063 Q1242.01 73.7508 1236.5 73.7508 Q1229.53 73.7508 1225.4 69.8619 Q1221.31 65.9325 1221.31 59.3701 Q1221.31 51.7138 1226.41 47.825 Q1231.56 43.9361 1241.73 43.9361 L1252.18 43.9361 L1252.18 43.2069 Q1252.18 38.0623 1248.77 35.2672 Q1245.41 32.4315 1239.29 32.4315 Q1235.41 32.4315 1231.72 33.3632 Q1228.03 34.295 1224.63 36.1584 L1224.63 29.2718 Q1228.72 27.692 1232.57 26.9223 Q1236.42 26.1121 1240.06 26.1121 Q1249.91 26.1121 1254.77 31.2163 Q1259.63 36.3204 1259.63 46.6907 Z\" fill=\"#000000\" fill-rule=\"evenodd\" fill-opacity=\"1\" /><path clip-path=\"url(#clip980)\" d=\"M1282.36 14.324 L1282.36 27.2059 L1297.71 27.2059 L1297.71 32.9987 L1282.36 32.9987 L1282.36 57.6282 Q1282.36 63.1779 1283.85 64.7578 Q1285.39 66.3376 1290.05 66.3376 L1297.71 66.3376 L1297.71 72.576 L1290.05 72.576 Q1281.42 72.576 1278.14 69.3758 Q1274.86 66.1351 1274.86 57.6282 L1274.86 32.9987 L1269.39 32.9987 L1269.39 27.2059 L1274.86 27.2059 L1274.86 14.324 L1282.36 14.324 Z\" fill=\"#000000\" fill-rule=\"evenodd\" fill-opacity=\"1\" /><path clip-path=\"url(#clip980)\" d=\"M1346.32 48.0275 L1346.32 51.6733 L1312.05 51.6733 Q1312.53 59.3701 1316.67 63.421 Q1320.84 67.4314 1328.25 67.4314 Q1332.55 67.4314 1336.56 66.3781 Q1340.61 65.3249 1344.58 63.2184 L1344.58 70.267 Q1340.57 71.9684 1336.35 72.8596 Q1332.14 73.7508 1327.81 73.7508 Q1316.95 73.7508 1310.59 67.4314 Q1304.27 61.1119 1304.27 50.3365 Q1304.27 39.1965 1310.27 32.6746 Q1316.3 26.1121 1326.51 26.1121 Q1335.67 26.1121 1340.97 32.0264 Q1346.32 37.9003 1346.32 48.0275 M1338.87 45.84 Q1338.78 39.7232 1335.42 36.0774 Q1332.1 32.4315 1326.59 32.4315 Q1320.35 32.4315 1316.59 35.9558 Q1312.86 39.4801 1312.29 45.8805 L1338.87 45.84 Z\" fill=\"#000000\" fill-rule=\"evenodd\" fill-opacity=\"1\" /><path clip-path=\"url(#clip980)\" d=\"M1388.41 34.0924 L1388.41 9.54393 L1395.86 9.54393 L1395.86 72.576 L1388.41 72.576 L1388.41 65.7705 Q1386.06 69.8214 1382.45 71.8063 Q1378.89 73.7508 1373.87 73.7508 Q1365.64 73.7508 1360.46 67.1883 Q1355.31 60.6258 1355.31 49.9314 Q1355.31 39.2371 1360.46 32.6746 Q1365.64 26.1121 1373.87 26.1121 Q1378.89 26.1121 1382.45 28.0971 Q1386.06 30.0415 1388.41 34.0924 M1363.01 49.9314 Q1363.01 58.1548 1366.37 62.8538 Q1369.77 67.5124 1375.69 67.5124 Q1381.6 67.5124 1385.01 62.8538 Q1388.41 58.1548 1388.41 49.9314 Q1388.41 41.7081 1385.01 37.0496 Q1381.6 32.3505 1375.69 32.3505 Q1369.77 32.3505 1366.37 37.0496 Q1363.01 41.7081 1363.01 49.9314 Z\" fill=\"#000000\" fill-rule=\"evenodd\" fill-opacity=\"1\" /><path clip-path=\"url(#clip980)\" d=\"M1446.09 18.8205 L1446.09 65.8515 L1455.98 65.8515 Q1468.49 65.8515 1474.29 60.1802 Q1480.12 54.509 1480.12 42.2752 Q1480.12 30.1225 1474.29 24.4918 Q1468.49 18.8205 1455.98 18.8205 L1446.09 18.8205 M1437.91 12.096 L1454.72 12.096 Q1472.3 12.096 1480.53 19.4281 Q1488.75 26.7198 1488.75 42.2752 Q1488.75 57.9117 1480.49 65.2439 Q1472.22 72.576 1454.72 72.576 L1437.91 72.576 L1437.91 12.096 Z\" fill=\"#000000\" fill-rule=\"evenodd\" fill-opacity=\"1\" /><path clip-path=\"url(#clip980)\" d=\"M1522.09 49.7694 Q1513.05 49.7694 1509.57 51.8354 Q1506.09 53.9013 1506.09 58.8839 Q1506.09 62.8538 1508.68 65.2034 Q1511.31 67.5124 1515.81 67.5124 Q1522.01 67.5124 1525.73 63.1374 Q1529.5 58.7219 1529.5 51.4303 L1529.5 49.7694 L1522.09 49.7694 M1536.95 46.6907 L1536.95 72.576 L1529.5 72.576 L1529.5 65.6895 Q1526.95 69.8214 1523.14 71.8063 Q1519.33 73.7508 1513.82 73.7508 Q1506.86 73.7508 1502.72 69.8619 Q1498.63 65.9325 1498.63 59.3701 Q1498.63 51.7138 1503.74 47.825 Q1508.88 43.9361 1519.05 43.9361 L1529.5 43.9361 L1529.5 43.2069 Q1529.5 38.0623 1526.1 35.2672 Q1522.74 32.4315 1516.62 32.4315 Q1512.73 32.4315 1509.04 33.3632 Q1505.36 34.295 1501.96 36.1584 L1501.96 29.2718 Q1506.05 27.692 1509.89 26.9223 Q1513.74 26.1121 1517.39 26.1121 Q1527.23 26.1121 1532.09 31.2163 Q1536.95 36.3204 1536.95 46.6907 Z\" fill=\"#000000\" fill-rule=\"evenodd\" fill-opacity=\"1\" /><path clip-path=\"url(#clip980)\" d=\"M1559.68 14.324 L1559.68 27.2059 L1575.03 27.2059 L1575.03 32.9987 L1559.68 32.9987 L1559.68 57.6282 Q1559.68 63.1779 1561.18 64.7578 Q1562.72 66.3376 1567.38 66.3376 L1575.03 66.3376 L1575.03 72.576 L1567.38 72.576 Q1558.75 72.576 1555.47 69.3758 Q1552.19 66.1351 1552.19 57.6282 L1552.19 32.9987 L1546.72 32.9987 L1546.72 27.2059 L1552.19 27.2059 L1552.19 14.324 L1559.68 14.324 Z\" fill=\"#000000\" fill-rule=\"evenodd\" fill-opacity=\"1\" /><path clip-path=\"url(#clip980)\" d=\"M1605.46 49.7694 Q1596.42 49.7694 1592.94 51.8354 Q1589.45 53.9013 1589.45 58.8839 Q1589.45 62.8538 1592.05 65.2034 Q1594.68 67.5124 1599.18 67.5124 Q1605.37 67.5124 1609.1 63.1374 Q1612.87 58.7219 1612.87 51.4303 L1612.87 49.7694 L1605.46 49.7694 M1620.32 46.6907 L1620.32 72.576 L1612.87 72.576 L1612.87 65.6895 Q1610.32 69.8214 1606.51 71.8063 Q1602.7 73.7508 1597.19 73.7508 Q1590.22 73.7508 1586.09 69.8619 Q1582 65.9325 1582 59.3701 Q1582 51.7138 1587.11 47.825 Q1592.25 43.9361 1602.42 43.9361 L1612.87 43.9361 L1612.87 43.2069 Q1612.87 38.0623 1609.47 35.2672 Q1606.1 32.4315 1599.99 32.4315 Q1596.1 32.4315 1592.41 33.3632 Q1588.73 34.295 1585.32 36.1584 L1585.32 29.2718 Q1589.41 27.692 1593.26 26.9223 Q1597.11 26.1121 1600.76 26.1121 Q1610.6 26.1121 1615.46 31.2163 Q1620.32 36.3204 1620.32 46.6907 Z\" fill=\"#000000\" fill-rule=\"evenodd\" fill-opacity=\"1\" /><polyline clip-path=\"url(#clip982)\" style=\"stroke:#000000; stroke-linecap:butt; stroke-linejoin:round; stroke-width:4; stroke-opacity:1; fill:none\" points=\"\n",
       "  1817.23,1180.63 1817.23,1026.53 \n",
       "  \"/>\n",
       "<polyline clip-path=\"url(#clip982)\" style=\"stroke:#000000; stroke-linecap:butt; stroke-linejoin:round; stroke-width:4; stroke-opacity:1; fill:none\" points=\"\n",
       "  1779.34,532.876 1779.34,378.773 \n",
       "  \"/>\n",
       "<polyline clip-path=\"url(#clip982)\" style=\"stroke:#000000; stroke-linecap:butt; stroke-linejoin:round; stroke-width:4; stroke-opacity:1; fill:none\" points=\"\n",
       "  806.305,1177.01 806.305,1022.9 \n",
       "  \"/>\n",
       "<polyline clip-path=\"url(#clip982)\" style=\"stroke:#000000; stroke-linecap:butt; stroke-linejoin:round; stroke-width:4; stroke-opacity:1; fill:none\" points=\"\n",
       "  1317.21,1032.63 1317.21,878.532 \n",
       "  \"/>\n",
       "<polyline clip-path=\"url(#clip982)\" style=\"stroke:#000000; stroke-linecap:butt; stroke-linejoin:round; stroke-width:4; stroke-opacity:1; fill:none\" points=\"\n",
       "  1878.06,928.236 1878.06,774.133 \n",
       "  \"/>\n",
       "<polyline clip-path=\"url(#clip982)\" style=\"stroke:#000000; stroke-linecap:butt; stroke-linejoin:round; stroke-width:4; stroke-opacity:1; fill:none\" points=\"\n",
       "  1279.38,1170.21 1279.38,1016.1 \n",
       "  \"/>\n",
       "<polyline clip-path=\"url(#clip982)\" style=\"stroke:#000000; stroke-linecap:butt; stroke-linejoin:round; stroke-width:4; stroke-opacity:1; fill:none\" points=\"\n",
       "  1956.06,555.578 1956.06,401.476 \n",
       "  \"/>\n",
       "<polyline clip-path=\"url(#clip982)\" style=\"stroke:#000000; stroke-linecap:butt; stroke-linejoin:round; stroke-width:4; stroke-opacity:1; fill:none\" points=\"\n",
       "  666.111,698.852 666.111,544.749 \n",
       "  \"/>\n",
       "<polyline clip-path=\"url(#clip982)\" style=\"stroke:#000000; stroke-linecap:butt; stroke-linejoin:round; stroke-width:4; stroke-opacity:1; fill:none\" points=\"\n",
       "  1030.41,1002.22 1030.41,848.117 \n",
       "  \"/>\n",
       "<polyline clip-path=\"url(#clip982)\" style=\"stroke:#000000; stroke-linecap:butt; stroke-linejoin:round; stroke-width:4; stroke-opacity:1; fill:none\" points=\"\n",
       "  1528.54,901.806 1528.54,747.703 \n",
       "  \"/>\n",
       "<polyline clip-path=\"url(#clip982)\" style=\"stroke:#000000; stroke-linecap:butt; stroke-linejoin:round; stroke-width:4; stroke-opacity:1; fill:none\" points=\"\n",
       "  701.354,395.958 701.354,241.855 \n",
       "  \"/>\n",
       "<polyline clip-path=\"url(#clip982)\" style=\"stroke:#000000; stroke-linecap:butt; stroke-linejoin:round; stroke-width:4; stroke-opacity:1; fill:none\" points=\"\n",
       "  1537.61,1268.87 1537.61,1114.77 \n",
       "  \"/>\n",
       "<polyline clip-path=\"url(#clip982)\" style=\"stroke:#000000; stroke-linecap:butt; stroke-linejoin:round; stroke-width:4; stroke-opacity:1; fill:none\" points=\"\n",
       "  1712.75,341.636 1712.75,187.534 \n",
       "  \"/>\n",
       "<polyline clip-path=\"url(#clip982)\" style=\"stroke:#000000; stroke-linecap:butt; stroke-linejoin:round; stroke-width:4; stroke-opacity:1; fill:none\" points=\"\n",
       "  1932.16,1237.17 1932.16,1083.07 \n",
       "  \"/>\n",
       "<polyline clip-path=\"url(#clip982)\" style=\"stroke:#000000; stroke-linecap:butt; stroke-linejoin:round; stroke-width:4; stroke-opacity:1; fill:none\" points=\"\n",
       "  2120.74,314.359 2120.74,160.256 \n",
       "  \"/>\n",
       "<polyline clip-path=\"url(#clip982)\" style=\"stroke:#000000; stroke-linecap:butt; stroke-linejoin:round; stroke-width:4; stroke-opacity:1; fill:none\" points=\"\n",
       "  1978.52,1258.69 1978.52,1104.59 \n",
       "  \"/>\n",
       "<polyline clip-path=\"url(#clip982)\" style=\"stroke:#000000; stroke-linecap:butt; stroke-linejoin:round; stroke-width:4; stroke-opacity:1; fill:none\" points=\"\n",
       "  1542.34,1173.78 1542.34,1019.67 \n",
       "  \"/>\n",
       "<polyline clip-path=\"url(#clip982)\" style=\"stroke:#000000; stroke-linecap:butt; stroke-linejoin:round; stroke-width:4; stroke-opacity:1; fill:none\" points=\"\n",
       "  1669.08,1372.18 1669.08,1218.08 \n",
       "  \"/>\n",
       "<polyline clip-path=\"url(#clip982)\" style=\"stroke:#000000; stroke-linecap:butt; stroke-linejoin:round; stroke-width:4; stroke-opacity:1; fill:none\" points=\"\n",
       "  738.805,1142.12 738.805,988.022 \n",
       "  \"/>\n",
       "<polyline clip-path=\"url(#clip982)\" style=\"stroke:#000000; stroke-linecap:butt; stroke-linejoin:round; stroke-width:4; stroke-opacity:1; fill:none\" points=\"\n",
       "  1038.08,1040.46 1038.08,886.358 \n",
       "  \"/>\n",
       "<polyline clip-path=\"url(#clip982)\" style=\"stroke:#000000; stroke-linecap:butt; stroke-linejoin:round; stroke-width:4; stroke-opacity:1; fill:none\" points=\"\n",
       "  510.054,1227.55 510.054,1073.44 \n",
       "  \"/>\n",
       "<polyline clip-path=\"url(#clip982)\" style=\"stroke:#000000; stroke-linecap:butt; stroke-linejoin:round; stroke-width:4; stroke-opacity:1; fill:none\" points=\"\n",
       "  1650.41,1150.77 1650.41,996.671 \n",
       "  \"/>\n",
       "<polyline clip-path=\"url(#clip982)\" style=\"stroke:#000000; stroke-linecap:butt; stroke-linejoin:round; stroke-width:4; stroke-opacity:1; fill:none\" points=\"\n",
       "  983.031,1219.24 983.031,1065.14 \n",
       "  \"/>\n",
       "<polyline clip-path=\"url(#clip982)\" style=\"stroke:#000000; stroke-linecap:butt; stroke-linejoin:round; stroke-width:4; stroke-opacity:1; fill:none\" points=\"\n",
       "  1322.7,598.839 1322.7,444.737 \n",
       "  \"/>\n",
       "<polyline clip-path=\"url(#clip982)\" style=\"stroke:#000000; stroke-linecap:butt; stroke-linejoin:round; stroke-width:4; stroke-opacity:1; fill:none\" points=\"\n",
       "  860.022,727.132 860.022,573.03 \n",
       "  \"/>\n",
       "<polyline clip-path=\"url(#clip982)\" style=\"stroke:#000000; stroke-linecap:butt; stroke-linejoin:round; stroke-width:4; stroke-opacity:1; fill:none\" points=\"\n",
       "  1433.23,756.257 1433.23,602.154 \n",
       "  \"/>\n",
       "<polyline clip-path=\"url(#clip982)\" style=\"stroke:#000000; stroke-linecap:butt; stroke-linejoin:round; stroke-width:4; stroke-opacity:1; fill:none\" points=\"\n",
       "  1800.97,1314.46 1800.97,1160.36 \n",
       "  \"/>\n",
       "<polyline clip-path=\"url(#clip982)\" style=\"stroke:#000000; stroke-linecap:butt; stroke-linejoin:round; stroke-width:4; stroke-opacity:1; fill:none\" points=\"\n",
       "  1907.38,477.909 1907.38,323.807 \n",
       "  \"/>\n",
       "<polyline clip-path=\"url(#clip982)\" style=\"stroke:#000000; stroke-linecap:butt; stroke-linejoin:round; stroke-width:4; stroke-opacity:1; fill:none\" points=\"\n",
       "  316.512,1169.68 316.512,1015.58 \n",
       "  \"/>\n",
       "<polyline clip-path=\"url(#clip982)\" style=\"stroke:#000000; stroke-linecap:butt; stroke-linejoin:round; stroke-width:4; stroke-opacity:1; fill:none\" points=\"\n",
       "  907.542,1181.56 907.542,1027.46 \n",
       "  \"/>\n",
       "<polyline clip-path=\"url(#clip982)\" style=\"stroke:#000000; stroke-linecap:butt; stroke-linejoin:round; stroke-width:4; stroke-opacity:1; fill:none\" points=\"\n",
       "  2293.45,1132.28 2293.45,978.177 \n",
       "  \"/>\n",
       "<polyline clip-path=\"url(#clip982)\" style=\"stroke:#000000; stroke-linecap:butt; stroke-linejoin:round; stroke-width:4; stroke-opacity:1; fill:none\" points=\"\n",
       "  1972.65,432.479 1972.65,278.376 \n",
       "  \"/>\n",
       "<polyline clip-path=\"url(#clip982)\" style=\"stroke:#000000; stroke-linecap:butt; stroke-linejoin:round; stroke-width:4; stroke-opacity:1; fill:none\" points=\"\n",
       "  2266.53,496.632 2266.53,342.53 \n",
       "  \"/>\n",
       "<polyline clip-path=\"url(#clip982)\" style=\"stroke:#000000; stroke-linecap:butt; stroke-linejoin:round; stroke-width:4; stroke-opacity:1; fill:none\" points=\"\n",
       "  697.781,754.422 697.781,600.32 \n",
       "  \"/>\n",
       "<polyline clip-path=\"url(#clip982)\" style=\"stroke:#000000; stroke-linecap:butt; stroke-linejoin:round; stroke-width:4; stroke-opacity:1; fill:none\" points=\"\n",
       "  1514.38,735.35 1514.38,581.247 \n",
       "  \"/>\n",
       "<polyline clip-path=\"url(#clip982)\" style=\"stroke:#000000; stroke-linecap:butt; stroke-linejoin:round; stroke-width:4; stroke-opacity:1; fill:none\" points=\"\n",
       "  1339.77,1031.79 1339.77,877.693 \n",
       "  \"/>\n",
       "<polyline clip-path=\"url(#clip982)\" style=\"stroke:#000000; stroke-linecap:butt; stroke-linejoin:round; stroke-width:4; stroke-opacity:1; fill:none\" points=\"\n",
       "  1429.3,1057.38 1429.3,903.277 \n",
       "  \"/>\n",
       "<polyline clip-path=\"url(#clip982)\" style=\"stroke:#000000; stroke-linecap:butt; stroke-linejoin:round; stroke-width:4; stroke-opacity:1; fill:none\" points=\"\n",
       "  1360,1214.79 1360,1060.69 \n",
       "  \"/>\n",
       "<polyline clip-path=\"url(#clip982)\" style=\"stroke:#000000; stroke-linecap:butt; stroke-linejoin:round; stroke-width:4; stroke-opacity:1; fill:none\" points=\"\n",
       "  375.745,494.89 375.745,340.788 \n",
       "  \"/>\n",
       "<polyline clip-path=\"url(#clip982)\" style=\"stroke:#000000; stroke-linecap:butt; stroke-linejoin:round; stroke-width:4; stroke-opacity:1; fill:none\" points=\"\n",
       "  1357.57,1227.28 1357.57,1073.18 \n",
       "  \"/>\n",
       "<polyline clip-path=\"url(#clip982)\" style=\"stroke:#000000; stroke-linecap:butt; stroke-linejoin:round; stroke-width:4; stroke-opacity:1; fill:none\" points=\"\n",
       "  1820.33,1068.11 1820.33,914.01 \n",
       "  \"/>\n",
       "<polyline clip-path=\"url(#clip982)\" style=\"stroke:#000000; stroke-linecap:butt; stroke-linejoin:round; stroke-width:4; stroke-opacity:1; fill:none\" points=\"\n",
       "  796.991,680.69 796.991,526.588 \n",
       "  \"/>\n",
       "<polyline clip-path=\"url(#clip982)\" style=\"stroke:#000000; stroke-linecap:butt; stroke-linejoin:round; stroke-width:4; stroke-opacity:1; fill:none\" points=\"\n",
       "  783.607,585.509 783.607,431.407 \n",
       "  \"/>\n",
       "<polyline clip-path=\"url(#clip982)\" style=\"stroke:#000000; stroke-linecap:butt; stroke-linejoin:round; stroke-width:4; stroke-opacity:1; fill:none\" points=\"\n",
       "  1366.8,849.751 1366.8,695.649 \n",
       "  \"/>\n",
       "<polyline clip-path=\"url(#clip982)\" style=\"stroke:#000000; stroke-linecap:butt; stroke-linejoin:round; stroke-width:4; stroke-opacity:1; fill:none\" points=\"\n",
       "  2175.93,1341.48 2175.93,1187.38 \n",
       "  \"/>\n",
       "<polyline clip-path=\"url(#clip982)\" style=\"stroke:#000000; stroke-linecap:butt; stroke-linejoin:round; stroke-width:4; stroke-opacity:1; fill:none\" points=\"\n",
       "  544.463,1149.44 544.463,995.339 \n",
       "  \"/>\n",
       "<polyline clip-path=\"url(#clip982)\" style=\"stroke:#000000; stroke-linecap:butt; stroke-linejoin:round; stroke-width:4; stroke-opacity:1; fill:none\" points=\"\n",
       "  633.498,782.962 633.498,628.86 \n",
       "  \"/>\n",
       "<polyline clip-path=\"url(#clip982)\" style=\"stroke:#000000; stroke-linecap:butt; stroke-linejoin:round; stroke-width:4; stroke-opacity:1; fill:none\" points=\"\n",
       "  962.461,425.426 962.461,271.324 \n",
       "  \"/>\n",
       "<polyline clip-path=\"url(#clip982)\" style=\"stroke:#000000; stroke-linecap:butt; stroke-linejoin:round; stroke-width:4; stroke-opacity:1; fill:none\" points=\"\n",
       "  690.251,1109.42 690.251,955.318 \n",
       "  \"/>\n",
       "<polyline clip-path=\"url(#clip982)\" style=\"stroke:#000000; stroke-linecap:butt; stroke-linejoin:round; stroke-width:4; stroke-opacity:1; fill:none\" points=\"\n",
       "  504.194,478.935 504.194,324.832 \n",
       "  \"/>\n",
       "<polyline clip-path=\"url(#clip982)\" style=\"stroke:#000000; stroke-linecap:butt; stroke-linejoin:round; stroke-width:4; stroke-opacity:1; fill:none\" points=\"\n",
       "  1743.82,790.923 1743.82,636.821 \n",
       "  \"/>\n",
       "<polyline clip-path=\"url(#clip982)\" style=\"stroke:#000000; stroke-linecap:butt; stroke-linejoin:round; stroke-width:4; stroke-opacity:1; fill:none\" points=\"\n",
       "  1928.61,1203.86 1928.61,1049.75 \n",
       "  \"/>\n",
       "<polyline clip-path=\"url(#clip982)\" style=\"stroke:#000000; stroke-linecap:butt; stroke-linejoin:round; stroke-width:4; stroke-opacity:1; fill:none\" points=\"\n",
       "  789.781,1153.16 789.781,999.057 \n",
       "  \"/>\n",
       "<polyline clip-path=\"url(#clip982)\" style=\"stroke:#000000; stroke-linecap:butt; stroke-linejoin:round; stroke-width:4; stroke-opacity:1; fill:none\" points=\"\n",
       "  1688.93,1150.18 1688.93,996.077 \n",
       "  \"/>\n",
       "<polyline clip-path=\"url(#clip982)\" style=\"stroke:#000000; stroke-linecap:butt; stroke-linejoin:round; stroke-width:4; stroke-opacity:1; fill:none\" points=\"\n",
       "  1574.88,1131.08 1574.88,976.973 \n",
       "  \"/>\n",
       "<polyline clip-path=\"url(#clip982)\" style=\"stroke:#000000; stroke-linecap:butt; stroke-linejoin:round; stroke-width:4; stroke-opacity:1; fill:none\" points=\"\n",
       "  1728.14,388.813 1728.14,234.711 \n",
       "  \"/>\n",
       "<polyline clip-path=\"url(#clip982)\" style=\"stroke:#000000; stroke-linecap:butt; stroke-linejoin:round; stroke-width:4; stroke-opacity:1; fill:none\" points=\"\n",
       "  2245.84,1020.01 2245.84,865.906 \n",
       "  \"/>\n",
       "<polyline clip-path=\"url(#clip982)\" style=\"stroke:#000000; stroke-linecap:butt; stroke-linejoin:round; stroke-width:4; stroke-opacity:1; fill:none\" points=\"\n",
       "  2175.18,1211.95 2175.18,1057.85 \n",
       "  \"/>\n",
       "<polyline clip-path=\"url(#clip982)\" style=\"stroke:#000000; stroke-linecap:butt; stroke-linejoin:round; stroke-width:4; stroke-opacity:1; fill:none\" points=\"\n",
       "  2218.35,320.388 2218.35,166.285 \n",
       "  \"/>\n",
       "<polyline clip-path=\"url(#clip982)\" style=\"stroke:#000000; stroke-linecap:butt; stroke-linejoin:round; stroke-width:4; stroke-opacity:1; fill:none\" points=\"\n",
       "  1691.92,908.944 1691.92,754.841 \n",
       "  \"/>\n",
       "<polyline clip-path=\"url(#clip982)\" style=\"stroke:#000000; stroke-linecap:butt; stroke-linejoin:round; stroke-width:4; stroke-opacity:1; fill:none\" points=\"\n",
       "  997.031,936.39 997.031,782.288 \n",
       "  \"/>\n",
       "<polyline clip-path=\"url(#clip982)\" style=\"stroke:#000000; stroke-linecap:butt; stroke-linejoin:round; stroke-width:4; stroke-opacity:1; fill:none\" points=\"\n",
       "  770.7,1180.03 770.7,1025.93 \n",
       "  \"/>\n",
       "<polyline clip-path=\"url(#clip982)\" style=\"stroke:#000000; stroke-linecap:butt; stroke-linejoin:round; stroke-width:4; stroke-opacity:1; fill:none\" points=\"\n",
       "  1555.72,1271.75 1555.72,1117.65 \n",
       "  \"/>\n",
       "<polyline clip-path=\"url(#clip982)\" style=\"stroke:#000000; stroke-linecap:butt; stroke-linejoin:round; stroke-width:4; stroke-opacity:1; fill:none\" points=\"\n",
       "  1473.39,1248.18 1473.39,1094.08 \n",
       "  \"/>\n",
       "<polyline clip-path=\"url(#clip982)\" style=\"stroke:#000000; stroke-linecap:butt; stroke-linejoin:round; stroke-width:4; stroke-opacity:1; fill:none\" points=\"\n",
       "  1168.57,1136.86 1168.57,982.757 \n",
       "  \"/>\n",
       "<polyline clip-path=\"url(#clip982)\" style=\"stroke:#000000; stroke-linecap:butt; stroke-linejoin:round; stroke-width:4; stroke-opacity:1; fill:none\" points=\"\n",
       "  1785.54,1145.75 1785.54,991.647 \n",
       "  \"/>\n",
       "<polyline clip-path=\"url(#clip982)\" style=\"stroke:#000000; stroke-linecap:butt; stroke-linejoin:round; stroke-width:4; stroke-opacity:1; fill:none\" points=\"\n",
       "  694.468,1168.97 694.468,1014.87 \n",
       "  \"/>\n",
       "<polyline clip-path=\"url(#clip982)\" style=\"stroke:#000000; stroke-linecap:butt; stroke-linejoin:round; stroke-width:4; stroke-opacity:1; fill:none\" points=\"\n",
       "  1878.94,1093.36 1878.94,939.253 \n",
       "  \"/>\n",
       "<polyline clip-path=\"url(#clip982)\" style=\"stroke:#000000; stroke-linecap:butt; stroke-linejoin:round; stroke-width:4; stroke-opacity:1; fill:none\" points=\"\n",
       "  365.918,1151.5 365.918,997.394 \n",
       "  \"/>\n",
       "<polyline clip-path=\"url(#clip982)\" style=\"stroke:#000000; stroke-linecap:butt; stroke-linejoin:round; stroke-width:4; stroke-opacity:1; fill:none\" points=\"\n",
       "  727.898,1028.01 727.898,873.904 \n",
       "  \"/>\n",
       "<polyline clip-path=\"url(#clip982)\" style=\"stroke:#000000; stroke-linecap:butt; stroke-linejoin:round; stroke-width:4; stroke-opacity:1; fill:none\" points=\"\n",
       "  431.924,1113.34 431.924,959.24 \n",
       "  \"/>\n",
       "<polyline clip-path=\"url(#clip982)\" style=\"stroke:#000000; stroke-linecap:butt; stroke-linejoin:round; stroke-width:4; stroke-opacity:1; fill:none\" points=\"\n",
       "  1329.03,1131.77 1329.03,977.666 \n",
       "  \"/>\n",
       "<polyline clip-path=\"url(#clip982)\" style=\"stroke:#000000; stroke-linecap:butt; stroke-linejoin:round; stroke-width:4; stroke-opacity:1; fill:none\" points=\"\n",
       "  1698.6,975.474 1698.6,821.371 \n",
       "  \"/>\n",
       "<polyline clip-path=\"url(#clip982)\" style=\"stroke:#000000; stroke-linecap:butt; stroke-linejoin:round; stroke-width:4; stroke-opacity:1; fill:none\" points=\"\n",
       "  361.046,933.127 361.046,779.025 \n",
       "  \"/>\n",
       "<polyline clip-path=\"url(#clip982)\" style=\"stroke:#000000; stroke-linecap:butt; stroke-linejoin:round; stroke-width:4; stroke-opacity:1; fill:none\" points=\"\n",
       "  1863.23,1190.92 1863.23,1036.82 \n",
       "  \"/>\n",
       "<polyline clip-path=\"url(#clip982)\" style=\"stroke:#000000; stroke-linecap:butt; stroke-linejoin:round; stroke-width:4; stroke-opacity:1; fill:none\" points=\"\n",
       "  2167.82,715.124 2167.82,561.022 \n",
       "  \"/>\n",
       "<polyline clip-path=\"url(#clip982)\" style=\"stroke:#000000; stroke-linecap:butt; stroke-linejoin:round; stroke-width:4; stroke-opacity:1; fill:none\" points=\"\n",
       "  1441.14,1386.4 1441.14,1232.29 \n",
       "  \"/>\n",
       "<polyline clip-path=\"url(#clip982)\" style=\"stroke:#000000; stroke-linecap:butt; stroke-linejoin:round; stroke-width:4; stroke-opacity:1; fill:none\" points=\"\n",
       "  689.827,1214.64 689.827,1060.54 \n",
       "  \"/>\n",
       "<polyline clip-path=\"url(#clip982)\" style=\"stroke:#000000; stroke-linecap:butt; stroke-linejoin:round; stroke-width:4; stroke-opacity:1; fill:none\" points=\"\n",
       "  1439.08,1214.1 1439.08,1060 \n",
       "  \"/>\n",
       "<polyline clip-path=\"url(#clip982)\" style=\"stroke:#000000; stroke-linecap:butt; stroke-linejoin:round; stroke-width:4; stroke-opacity:1; fill:none\" points=\"\n",
       "  2074.87,959.835 2074.87,805.732 \n",
       "  \"/>\n",
       "<polyline clip-path=\"url(#clip982)\" style=\"stroke:#000000; stroke-linecap:butt; stroke-linejoin:round; stroke-width:4; stroke-opacity:1; fill:none\" points=\"\n",
       "  1419.83,344.456 1419.83,190.353 \n",
       "  \"/>\n",
       "<polyline clip-path=\"url(#clip982)\" style=\"stroke:#000000; stroke-linecap:butt; stroke-linejoin:round; stroke-width:4; stroke-opacity:1; fill:none\" points=\"\n",
       "  1573.8,1061.62 1573.8,907.518 \n",
       "  \"/>\n",
       "<polyline clip-path=\"url(#clip982)\" style=\"stroke:#000000; stroke-linecap:butt; stroke-linejoin:round; stroke-width:4; stroke-opacity:1; fill:none\" points=\"\n",
       "  1586.43,1360 1586.43,1205.89 \n",
       "  \"/>\n",
       "<polyline clip-path=\"url(#clip982)\" style=\"stroke:#000000; stroke-linecap:butt; stroke-linejoin:round; stroke-width:4; stroke-opacity:1; fill:none\" points=\"\n",
       "  1634.49,1191.02 1634.49,1036.92 \n",
       "  \"/>\n",
       "<polyline clip-path=\"url(#clip982)\" style=\"stroke:#000000; stroke-linecap:butt; stroke-linejoin:round; stroke-width:4; stroke-opacity:1; fill:none\" points=\"\n",
       "  1476.23,1139.29 1476.23,985.184 \n",
       "  \"/>\n",
       "<polyline clip-path=\"url(#clip982)\" style=\"stroke:#000000; stroke-linecap:butt; stroke-linejoin:round; stroke-width:4; stroke-opacity:1; fill:none\" points=\"\n",
       "  1255.79,500.223 1255.79,346.12 \n",
       "  \"/>\n",
       "<polyline clip-path=\"url(#clip982)\" style=\"stroke:#000000; stroke-linecap:butt; stroke-linejoin:round; stroke-width:4; stroke-opacity:1; fill:none\" points=\"\n",
       "  664.1,976.963 664.1,822.86 \n",
       "  \"/>\n",
       "<polyline clip-path=\"url(#clip982)\" style=\"stroke:#000000; stroke-linecap:butt; stroke-linejoin:round; stroke-width:4; stroke-opacity:1; fill:none\" points=\"\n",
       "  609.795,1259.46 609.795,1105.36 \n",
       "  \"/>\n",
       "<polyline clip-path=\"url(#clip982)\" style=\"stroke:#000000; stroke-linecap:butt; stroke-linejoin:round; stroke-width:4; stroke-opacity:1; fill:none\" points=\"\n",
       "  1246.97,1242.19 1246.97,1088.08 \n",
       "  \"/>\n",
       "<polyline clip-path=\"url(#clip982)\" style=\"stroke:#000000; stroke-linecap:butt; stroke-linejoin:round; stroke-width:4; stroke-opacity:1; fill:none\" points=\"\n",
       "  940.079,1036.6 940.079,882.497 \n",
       "  \"/>\n",
       "<polyline clip-path=\"url(#clip982)\" style=\"stroke:#000000; stroke-linecap:butt; stroke-linejoin:round; stroke-width:4; stroke-opacity:1; fill:none\" points=\"\n",
       "  695.004,1034.7 695.004,880.596 \n",
       "  \"/>\n",
       "<polyline clip-path=\"url(#clip982)\" style=\"stroke:#000000; stroke-linecap:butt; stroke-linejoin:round; stroke-width:4; stroke-opacity:1; fill:none\" points=\"\n",
       "  598.578,1078.94 598.578,924.835 \n",
       "  \"/>\n",
       "<polyline clip-path=\"url(#clip982)\" style=\"stroke:#000000; stroke-linecap:butt; stroke-linejoin:round; stroke-width:4; stroke-opacity:1; fill:none\" points=\"\n",
       "  2052.98,714.706 2052.98,560.604 \n",
       "  \"/>\n",
       "<polyline clip-path=\"url(#clip982)\" style=\"stroke:#000000; stroke-linecap:butt; stroke-linejoin:round; stroke-width:4; stroke-opacity:1; fill:none\" points=\"\n",
       "  1205.05,732.751 1205.05,578.649 \n",
       "  \"/>\n",
       "<polyline clip-path=\"url(#clip982)\" style=\"stroke:#000000; stroke-linecap:butt; stroke-linejoin:round; stroke-width:4; stroke-opacity:1; fill:none\" points=\"\n",
       "  1307.67,1072.55 1307.67,918.451 \n",
       "  \"/>\n",
       "<polyline clip-path=\"url(#clip982)\" style=\"stroke:#000000; stroke-linecap:butt; stroke-linejoin:round; stroke-width:4; stroke-opacity:1; fill:none\" points=\"\n",
       "  1257.35,525.77 1257.35,371.668 \n",
       "  \"/>\n",
       "<polyline clip-path=\"url(#clip982)\" style=\"stroke:#000000; stroke-linecap:butt; stroke-linejoin:round; stroke-width:4; stroke-opacity:1; fill:none\" points=\"\n",
       "  426.664,1041.72 426.664,887.615 \n",
       "  \"/>\n",
       "<polyline clip-path=\"url(#clip982)\" style=\"stroke:#000000; stroke-linecap:butt; stroke-linejoin:round; stroke-width:4; stroke-opacity:1; fill:none\" points=\"\n",
       "  401.69,1095.88 401.69,941.781 \n",
       "  \"/>\n",
       "<polyline clip-path=\"url(#clip982)\" style=\"stroke:#000000; stroke-linecap:butt; stroke-linejoin:round; stroke-width:4; stroke-opacity:1; fill:none\" points=\"\n",
       "  578.63,989.803 578.63,835.701 \n",
       "  \"/>\n",
       "<polyline clip-path=\"url(#clip982)\" style=\"stroke:#000000; stroke-linecap:butt; stroke-linejoin:round; stroke-width:4; stroke-opacity:1; fill:none\" points=\"\n",
       "  1136.65,946.824 1136.65,792.722 \n",
       "  \"/>\n",
       "<line clip-path=\"url(#clip982)\" x1=\"1825.23\" y1=\"1180.63\" x2=\"1809.23\" y2=\"1180.63\" style=\"stroke:#000000; stroke-width:3.2; stroke-opacity:1\"/>\n",
       "<line clip-path=\"url(#clip982)\" x1=\"1825.23\" y1=\"1026.53\" x2=\"1809.23\" y2=\"1026.53\" style=\"stroke:#000000; stroke-width:3.2; stroke-opacity:1\"/>\n",
       "<line clip-path=\"url(#clip982)\" x1=\"1787.34\" y1=\"532.876\" x2=\"1771.34\" y2=\"532.876\" style=\"stroke:#000000; stroke-width:3.2; stroke-opacity:1\"/>\n",
       "<line clip-path=\"url(#clip982)\" x1=\"1787.34\" y1=\"378.773\" x2=\"1771.34\" y2=\"378.773\" style=\"stroke:#000000; stroke-width:3.2; stroke-opacity:1\"/>\n",
       "<line clip-path=\"url(#clip982)\" x1=\"814.305\" y1=\"1177.01\" x2=\"798.305\" y2=\"1177.01\" style=\"stroke:#000000; stroke-width:3.2; stroke-opacity:1\"/>\n",
       "<line clip-path=\"url(#clip982)\" x1=\"814.305\" y1=\"1022.9\" x2=\"798.305\" y2=\"1022.9\" style=\"stroke:#000000; stroke-width:3.2; stroke-opacity:1\"/>\n",
       "<line clip-path=\"url(#clip982)\" x1=\"1325.21\" y1=\"1032.63\" x2=\"1309.21\" y2=\"1032.63\" style=\"stroke:#000000; stroke-width:3.2; stroke-opacity:1\"/>\n",
       "<line clip-path=\"url(#clip982)\" x1=\"1325.21\" y1=\"878.532\" x2=\"1309.21\" y2=\"878.532\" style=\"stroke:#000000; stroke-width:3.2; stroke-opacity:1\"/>\n",
       "<line clip-path=\"url(#clip982)\" x1=\"1886.06\" y1=\"928.236\" x2=\"1870.06\" y2=\"928.236\" style=\"stroke:#000000; stroke-width:3.2; stroke-opacity:1\"/>\n",
       "<line clip-path=\"url(#clip982)\" x1=\"1886.06\" y1=\"774.133\" x2=\"1870.06\" y2=\"774.133\" style=\"stroke:#000000; stroke-width:3.2; stroke-opacity:1\"/>\n",
       "<line clip-path=\"url(#clip982)\" x1=\"1287.38\" y1=\"1170.21\" x2=\"1271.38\" y2=\"1170.21\" style=\"stroke:#000000; stroke-width:3.2; stroke-opacity:1\"/>\n",
       "<line clip-path=\"url(#clip982)\" x1=\"1287.38\" y1=\"1016.1\" x2=\"1271.38\" y2=\"1016.1\" style=\"stroke:#000000; stroke-width:3.2; stroke-opacity:1\"/>\n",
       "<line clip-path=\"url(#clip982)\" x1=\"1964.06\" y1=\"555.578\" x2=\"1948.06\" y2=\"555.578\" style=\"stroke:#000000; stroke-width:3.2; stroke-opacity:1\"/>\n",
       "<line clip-path=\"url(#clip982)\" x1=\"1964.06\" y1=\"401.476\" x2=\"1948.06\" y2=\"401.476\" style=\"stroke:#000000; stroke-width:3.2; stroke-opacity:1\"/>\n",
       "<line clip-path=\"url(#clip982)\" x1=\"674.111\" y1=\"698.852\" x2=\"658.111\" y2=\"698.852\" style=\"stroke:#000000; stroke-width:3.2; stroke-opacity:1\"/>\n",
       "<line clip-path=\"url(#clip982)\" x1=\"674.111\" y1=\"544.749\" x2=\"658.111\" y2=\"544.749\" style=\"stroke:#000000; stroke-width:3.2; stroke-opacity:1\"/>\n",
       "<line clip-path=\"url(#clip982)\" x1=\"1038.41\" y1=\"1002.22\" x2=\"1022.41\" y2=\"1002.22\" style=\"stroke:#000000; stroke-width:3.2; stroke-opacity:1\"/>\n",
       "<line clip-path=\"url(#clip982)\" x1=\"1038.41\" y1=\"848.117\" x2=\"1022.41\" y2=\"848.117\" style=\"stroke:#000000; stroke-width:3.2; stroke-opacity:1\"/>\n",
       "<line clip-path=\"url(#clip982)\" x1=\"1536.54\" y1=\"901.806\" x2=\"1520.54\" y2=\"901.806\" style=\"stroke:#000000; stroke-width:3.2; stroke-opacity:1\"/>\n",
       "<line clip-path=\"url(#clip982)\" x1=\"1536.54\" y1=\"747.703\" x2=\"1520.54\" y2=\"747.703\" style=\"stroke:#000000; stroke-width:3.2; stroke-opacity:1\"/>\n",
       "<line clip-path=\"url(#clip982)\" x1=\"709.354\" y1=\"395.958\" x2=\"693.354\" y2=\"395.958\" style=\"stroke:#000000; stroke-width:3.2; stroke-opacity:1\"/>\n",
       "<line clip-path=\"url(#clip982)\" x1=\"709.354\" y1=\"241.855\" x2=\"693.354\" y2=\"241.855\" style=\"stroke:#000000; stroke-width:3.2; stroke-opacity:1\"/>\n",
       "<line clip-path=\"url(#clip982)\" x1=\"1545.61\" y1=\"1268.87\" x2=\"1529.61\" y2=\"1268.87\" style=\"stroke:#000000; stroke-width:3.2; stroke-opacity:1\"/>\n",
       "<line clip-path=\"url(#clip982)\" x1=\"1545.61\" y1=\"1114.77\" x2=\"1529.61\" y2=\"1114.77\" style=\"stroke:#000000; stroke-width:3.2; stroke-opacity:1\"/>\n",
       "<line clip-path=\"url(#clip982)\" x1=\"1720.75\" y1=\"341.636\" x2=\"1704.75\" y2=\"341.636\" style=\"stroke:#000000; stroke-width:3.2; stroke-opacity:1\"/>\n",
       "<line clip-path=\"url(#clip982)\" x1=\"1720.75\" y1=\"187.534\" x2=\"1704.75\" y2=\"187.534\" style=\"stroke:#000000; stroke-width:3.2; stroke-opacity:1\"/>\n",
       "<line clip-path=\"url(#clip982)\" x1=\"1940.16\" y1=\"1237.17\" x2=\"1924.16\" y2=\"1237.17\" style=\"stroke:#000000; stroke-width:3.2; stroke-opacity:1\"/>\n",
       "<line clip-path=\"url(#clip982)\" x1=\"1940.16\" y1=\"1083.07\" x2=\"1924.16\" y2=\"1083.07\" style=\"stroke:#000000; stroke-width:3.2; stroke-opacity:1\"/>\n",
       "<line clip-path=\"url(#clip982)\" x1=\"2128.74\" y1=\"314.359\" x2=\"2112.74\" y2=\"314.359\" style=\"stroke:#000000; stroke-width:3.2; stroke-opacity:1\"/>\n",
       "<line clip-path=\"url(#clip982)\" x1=\"2128.74\" y1=\"160.256\" x2=\"2112.74\" y2=\"160.256\" style=\"stroke:#000000; stroke-width:3.2; stroke-opacity:1\"/>\n",
       "<line clip-path=\"url(#clip982)\" x1=\"1986.52\" y1=\"1258.69\" x2=\"1970.52\" y2=\"1258.69\" style=\"stroke:#000000; stroke-width:3.2; stroke-opacity:1\"/>\n",
       "<line clip-path=\"url(#clip982)\" x1=\"1986.52\" y1=\"1104.59\" x2=\"1970.52\" y2=\"1104.59\" style=\"stroke:#000000; stroke-width:3.2; stroke-opacity:1\"/>\n",
       "<line clip-path=\"url(#clip982)\" x1=\"1550.34\" y1=\"1173.78\" x2=\"1534.34\" y2=\"1173.78\" style=\"stroke:#000000; stroke-width:3.2; stroke-opacity:1\"/>\n",
       "<line clip-path=\"url(#clip982)\" x1=\"1550.34\" y1=\"1019.67\" x2=\"1534.34\" y2=\"1019.67\" style=\"stroke:#000000; stroke-width:3.2; stroke-opacity:1\"/>\n",
       "<line clip-path=\"url(#clip982)\" x1=\"1677.08\" y1=\"1372.18\" x2=\"1661.08\" y2=\"1372.18\" style=\"stroke:#000000; stroke-width:3.2; stroke-opacity:1\"/>\n",
       "<line clip-path=\"url(#clip982)\" x1=\"1677.08\" y1=\"1218.08\" x2=\"1661.08\" y2=\"1218.08\" style=\"stroke:#000000; stroke-width:3.2; stroke-opacity:1\"/>\n",
       "<line clip-path=\"url(#clip982)\" x1=\"746.805\" y1=\"1142.12\" x2=\"730.805\" y2=\"1142.12\" style=\"stroke:#000000; stroke-width:3.2; stroke-opacity:1\"/>\n",
       "<line clip-path=\"url(#clip982)\" x1=\"746.805\" y1=\"988.022\" x2=\"730.805\" y2=\"988.022\" style=\"stroke:#000000; stroke-width:3.2; stroke-opacity:1\"/>\n",
       "<line clip-path=\"url(#clip982)\" x1=\"1046.08\" y1=\"1040.46\" x2=\"1030.08\" y2=\"1040.46\" style=\"stroke:#000000; stroke-width:3.2; stroke-opacity:1\"/>\n",
       "<line clip-path=\"url(#clip982)\" x1=\"1046.08\" y1=\"886.358\" x2=\"1030.08\" y2=\"886.358\" style=\"stroke:#000000; stroke-width:3.2; stroke-opacity:1\"/>\n",
       "<line clip-path=\"url(#clip982)\" x1=\"518.054\" y1=\"1227.55\" x2=\"502.054\" y2=\"1227.55\" style=\"stroke:#000000; stroke-width:3.2; stroke-opacity:1\"/>\n",
       "<line clip-path=\"url(#clip982)\" x1=\"518.054\" y1=\"1073.44\" x2=\"502.054\" y2=\"1073.44\" style=\"stroke:#000000; stroke-width:3.2; stroke-opacity:1\"/>\n",
       "<line clip-path=\"url(#clip982)\" x1=\"1658.41\" y1=\"1150.77\" x2=\"1642.41\" y2=\"1150.77\" style=\"stroke:#000000; stroke-width:3.2; stroke-opacity:1\"/>\n",
       "<line clip-path=\"url(#clip982)\" x1=\"1658.41\" y1=\"996.671\" x2=\"1642.41\" y2=\"996.671\" style=\"stroke:#000000; stroke-width:3.2; stroke-opacity:1\"/>\n",
       "<line clip-path=\"url(#clip982)\" x1=\"991.031\" y1=\"1219.24\" x2=\"975.031\" y2=\"1219.24\" style=\"stroke:#000000; stroke-width:3.2; stroke-opacity:1\"/>\n",
       "<line clip-path=\"url(#clip982)\" x1=\"991.031\" y1=\"1065.14\" x2=\"975.031\" y2=\"1065.14\" style=\"stroke:#000000; stroke-width:3.2; stroke-opacity:1\"/>\n",
       "<line clip-path=\"url(#clip982)\" x1=\"1330.7\" y1=\"598.839\" x2=\"1314.7\" y2=\"598.839\" style=\"stroke:#000000; stroke-width:3.2; stroke-opacity:1\"/>\n",
       "<line clip-path=\"url(#clip982)\" x1=\"1330.7\" y1=\"444.737\" x2=\"1314.7\" y2=\"444.737\" style=\"stroke:#000000; stroke-width:3.2; stroke-opacity:1\"/>\n",
       "<line clip-path=\"url(#clip982)\" x1=\"868.022\" y1=\"727.132\" x2=\"852.022\" y2=\"727.132\" style=\"stroke:#000000; stroke-width:3.2; stroke-opacity:1\"/>\n",
       "<line clip-path=\"url(#clip982)\" x1=\"868.022\" y1=\"573.03\" x2=\"852.022\" y2=\"573.03\" style=\"stroke:#000000; stroke-width:3.2; stroke-opacity:1\"/>\n",
       "<line clip-path=\"url(#clip982)\" x1=\"1441.23\" y1=\"756.257\" x2=\"1425.23\" y2=\"756.257\" style=\"stroke:#000000; stroke-width:3.2; stroke-opacity:1\"/>\n",
       "<line clip-path=\"url(#clip982)\" x1=\"1441.23\" y1=\"602.154\" x2=\"1425.23\" y2=\"602.154\" style=\"stroke:#000000; stroke-width:3.2; stroke-opacity:1\"/>\n",
       "<line clip-path=\"url(#clip982)\" x1=\"1808.97\" y1=\"1314.46\" x2=\"1792.97\" y2=\"1314.46\" style=\"stroke:#000000; stroke-width:3.2; stroke-opacity:1\"/>\n",
       "<line clip-path=\"url(#clip982)\" x1=\"1808.97\" y1=\"1160.36\" x2=\"1792.97\" y2=\"1160.36\" style=\"stroke:#000000; stroke-width:3.2; stroke-opacity:1\"/>\n",
       "<line clip-path=\"url(#clip982)\" x1=\"1915.38\" y1=\"477.909\" x2=\"1899.38\" y2=\"477.909\" style=\"stroke:#000000; stroke-width:3.2; stroke-opacity:1\"/>\n",
       "<line clip-path=\"url(#clip982)\" x1=\"1915.38\" y1=\"323.807\" x2=\"1899.38\" y2=\"323.807\" style=\"stroke:#000000; stroke-width:3.2; stroke-opacity:1\"/>\n",
       "<line clip-path=\"url(#clip982)\" x1=\"324.512\" y1=\"1169.68\" x2=\"308.512\" y2=\"1169.68\" style=\"stroke:#000000; stroke-width:3.2; stroke-opacity:1\"/>\n",
       "<line clip-path=\"url(#clip982)\" x1=\"324.512\" y1=\"1015.58\" x2=\"308.512\" y2=\"1015.58\" style=\"stroke:#000000; stroke-width:3.2; stroke-opacity:1\"/>\n",
       "<line clip-path=\"url(#clip982)\" x1=\"915.542\" y1=\"1181.56\" x2=\"899.542\" y2=\"1181.56\" style=\"stroke:#000000; stroke-width:3.2; stroke-opacity:1\"/>\n",
       "<line clip-path=\"url(#clip982)\" x1=\"915.542\" y1=\"1027.46\" x2=\"899.542\" y2=\"1027.46\" style=\"stroke:#000000; stroke-width:3.2; stroke-opacity:1\"/>\n",
       "<line clip-path=\"url(#clip982)\" x1=\"2301.45\" y1=\"1132.28\" x2=\"2285.45\" y2=\"1132.28\" style=\"stroke:#000000; stroke-width:3.2; stroke-opacity:1\"/>\n",
       "<line clip-path=\"url(#clip982)\" x1=\"2301.45\" y1=\"978.177\" x2=\"2285.45\" y2=\"978.177\" style=\"stroke:#000000; stroke-width:3.2; stroke-opacity:1\"/>\n",
       "<line clip-path=\"url(#clip982)\" x1=\"1980.65\" y1=\"432.479\" x2=\"1964.65\" y2=\"432.479\" style=\"stroke:#000000; stroke-width:3.2; stroke-opacity:1\"/>\n",
       "<line clip-path=\"url(#clip982)\" x1=\"1980.65\" y1=\"278.376\" x2=\"1964.65\" y2=\"278.376\" style=\"stroke:#000000; stroke-width:3.2; stroke-opacity:1\"/>\n",
       "<line clip-path=\"url(#clip982)\" x1=\"2274.53\" y1=\"496.632\" x2=\"2258.53\" y2=\"496.632\" style=\"stroke:#000000; stroke-width:3.2; stroke-opacity:1\"/>\n",
       "<line clip-path=\"url(#clip982)\" x1=\"2274.53\" y1=\"342.53\" x2=\"2258.53\" y2=\"342.53\" style=\"stroke:#000000; stroke-width:3.2; stroke-opacity:1\"/>\n",
       "<line clip-path=\"url(#clip982)\" x1=\"705.781\" y1=\"754.422\" x2=\"689.781\" y2=\"754.422\" style=\"stroke:#000000; stroke-width:3.2; stroke-opacity:1\"/>\n",
       "<line clip-path=\"url(#clip982)\" x1=\"705.781\" y1=\"600.32\" x2=\"689.781\" y2=\"600.32\" style=\"stroke:#000000; stroke-width:3.2; stroke-opacity:1\"/>\n",
       "<line clip-path=\"url(#clip982)\" x1=\"1522.38\" y1=\"735.35\" x2=\"1506.38\" y2=\"735.35\" style=\"stroke:#000000; stroke-width:3.2; stroke-opacity:1\"/>\n",
       "<line clip-path=\"url(#clip982)\" x1=\"1522.38\" y1=\"581.247\" x2=\"1506.38\" y2=\"581.247\" style=\"stroke:#000000; stroke-width:3.2; stroke-opacity:1\"/>\n",
       "<line clip-path=\"url(#clip982)\" x1=\"1347.77\" y1=\"1031.79\" x2=\"1331.77\" y2=\"1031.79\" style=\"stroke:#000000; stroke-width:3.2; stroke-opacity:1\"/>\n",
       "<line clip-path=\"url(#clip982)\" x1=\"1347.77\" y1=\"877.693\" x2=\"1331.77\" y2=\"877.693\" style=\"stroke:#000000; stroke-width:3.2; stroke-opacity:1\"/>\n",
       "<line clip-path=\"url(#clip982)\" x1=\"1437.3\" y1=\"1057.38\" x2=\"1421.3\" y2=\"1057.38\" style=\"stroke:#000000; stroke-width:3.2; stroke-opacity:1\"/>\n",
       "<line clip-path=\"url(#clip982)\" x1=\"1437.3\" y1=\"903.277\" x2=\"1421.3\" y2=\"903.277\" style=\"stroke:#000000; stroke-width:3.2; stroke-opacity:1\"/>\n",
       "<line clip-path=\"url(#clip982)\" x1=\"1368\" y1=\"1214.79\" x2=\"1352\" y2=\"1214.79\" style=\"stroke:#000000; stroke-width:3.2; stroke-opacity:1\"/>\n",
       "<line clip-path=\"url(#clip982)\" x1=\"1368\" y1=\"1060.69\" x2=\"1352\" y2=\"1060.69\" style=\"stroke:#000000; stroke-width:3.2; stroke-opacity:1\"/>\n",
       "<line clip-path=\"url(#clip982)\" x1=\"383.745\" y1=\"494.89\" x2=\"367.745\" y2=\"494.89\" style=\"stroke:#000000; stroke-width:3.2; stroke-opacity:1\"/>\n",
       "<line clip-path=\"url(#clip982)\" x1=\"383.745\" y1=\"340.788\" x2=\"367.745\" y2=\"340.788\" style=\"stroke:#000000; stroke-width:3.2; stroke-opacity:1\"/>\n",
       "<line clip-path=\"url(#clip982)\" x1=\"1365.57\" y1=\"1227.28\" x2=\"1349.57\" y2=\"1227.28\" style=\"stroke:#000000; stroke-width:3.2; stroke-opacity:1\"/>\n",
       "<line clip-path=\"url(#clip982)\" x1=\"1365.57\" y1=\"1073.18\" x2=\"1349.57\" y2=\"1073.18\" style=\"stroke:#000000; stroke-width:3.2; stroke-opacity:1\"/>\n",
       "<line clip-path=\"url(#clip982)\" x1=\"1828.33\" y1=\"1068.11\" x2=\"1812.33\" y2=\"1068.11\" style=\"stroke:#000000; stroke-width:3.2; stroke-opacity:1\"/>\n",
       "<line clip-path=\"url(#clip982)\" x1=\"1828.33\" y1=\"914.01\" x2=\"1812.33\" y2=\"914.01\" style=\"stroke:#000000; stroke-width:3.2; stroke-opacity:1\"/>\n",
       "<line clip-path=\"url(#clip982)\" x1=\"804.991\" y1=\"680.69\" x2=\"788.991\" y2=\"680.69\" style=\"stroke:#000000; stroke-width:3.2; stroke-opacity:1\"/>\n",
       "<line clip-path=\"url(#clip982)\" x1=\"804.991\" y1=\"526.588\" x2=\"788.991\" y2=\"526.588\" style=\"stroke:#000000; stroke-width:3.2; stroke-opacity:1\"/>\n",
       "<line clip-path=\"url(#clip982)\" x1=\"791.607\" y1=\"585.509\" x2=\"775.607\" y2=\"585.509\" style=\"stroke:#000000; stroke-width:3.2; stroke-opacity:1\"/>\n",
       "<line clip-path=\"url(#clip982)\" x1=\"791.607\" y1=\"431.407\" x2=\"775.607\" y2=\"431.407\" style=\"stroke:#000000; stroke-width:3.2; stroke-opacity:1\"/>\n",
       "<line clip-path=\"url(#clip982)\" x1=\"1374.8\" y1=\"849.751\" x2=\"1358.8\" y2=\"849.751\" style=\"stroke:#000000; stroke-width:3.2; stroke-opacity:1\"/>\n",
       "<line clip-path=\"url(#clip982)\" x1=\"1374.8\" y1=\"695.649\" x2=\"1358.8\" y2=\"695.649\" style=\"stroke:#000000; stroke-width:3.2; stroke-opacity:1\"/>\n",
       "<line clip-path=\"url(#clip982)\" x1=\"2183.93\" y1=\"1341.48\" x2=\"2167.93\" y2=\"1341.48\" style=\"stroke:#000000; stroke-width:3.2; stroke-opacity:1\"/>\n",
       "<line clip-path=\"url(#clip982)\" x1=\"2183.93\" y1=\"1187.38\" x2=\"2167.93\" y2=\"1187.38\" style=\"stroke:#000000; stroke-width:3.2; stroke-opacity:1\"/>\n",
       "<line clip-path=\"url(#clip982)\" x1=\"552.463\" y1=\"1149.44\" x2=\"536.463\" y2=\"1149.44\" style=\"stroke:#000000; stroke-width:3.2; stroke-opacity:1\"/>\n",
       "<line clip-path=\"url(#clip982)\" x1=\"552.463\" y1=\"995.339\" x2=\"536.463\" y2=\"995.339\" style=\"stroke:#000000; stroke-width:3.2; stroke-opacity:1\"/>\n",
       "<line clip-path=\"url(#clip982)\" x1=\"641.498\" y1=\"782.962\" x2=\"625.498\" y2=\"782.962\" style=\"stroke:#000000; stroke-width:3.2; stroke-opacity:1\"/>\n",
       "<line clip-path=\"url(#clip982)\" x1=\"641.498\" y1=\"628.86\" x2=\"625.498\" y2=\"628.86\" style=\"stroke:#000000; stroke-width:3.2; stroke-opacity:1\"/>\n",
       "<line clip-path=\"url(#clip982)\" x1=\"970.461\" y1=\"425.426\" x2=\"954.461\" y2=\"425.426\" style=\"stroke:#000000; stroke-width:3.2; stroke-opacity:1\"/>\n",
       "<line clip-path=\"url(#clip982)\" x1=\"970.461\" y1=\"271.324\" x2=\"954.461\" y2=\"271.324\" style=\"stroke:#000000; stroke-width:3.2; stroke-opacity:1\"/>\n",
       "<line clip-path=\"url(#clip982)\" x1=\"698.251\" y1=\"1109.42\" x2=\"682.251\" y2=\"1109.42\" style=\"stroke:#000000; stroke-width:3.2; stroke-opacity:1\"/>\n",
       "<line clip-path=\"url(#clip982)\" x1=\"698.251\" y1=\"955.318\" x2=\"682.251\" y2=\"955.318\" style=\"stroke:#000000; stroke-width:3.2; stroke-opacity:1\"/>\n",
       "<line clip-path=\"url(#clip982)\" x1=\"512.194\" y1=\"478.935\" x2=\"496.194\" y2=\"478.935\" style=\"stroke:#000000; stroke-width:3.2; stroke-opacity:1\"/>\n",
       "<line clip-path=\"url(#clip982)\" x1=\"512.194\" y1=\"324.832\" x2=\"496.194\" y2=\"324.832\" style=\"stroke:#000000; stroke-width:3.2; stroke-opacity:1\"/>\n",
       "<line clip-path=\"url(#clip982)\" x1=\"1751.82\" y1=\"790.923\" x2=\"1735.82\" y2=\"790.923\" style=\"stroke:#000000; stroke-width:3.2; stroke-opacity:1\"/>\n",
       "<line clip-path=\"url(#clip982)\" x1=\"1751.82\" y1=\"636.821\" x2=\"1735.82\" y2=\"636.821\" style=\"stroke:#000000; stroke-width:3.2; stroke-opacity:1\"/>\n",
       "<line clip-path=\"url(#clip982)\" x1=\"1936.61\" y1=\"1203.86\" x2=\"1920.61\" y2=\"1203.86\" style=\"stroke:#000000; stroke-width:3.2; stroke-opacity:1\"/>\n",
       "<line clip-path=\"url(#clip982)\" x1=\"1936.61\" y1=\"1049.75\" x2=\"1920.61\" y2=\"1049.75\" style=\"stroke:#000000; stroke-width:3.2; stroke-opacity:1\"/>\n",
       "<line clip-path=\"url(#clip982)\" x1=\"797.781\" y1=\"1153.16\" x2=\"781.781\" y2=\"1153.16\" style=\"stroke:#000000; stroke-width:3.2; stroke-opacity:1\"/>\n",
       "<line clip-path=\"url(#clip982)\" x1=\"797.781\" y1=\"999.057\" x2=\"781.781\" y2=\"999.057\" style=\"stroke:#000000; stroke-width:3.2; stroke-opacity:1\"/>\n",
       "<line clip-path=\"url(#clip982)\" x1=\"1696.93\" y1=\"1150.18\" x2=\"1680.93\" y2=\"1150.18\" style=\"stroke:#000000; stroke-width:3.2; stroke-opacity:1\"/>\n",
       "<line clip-path=\"url(#clip982)\" x1=\"1696.93\" y1=\"996.077\" x2=\"1680.93\" y2=\"996.077\" style=\"stroke:#000000; stroke-width:3.2; stroke-opacity:1\"/>\n",
       "<line clip-path=\"url(#clip982)\" x1=\"1582.88\" y1=\"1131.08\" x2=\"1566.88\" y2=\"1131.08\" style=\"stroke:#000000; stroke-width:3.2; stroke-opacity:1\"/>\n",
       "<line clip-path=\"url(#clip982)\" x1=\"1582.88\" y1=\"976.973\" x2=\"1566.88\" y2=\"976.973\" style=\"stroke:#000000; stroke-width:3.2; stroke-opacity:1\"/>\n",
       "<line clip-path=\"url(#clip982)\" x1=\"1736.14\" y1=\"388.813\" x2=\"1720.14\" y2=\"388.813\" style=\"stroke:#000000; stroke-width:3.2; stroke-opacity:1\"/>\n",
       "<line clip-path=\"url(#clip982)\" x1=\"1736.14\" y1=\"234.711\" x2=\"1720.14\" y2=\"234.711\" style=\"stroke:#000000; stroke-width:3.2; stroke-opacity:1\"/>\n",
       "<line clip-path=\"url(#clip982)\" x1=\"2253.84\" y1=\"1020.01\" x2=\"2237.84\" y2=\"1020.01\" style=\"stroke:#000000; stroke-width:3.2; stroke-opacity:1\"/>\n",
       "<line clip-path=\"url(#clip982)\" x1=\"2253.84\" y1=\"865.906\" x2=\"2237.84\" y2=\"865.906\" style=\"stroke:#000000; stroke-width:3.2; stroke-opacity:1\"/>\n",
       "<line clip-path=\"url(#clip982)\" x1=\"2183.18\" y1=\"1211.95\" x2=\"2167.18\" y2=\"1211.95\" style=\"stroke:#000000; stroke-width:3.2; stroke-opacity:1\"/>\n",
       "<line clip-path=\"url(#clip982)\" x1=\"2183.18\" y1=\"1057.85\" x2=\"2167.18\" y2=\"1057.85\" style=\"stroke:#000000; stroke-width:3.2; stroke-opacity:1\"/>\n",
       "<line clip-path=\"url(#clip982)\" x1=\"2226.35\" y1=\"320.388\" x2=\"2210.35\" y2=\"320.388\" style=\"stroke:#000000; stroke-width:3.2; stroke-opacity:1\"/>\n",
       "<line clip-path=\"url(#clip982)\" x1=\"2226.35\" y1=\"166.285\" x2=\"2210.35\" y2=\"166.285\" style=\"stroke:#000000; stroke-width:3.2; stroke-opacity:1\"/>\n",
       "<line clip-path=\"url(#clip982)\" x1=\"1699.92\" y1=\"908.944\" x2=\"1683.92\" y2=\"908.944\" style=\"stroke:#000000; stroke-width:3.2; stroke-opacity:1\"/>\n",
       "<line clip-path=\"url(#clip982)\" x1=\"1699.92\" y1=\"754.841\" x2=\"1683.92\" y2=\"754.841\" style=\"stroke:#000000; stroke-width:3.2; stroke-opacity:1\"/>\n",
       "<line clip-path=\"url(#clip982)\" x1=\"1005.03\" y1=\"936.39\" x2=\"989.031\" y2=\"936.39\" style=\"stroke:#000000; stroke-width:3.2; stroke-opacity:1\"/>\n",
       "<line clip-path=\"url(#clip982)\" x1=\"1005.03\" y1=\"782.288\" x2=\"989.031\" y2=\"782.288\" style=\"stroke:#000000; stroke-width:3.2; stroke-opacity:1\"/>\n",
       "<line clip-path=\"url(#clip982)\" x1=\"778.7\" y1=\"1180.03\" x2=\"762.7\" y2=\"1180.03\" style=\"stroke:#000000; stroke-width:3.2; stroke-opacity:1\"/>\n",
       "<line clip-path=\"url(#clip982)\" x1=\"778.7\" y1=\"1025.93\" x2=\"762.7\" y2=\"1025.93\" style=\"stroke:#000000; stroke-width:3.2; stroke-opacity:1\"/>\n",
       "<line clip-path=\"url(#clip982)\" x1=\"1563.72\" y1=\"1271.75\" x2=\"1547.72\" y2=\"1271.75\" style=\"stroke:#000000; stroke-width:3.2; stroke-opacity:1\"/>\n",
       "<line clip-path=\"url(#clip982)\" x1=\"1563.72\" y1=\"1117.65\" x2=\"1547.72\" y2=\"1117.65\" style=\"stroke:#000000; stroke-width:3.2; stroke-opacity:1\"/>\n",
       "<line clip-path=\"url(#clip982)\" x1=\"1481.39\" y1=\"1248.18\" x2=\"1465.39\" y2=\"1248.18\" style=\"stroke:#000000; stroke-width:3.2; stroke-opacity:1\"/>\n",
       "<line clip-path=\"url(#clip982)\" x1=\"1481.39\" y1=\"1094.08\" x2=\"1465.39\" y2=\"1094.08\" style=\"stroke:#000000; stroke-width:3.2; stroke-opacity:1\"/>\n",
       "<line clip-path=\"url(#clip982)\" x1=\"1176.57\" y1=\"1136.86\" x2=\"1160.57\" y2=\"1136.86\" style=\"stroke:#000000; stroke-width:3.2; stroke-opacity:1\"/>\n",
       "<line clip-path=\"url(#clip982)\" x1=\"1176.57\" y1=\"982.757\" x2=\"1160.57\" y2=\"982.757\" style=\"stroke:#000000; stroke-width:3.2; stroke-opacity:1\"/>\n",
       "<line clip-path=\"url(#clip982)\" x1=\"1793.54\" y1=\"1145.75\" x2=\"1777.54\" y2=\"1145.75\" style=\"stroke:#000000; stroke-width:3.2; stroke-opacity:1\"/>\n",
       "<line clip-path=\"url(#clip982)\" x1=\"1793.54\" y1=\"991.647\" x2=\"1777.54\" y2=\"991.647\" style=\"stroke:#000000; stroke-width:3.2; stroke-opacity:1\"/>\n",
       "<line clip-path=\"url(#clip982)\" x1=\"702.468\" y1=\"1168.97\" x2=\"686.468\" y2=\"1168.97\" style=\"stroke:#000000; stroke-width:3.2; stroke-opacity:1\"/>\n",
       "<line clip-path=\"url(#clip982)\" x1=\"702.468\" y1=\"1014.87\" x2=\"686.468\" y2=\"1014.87\" style=\"stroke:#000000; stroke-width:3.2; stroke-opacity:1\"/>\n",
       "<line clip-path=\"url(#clip982)\" x1=\"1886.94\" y1=\"1093.36\" x2=\"1870.94\" y2=\"1093.36\" style=\"stroke:#000000; stroke-width:3.2; stroke-opacity:1\"/>\n",
       "<line clip-path=\"url(#clip982)\" x1=\"1886.94\" y1=\"939.253\" x2=\"1870.94\" y2=\"939.253\" style=\"stroke:#000000; stroke-width:3.2; stroke-opacity:1\"/>\n",
       "<line clip-path=\"url(#clip982)\" x1=\"373.918\" y1=\"1151.5\" x2=\"357.918\" y2=\"1151.5\" style=\"stroke:#000000; stroke-width:3.2; stroke-opacity:1\"/>\n",
       "<line clip-path=\"url(#clip982)\" x1=\"373.918\" y1=\"997.394\" x2=\"357.918\" y2=\"997.394\" style=\"stroke:#000000; stroke-width:3.2; stroke-opacity:1\"/>\n",
       "<line clip-path=\"url(#clip982)\" x1=\"735.898\" y1=\"1028.01\" x2=\"719.898\" y2=\"1028.01\" style=\"stroke:#000000; stroke-width:3.2; stroke-opacity:1\"/>\n",
       "<line clip-path=\"url(#clip982)\" x1=\"735.898\" y1=\"873.904\" x2=\"719.898\" y2=\"873.904\" style=\"stroke:#000000; stroke-width:3.2; stroke-opacity:1\"/>\n",
       "<line clip-path=\"url(#clip982)\" x1=\"439.924\" y1=\"1113.34\" x2=\"423.924\" y2=\"1113.34\" style=\"stroke:#000000; stroke-width:3.2; stroke-opacity:1\"/>\n",
       "<line clip-path=\"url(#clip982)\" x1=\"439.924\" y1=\"959.24\" x2=\"423.924\" y2=\"959.24\" style=\"stroke:#000000; stroke-width:3.2; stroke-opacity:1\"/>\n",
       "<line clip-path=\"url(#clip982)\" x1=\"1337.03\" y1=\"1131.77\" x2=\"1321.03\" y2=\"1131.77\" style=\"stroke:#000000; stroke-width:3.2; stroke-opacity:1\"/>\n",
       "<line clip-path=\"url(#clip982)\" x1=\"1337.03\" y1=\"977.666\" x2=\"1321.03\" y2=\"977.666\" style=\"stroke:#000000; stroke-width:3.2; stroke-opacity:1\"/>\n",
       "<line clip-path=\"url(#clip982)\" x1=\"1706.6\" y1=\"975.474\" x2=\"1690.6\" y2=\"975.474\" style=\"stroke:#000000; stroke-width:3.2; stroke-opacity:1\"/>\n",
       "<line clip-path=\"url(#clip982)\" x1=\"1706.6\" y1=\"821.371\" x2=\"1690.6\" y2=\"821.371\" style=\"stroke:#000000; stroke-width:3.2; stroke-opacity:1\"/>\n",
       "<line clip-path=\"url(#clip982)\" x1=\"369.046\" y1=\"933.127\" x2=\"353.046\" y2=\"933.127\" style=\"stroke:#000000; stroke-width:3.2; stroke-opacity:1\"/>\n",
       "<line clip-path=\"url(#clip982)\" x1=\"369.046\" y1=\"779.025\" x2=\"353.046\" y2=\"779.025\" style=\"stroke:#000000; stroke-width:3.2; stroke-opacity:1\"/>\n",
       "<line clip-path=\"url(#clip982)\" x1=\"1871.23\" y1=\"1190.92\" x2=\"1855.23\" y2=\"1190.92\" style=\"stroke:#000000; stroke-width:3.2; stroke-opacity:1\"/>\n",
       "<line clip-path=\"url(#clip982)\" x1=\"1871.23\" y1=\"1036.82\" x2=\"1855.23\" y2=\"1036.82\" style=\"stroke:#000000; stroke-width:3.2; stroke-opacity:1\"/>\n",
       "<line clip-path=\"url(#clip982)\" x1=\"2175.82\" y1=\"715.124\" x2=\"2159.82\" y2=\"715.124\" style=\"stroke:#000000; stroke-width:3.2; stroke-opacity:1\"/>\n",
       "<line clip-path=\"url(#clip982)\" x1=\"2175.82\" y1=\"561.022\" x2=\"2159.82\" y2=\"561.022\" style=\"stroke:#000000; stroke-width:3.2; stroke-opacity:1\"/>\n",
       "<line clip-path=\"url(#clip982)\" x1=\"1449.14\" y1=\"1386.4\" x2=\"1433.14\" y2=\"1386.4\" style=\"stroke:#000000; stroke-width:3.2; stroke-opacity:1\"/>\n",
       "<line clip-path=\"url(#clip982)\" x1=\"1449.14\" y1=\"1232.29\" x2=\"1433.14\" y2=\"1232.29\" style=\"stroke:#000000; stroke-width:3.2; stroke-opacity:1\"/>\n",
       "<line clip-path=\"url(#clip982)\" x1=\"697.827\" y1=\"1214.64\" x2=\"681.827\" y2=\"1214.64\" style=\"stroke:#000000; stroke-width:3.2; stroke-opacity:1\"/>\n",
       "<line clip-path=\"url(#clip982)\" x1=\"697.827\" y1=\"1060.54\" x2=\"681.827\" y2=\"1060.54\" style=\"stroke:#000000; stroke-width:3.2; stroke-opacity:1\"/>\n",
       "<line clip-path=\"url(#clip982)\" x1=\"1447.08\" y1=\"1214.1\" x2=\"1431.08\" y2=\"1214.1\" style=\"stroke:#000000; stroke-width:3.2; stroke-opacity:1\"/>\n",
       "<line clip-path=\"url(#clip982)\" x1=\"1447.08\" y1=\"1060\" x2=\"1431.08\" y2=\"1060\" style=\"stroke:#000000; stroke-width:3.2; stroke-opacity:1\"/>\n",
       "<line clip-path=\"url(#clip982)\" x1=\"2082.87\" y1=\"959.835\" x2=\"2066.87\" y2=\"959.835\" style=\"stroke:#000000; stroke-width:3.2; stroke-opacity:1\"/>\n",
       "<line clip-path=\"url(#clip982)\" x1=\"2082.87\" y1=\"805.732\" x2=\"2066.87\" y2=\"805.732\" style=\"stroke:#000000; stroke-width:3.2; stroke-opacity:1\"/>\n",
       "<line clip-path=\"url(#clip982)\" x1=\"1427.83\" y1=\"344.456\" x2=\"1411.83\" y2=\"344.456\" style=\"stroke:#000000; stroke-width:3.2; stroke-opacity:1\"/>\n",
       "<line clip-path=\"url(#clip982)\" x1=\"1427.83\" y1=\"190.353\" x2=\"1411.83\" y2=\"190.353\" style=\"stroke:#000000; stroke-width:3.2; stroke-opacity:1\"/>\n",
       "<line clip-path=\"url(#clip982)\" x1=\"1581.8\" y1=\"1061.62\" x2=\"1565.8\" y2=\"1061.62\" style=\"stroke:#000000; stroke-width:3.2; stroke-opacity:1\"/>\n",
       "<line clip-path=\"url(#clip982)\" x1=\"1581.8\" y1=\"907.518\" x2=\"1565.8\" y2=\"907.518\" style=\"stroke:#000000; stroke-width:3.2; stroke-opacity:1\"/>\n",
       "<line clip-path=\"url(#clip982)\" x1=\"1594.43\" y1=\"1360\" x2=\"1578.43\" y2=\"1360\" style=\"stroke:#000000; stroke-width:3.2; stroke-opacity:1\"/>\n",
       "<line clip-path=\"url(#clip982)\" x1=\"1594.43\" y1=\"1205.89\" x2=\"1578.43\" y2=\"1205.89\" style=\"stroke:#000000; stroke-width:3.2; stroke-opacity:1\"/>\n",
       "<line clip-path=\"url(#clip982)\" x1=\"1642.49\" y1=\"1191.02\" x2=\"1626.49\" y2=\"1191.02\" style=\"stroke:#000000; stroke-width:3.2; stroke-opacity:1\"/>\n",
       "<line clip-path=\"url(#clip982)\" x1=\"1642.49\" y1=\"1036.92\" x2=\"1626.49\" y2=\"1036.92\" style=\"stroke:#000000; stroke-width:3.2; stroke-opacity:1\"/>\n",
       "<line clip-path=\"url(#clip982)\" x1=\"1484.23\" y1=\"1139.29\" x2=\"1468.23\" y2=\"1139.29\" style=\"stroke:#000000; stroke-width:3.2; stroke-opacity:1\"/>\n",
       "<line clip-path=\"url(#clip982)\" x1=\"1484.23\" y1=\"985.184\" x2=\"1468.23\" y2=\"985.184\" style=\"stroke:#000000; stroke-width:3.2; stroke-opacity:1\"/>\n",
       "<line clip-path=\"url(#clip982)\" x1=\"1263.79\" y1=\"500.223\" x2=\"1247.79\" y2=\"500.223\" style=\"stroke:#000000; stroke-width:3.2; stroke-opacity:1\"/>\n",
       "<line clip-path=\"url(#clip982)\" x1=\"1263.79\" y1=\"346.12\" x2=\"1247.79\" y2=\"346.12\" style=\"stroke:#000000; stroke-width:3.2; stroke-opacity:1\"/>\n",
       "<line clip-path=\"url(#clip982)\" x1=\"672.1\" y1=\"976.963\" x2=\"656.1\" y2=\"976.963\" style=\"stroke:#000000; stroke-width:3.2; stroke-opacity:1\"/>\n",
       "<line clip-path=\"url(#clip982)\" x1=\"672.1\" y1=\"822.86\" x2=\"656.1\" y2=\"822.86\" style=\"stroke:#000000; stroke-width:3.2; stroke-opacity:1\"/>\n",
       "<line clip-path=\"url(#clip982)\" x1=\"617.795\" y1=\"1259.46\" x2=\"601.795\" y2=\"1259.46\" style=\"stroke:#000000; stroke-width:3.2; stroke-opacity:1\"/>\n",
       "<line clip-path=\"url(#clip982)\" x1=\"617.795\" y1=\"1105.36\" x2=\"601.795\" y2=\"1105.36\" style=\"stroke:#000000; stroke-width:3.2; stroke-opacity:1\"/>\n",
       "<line clip-path=\"url(#clip982)\" x1=\"1254.97\" y1=\"1242.19\" x2=\"1238.97\" y2=\"1242.19\" style=\"stroke:#000000; stroke-width:3.2; stroke-opacity:1\"/>\n",
       "<line clip-path=\"url(#clip982)\" x1=\"1254.97\" y1=\"1088.08\" x2=\"1238.97\" y2=\"1088.08\" style=\"stroke:#000000; stroke-width:3.2; stroke-opacity:1\"/>\n",
       "<line clip-path=\"url(#clip982)\" x1=\"948.079\" y1=\"1036.6\" x2=\"932.079\" y2=\"1036.6\" style=\"stroke:#000000; stroke-width:3.2; stroke-opacity:1\"/>\n",
       "<line clip-path=\"url(#clip982)\" x1=\"948.079\" y1=\"882.497\" x2=\"932.079\" y2=\"882.497\" style=\"stroke:#000000; stroke-width:3.2; stroke-opacity:1\"/>\n",
       "<line clip-path=\"url(#clip982)\" x1=\"703.004\" y1=\"1034.7\" x2=\"687.004\" y2=\"1034.7\" style=\"stroke:#000000; stroke-width:3.2; stroke-opacity:1\"/>\n",
       "<line clip-path=\"url(#clip982)\" x1=\"703.004\" y1=\"880.596\" x2=\"687.004\" y2=\"880.596\" style=\"stroke:#000000; stroke-width:3.2; stroke-opacity:1\"/>\n",
       "<line clip-path=\"url(#clip982)\" x1=\"606.578\" y1=\"1078.94\" x2=\"590.578\" y2=\"1078.94\" style=\"stroke:#000000; stroke-width:3.2; stroke-opacity:1\"/>\n",
       "<line clip-path=\"url(#clip982)\" x1=\"606.578\" y1=\"924.835\" x2=\"590.578\" y2=\"924.835\" style=\"stroke:#000000; stroke-width:3.2; stroke-opacity:1\"/>\n",
       "<line clip-path=\"url(#clip982)\" x1=\"2060.98\" y1=\"714.706\" x2=\"2044.98\" y2=\"714.706\" style=\"stroke:#000000; stroke-width:3.2; stroke-opacity:1\"/>\n",
       "<line clip-path=\"url(#clip982)\" x1=\"2060.98\" y1=\"560.604\" x2=\"2044.98\" y2=\"560.604\" style=\"stroke:#000000; stroke-width:3.2; stroke-opacity:1\"/>\n",
       "<line clip-path=\"url(#clip982)\" x1=\"1213.05\" y1=\"732.751\" x2=\"1197.05\" y2=\"732.751\" style=\"stroke:#000000; stroke-width:3.2; stroke-opacity:1\"/>\n",
       "<line clip-path=\"url(#clip982)\" x1=\"1213.05\" y1=\"578.649\" x2=\"1197.05\" y2=\"578.649\" style=\"stroke:#000000; stroke-width:3.2; stroke-opacity:1\"/>\n",
       "<line clip-path=\"url(#clip982)\" x1=\"1315.67\" y1=\"1072.55\" x2=\"1299.67\" y2=\"1072.55\" style=\"stroke:#000000; stroke-width:3.2; stroke-opacity:1\"/>\n",
       "<line clip-path=\"url(#clip982)\" x1=\"1315.67\" y1=\"918.451\" x2=\"1299.67\" y2=\"918.451\" style=\"stroke:#000000; stroke-width:3.2; stroke-opacity:1\"/>\n",
       "<line clip-path=\"url(#clip982)\" x1=\"1265.35\" y1=\"525.77\" x2=\"1249.35\" y2=\"525.77\" style=\"stroke:#000000; stroke-width:3.2; stroke-opacity:1\"/>\n",
       "<line clip-path=\"url(#clip982)\" x1=\"1265.35\" y1=\"371.668\" x2=\"1249.35\" y2=\"371.668\" style=\"stroke:#000000; stroke-width:3.2; stroke-opacity:1\"/>\n",
       "<line clip-path=\"url(#clip982)\" x1=\"434.664\" y1=\"1041.72\" x2=\"418.664\" y2=\"1041.72\" style=\"stroke:#000000; stroke-width:3.2; stroke-opacity:1\"/>\n",
       "<line clip-path=\"url(#clip982)\" x1=\"434.664\" y1=\"887.615\" x2=\"418.664\" y2=\"887.615\" style=\"stroke:#000000; stroke-width:3.2; stroke-opacity:1\"/>\n",
       "<line clip-path=\"url(#clip982)\" x1=\"409.69\" y1=\"1095.88\" x2=\"393.69\" y2=\"1095.88\" style=\"stroke:#000000; stroke-width:3.2; stroke-opacity:1\"/>\n",
       "<line clip-path=\"url(#clip982)\" x1=\"409.69\" y1=\"941.781\" x2=\"393.69\" y2=\"941.781\" style=\"stroke:#000000; stroke-width:3.2; stroke-opacity:1\"/>\n",
       "<line clip-path=\"url(#clip982)\" x1=\"586.63\" y1=\"989.803\" x2=\"570.63\" y2=\"989.803\" style=\"stroke:#000000; stroke-width:3.2; stroke-opacity:1\"/>\n",
       "<line clip-path=\"url(#clip982)\" x1=\"586.63\" y1=\"835.701\" x2=\"570.63\" y2=\"835.701\" style=\"stroke:#000000; stroke-width:3.2; stroke-opacity:1\"/>\n",
       "<line clip-path=\"url(#clip982)\" x1=\"1144.65\" y1=\"946.824\" x2=\"1128.65\" y2=\"946.824\" style=\"stroke:#000000; stroke-width:3.2; stroke-opacity:1\"/>\n",
       "<line clip-path=\"url(#clip982)\" x1=\"1144.65\" y1=\"792.722\" x2=\"1128.65\" y2=\"792.722\" style=\"stroke:#000000; stroke-width:3.2; stroke-opacity:1\"/>\n",
       "<circle clip-path=\"url(#clip982)\" cx=\"1817.23\" cy=\"1103.58\" r=\"7\" fill=\"#009af9\" fill-rule=\"evenodd\" fill-opacity=\"1\" stroke=\"#000000\" stroke-opacity=\"1\" stroke-width=\"3.2\"/>\n",
       "<circle clip-path=\"url(#clip982)\" cx=\"1779.34\" cy=\"455.825\" r=\"7\" fill=\"#009af9\" fill-rule=\"evenodd\" fill-opacity=\"1\" stroke=\"#000000\" stroke-opacity=\"1\" stroke-width=\"3.2\"/>\n",
       "<circle clip-path=\"url(#clip982)\" cx=\"806.305\" cy=\"1099.96\" r=\"7\" fill=\"#009af9\" fill-rule=\"evenodd\" fill-opacity=\"1\" stroke=\"#000000\" stroke-opacity=\"1\" stroke-width=\"3.2\"/>\n",
       "<circle clip-path=\"url(#clip982)\" cx=\"1317.21\" cy=\"955.583\" r=\"7\" fill=\"#009af9\" fill-rule=\"evenodd\" fill-opacity=\"1\" stroke=\"#000000\" stroke-opacity=\"1\" stroke-width=\"3.2\"/>\n",
       "<circle clip-path=\"url(#clip982)\" cx=\"1878.06\" cy=\"851.185\" r=\"7\" fill=\"#009af9\" fill-rule=\"evenodd\" fill-opacity=\"1\" stroke=\"#000000\" stroke-opacity=\"1\" stroke-width=\"3.2\"/>\n",
       "<circle clip-path=\"url(#clip982)\" cx=\"1279.38\" cy=\"1093.16\" r=\"7\" fill=\"#009af9\" fill-rule=\"evenodd\" fill-opacity=\"1\" stroke=\"#000000\" stroke-opacity=\"1\" stroke-width=\"3.2\"/>\n",
       "<circle clip-path=\"url(#clip982)\" cx=\"1956.06\" cy=\"478.527\" r=\"7\" fill=\"#009af9\" fill-rule=\"evenodd\" fill-opacity=\"1\" stroke=\"#000000\" stroke-opacity=\"1\" stroke-width=\"3.2\"/>\n",
       "<circle clip-path=\"url(#clip982)\" cx=\"666.111\" cy=\"621.801\" r=\"7\" fill=\"#009af9\" fill-rule=\"evenodd\" fill-opacity=\"1\" stroke=\"#000000\" stroke-opacity=\"1\" stroke-width=\"3.2\"/>\n",
       "<circle clip-path=\"url(#clip982)\" cx=\"1030.41\" cy=\"925.168\" r=\"7\" fill=\"#009af9\" fill-rule=\"evenodd\" fill-opacity=\"1\" stroke=\"#000000\" stroke-opacity=\"1\" stroke-width=\"3.2\"/>\n",
       "<circle clip-path=\"url(#clip982)\" cx=\"1528.54\" cy=\"824.755\" r=\"7\" fill=\"#009af9\" fill-rule=\"evenodd\" fill-opacity=\"1\" stroke=\"#000000\" stroke-opacity=\"1\" stroke-width=\"3.2\"/>\n",
       "<circle clip-path=\"url(#clip982)\" cx=\"701.354\" cy=\"318.907\" r=\"7\" fill=\"#009af9\" fill-rule=\"evenodd\" fill-opacity=\"1\" stroke=\"#000000\" stroke-opacity=\"1\" stroke-width=\"3.2\"/>\n",
       "<circle clip-path=\"url(#clip982)\" cx=\"1537.61\" cy=\"1191.82\" r=\"7\" fill=\"#009af9\" fill-rule=\"evenodd\" fill-opacity=\"1\" stroke=\"#000000\" stroke-opacity=\"1\" stroke-width=\"3.2\"/>\n",
       "<circle clip-path=\"url(#clip982)\" cx=\"1712.75\" cy=\"264.585\" r=\"7\" fill=\"#009af9\" fill-rule=\"evenodd\" fill-opacity=\"1\" stroke=\"#000000\" stroke-opacity=\"1\" stroke-width=\"3.2\"/>\n",
       "<circle clip-path=\"url(#clip982)\" cx=\"1932.16\" cy=\"1160.12\" r=\"7\" fill=\"#009af9\" fill-rule=\"evenodd\" fill-opacity=\"1\" stroke=\"#000000\" stroke-opacity=\"1\" stroke-width=\"3.2\"/>\n",
       "<circle clip-path=\"url(#clip982)\" cx=\"2120.74\" cy=\"237.307\" r=\"7\" fill=\"#009af9\" fill-rule=\"evenodd\" fill-opacity=\"1\" stroke=\"#000000\" stroke-opacity=\"1\" stroke-width=\"3.2\"/>\n",
       "<circle clip-path=\"url(#clip982)\" cx=\"1978.52\" cy=\"1181.64\" r=\"7\" fill=\"#009af9\" fill-rule=\"evenodd\" fill-opacity=\"1\" stroke=\"#000000\" stroke-opacity=\"1\" stroke-width=\"3.2\"/>\n",
       "<circle clip-path=\"url(#clip982)\" cx=\"1542.34\" cy=\"1096.73\" r=\"7\" fill=\"#009af9\" fill-rule=\"evenodd\" fill-opacity=\"1\" stroke=\"#000000\" stroke-opacity=\"1\" stroke-width=\"3.2\"/>\n",
       "<circle clip-path=\"url(#clip982)\" cx=\"1669.08\" cy=\"1295.13\" r=\"7\" fill=\"#009af9\" fill-rule=\"evenodd\" fill-opacity=\"1\" stroke=\"#000000\" stroke-opacity=\"1\" stroke-width=\"3.2\"/>\n",
       "<circle clip-path=\"url(#clip982)\" cx=\"738.805\" cy=\"1065.07\" r=\"7\" fill=\"#009af9\" fill-rule=\"evenodd\" fill-opacity=\"1\" stroke=\"#000000\" stroke-opacity=\"1\" stroke-width=\"3.2\"/>\n",
       "<circle clip-path=\"url(#clip982)\" cx=\"1038.08\" cy=\"963.409\" r=\"7\" fill=\"#009af9\" fill-rule=\"evenodd\" fill-opacity=\"1\" stroke=\"#000000\" stroke-opacity=\"1\" stroke-width=\"3.2\"/>\n",
       "<circle clip-path=\"url(#clip982)\" cx=\"510.054\" cy=\"1150.49\" r=\"7\" fill=\"#009af9\" fill-rule=\"evenodd\" fill-opacity=\"1\" stroke=\"#000000\" stroke-opacity=\"1\" stroke-width=\"3.2\"/>\n",
       "<circle clip-path=\"url(#clip982)\" cx=\"1650.41\" cy=\"1073.72\" r=\"7\" fill=\"#009af9\" fill-rule=\"evenodd\" fill-opacity=\"1\" stroke=\"#000000\" stroke-opacity=\"1\" stroke-width=\"3.2\"/>\n",
       "<circle clip-path=\"url(#clip982)\" cx=\"983.031\" cy=\"1142.19\" r=\"7\" fill=\"#009af9\" fill-rule=\"evenodd\" fill-opacity=\"1\" stroke=\"#000000\" stroke-opacity=\"1\" stroke-width=\"3.2\"/>\n",
       "<circle clip-path=\"url(#clip982)\" cx=\"1322.7\" cy=\"521.788\" r=\"7\" fill=\"#009af9\" fill-rule=\"evenodd\" fill-opacity=\"1\" stroke=\"#000000\" stroke-opacity=\"1\" stroke-width=\"3.2\"/>\n",
       "<circle clip-path=\"url(#clip982)\" cx=\"860.022\" cy=\"650.081\" r=\"7\" fill=\"#009af9\" fill-rule=\"evenodd\" fill-opacity=\"1\" stroke=\"#000000\" stroke-opacity=\"1\" stroke-width=\"3.2\"/>\n",
       "<circle clip-path=\"url(#clip982)\" cx=\"1433.23\" cy=\"679.206\" r=\"7\" fill=\"#009af9\" fill-rule=\"evenodd\" fill-opacity=\"1\" stroke=\"#000000\" stroke-opacity=\"1\" stroke-width=\"3.2\"/>\n",
       "<circle clip-path=\"url(#clip982)\" cx=\"1800.97\" cy=\"1237.41\" r=\"7\" fill=\"#009af9\" fill-rule=\"evenodd\" fill-opacity=\"1\" stroke=\"#000000\" stroke-opacity=\"1\" stroke-width=\"3.2\"/>\n",
       "<circle clip-path=\"url(#clip982)\" cx=\"1907.38\" cy=\"400.858\" r=\"7\" fill=\"#009af9\" fill-rule=\"evenodd\" fill-opacity=\"1\" stroke=\"#000000\" stroke-opacity=\"1\" stroke-width=\"3.2\"/>\n",
       "<circle clip-path=\"url(#clip982)\" cx=\"316.512\" cy=\"1092.63\" r=\"7\" fill=\"#009af9\" fill-rule=\"evenodd\" fill-opacity=\"1\" stroke=\"#000000\" stroke-opacity=\"1\" stroke-width=\"3.2\"/>\n",
       "<circle clip-path=\"url(#clip982)\" cx=\"907.542\" cy=\"1104.51\" r=\"7\" fill=\"#009af9\" fill-rule=\"evenodd\" fill-opacity=\"1\" stroke=\"#000000\" stroke-opacity=\"1\" stroke-width=\"3.2\"/>\n",
       "<circle clip-path=\"url(#clip982)\" cx=\"2293.45\" cy=\"1055.23\" r=\"7\" fill=\"#009af9\" fill-rule=\"evenodd\" fill-opacity=\"1\" stroke=\"#000000\" stroke-opacity=\"1\" stroke-width=\"3.2\"/>\n",
       "<circle clip-path=\"url(#clip982)\" cx=\"1972.65\" cy=\"355.427\" r=\"7\" fill=\"#009af9\" fill-rule=\"evenodd\" fill-opacity=\"1\" stroke=\"#000000\" stroke-opacity=\"1\" stroke-width=\"3.2\"/>\n",
       "<circle clip-path=\"url(#clip982)\" cx=\"2266.53\" cy=\"419.581\" r=\"7\" fill=\"#009af9\" fill-rule=\"evenodd\" fill-opacity=\"1\" stroke=\"#000000\" stroke-opacity=\"1\" stroke-width=\"3.2\"/>\n",
       "<circle clip-path=\"url(#clip982)\" cx=\"697.781\" cy=\"677.371\" r=\"7\" fill=\"#009af9\" fill-rule=\"evenodd\" fill-opacity=\"1\" stroke=\"#000000\" stroke-opacity=\"1\" stroke-width=\"3.2\"/>\n",
       "<circle clip-path=\"url(#clip982)\" cx=\"1514.38\" cy=\"658.298\" r=\"7\" fill=\"#009af9\" fill-rule=\"evenodd\" fill-opacity=\"1\" stroke=\"#000000\" stroke-opacity=\"1\" stroke-width=\"3.2\"/>\n",
       "<circle clip-path=\"url(#clip982)\" cx=\"1339.77\" cy=\"954.744\" r=\"7\" fill=\"#009af9\" fill-rule=\"evenodd\" fill-opacity=\"1\" stroke=\"#000000\" stroke-opacity=\"1\" stroke-width=\"3.2\"/>\n",
       "<circle clip-path=\"url(#clip982)\" cx=\"1429.3\" cy=\"980.328\" r=\"7\" fill=\"#009af9\" fill-rule=\"evenodd\" fill-opacity=\"1\" stroke=\"#000000\" stroke-opacity=\"1\" stroke-width=\"3.2\"/>\n",
       "<circle clip-path=\"url(#clip982)\" cx=\"1360\" cy=\"1137.74\" r=\"7\" fill=\"#009af9\" fill-rule=\"evenodd\" fill-opacity=\"1\" stroke=\"#000000\" stroke-opacity=\"1\" stroke-width=\"3.2\"/>\n",
       "<circle clip-path=\"url(#clip982)\" cx=\"375.745\" cy=\"417.839\" r=\"7\" fill=\"#009af9\" fill-rule=\"evenodd\" fill-opacity=\"1\" stroke=\"#000000\" stroke-opacity=\"1\" stroke-width=\"3.2\"/>\n",
       "<circle clip-path=\"url(#clip982)\" cx=\"1357.57\" cy=\"1150.23\" r=\"7\" fill=\"#009af9\" fill-rule=\"evenodd\" fill-opacity=\"1\" stroke=\"#000000\" stroke-opacity=\"1\" stroke-width=\"3.2\"/>\n",
       "<circle clip-path=\"url(#clip982)\" cx=\"1820.33\" cy=\"991.061\" r=\"7\" fill=\"#009af9\" fill-rule=\"evenodd\" fill-opacity=\"1\" stroke=\"#000000\" stroke-opacity=\"1\" stroke-width=\"3.2\"/>\n",
       "<circle clip-path=\"url(#clip982)\" cx=\"796.991\" cy=\"603.639\" r=\"7\" fill=\"#009af9\" fill-rule=\"evenodd\" fill-opacity=\"1\" stroke=\"#000000\" stroke-opacity=\"1\" stroke-width=\"3.2\"/>\n",
       "<circle clip-path=\"url(#clip982)\" cx=\"783.607\" cy=\"508.458\" r=\"7\" fill=\"#009af9\" fill-rule=\"evenodd\" fill-opacity=\"1\" stroke=\"#000000\" stroke-opacity=\"1\" stroke-width=\"3.2\"/>\n",
       "<circle clip-path=\"url(#clip982)\" cx=\"1366.8\" cy=\"772.7\" r=\"7\" fill=\"#009af9\" fill-rule=\"evenodd\" fill-opacity=\"1\" stroke=\"#000000\" stroke-opacity=\"1\" stroke-width=\"3.2\"/>\n",
       "<circle clip-path=\"url(#clip982)\" cx=\"2175.93\" cy=\"1264.43\" r=\"7\" fill=\"#009af9\" fill-rule=\"evenodd\" fill-opacity=\"1\" stroke=\"#000000\" stroke-opacity=\"1\" stroke-width=\"3.2\"/>\n",
       "<circle clip-path=\"url(#clip982)\" cx=\"544.463\" cy=\"1072.39\" r=\"7\" fill=\"#009af9\" fill-rule=\"evenodd\" fill-opacity=\"1\" stroke=\"#000000\" stroke-opacity=\"1\" stroke-width=\"3.2\"/>\n",
       "<circle clip-path=\"url(#clip982)\" cx=\"633.498\" cy=\"705.911\" r=\"7\" fill=\"#009af9\" fill-rule=\"evenodd\" fill-opacity=\"1\" stroke=\"#000000\" stroke-opacity=\"1\" stroke-width=\"3.2\"/>\n",
       "<circle clip-path=\"url(#clip982)\" cx=\"962.461\" cy=\"348.375\" r=\"7\" fill=\"#009af9\" fill-rule=\"evenodd\" fill-opacity=\"1\" stroke=\"#000000\" stroke-opacity=\"1\" stroke-width=\"3.2\"/>\n",
       "<circle clip-path=\"url(#clip982)\" cx=\"690.251\" cy=\"1032.37\" r=\"7\" fill=\"#009af9\" fill-rule=\"evenodd\" fill-opacity=\"1\" stroke=\"#000000\" stroke-opacity=\"1\" stroke-width=\"3.2\"/>\n",
       "<circle clip-path=\"url(#clip982)\" cx=\"504.194\" cy=\"401.884\" r=\"7\" fill=\"#009af9\" fill-rule=\"evenodd\" fill-opacity=\"1\" stroke=\"#000000\" stroke-opacity=\"1\" stroke-width=\"3.2\"/>\n",
       "<circle clip-path=\"url(#clip982)\" cx=\"1743.82\" cy=\"713.872\" r=\"7\" fill=\"#009af9\" fill-rule=\"evenodd\" fill-opacity=\"1\" stroke=\"#000000\" stroke-opacity=\"1\" stroke-width=\"3.2\"/>\n",
       "<circle clip-path=\"url(#clip982)\" cx=\"1928.61\" cy=\"1126.8\" r=\"7\" fill=\"#009af9\" fill-rule=\"evenodd\" fill-opacity=\"1\" stroke=\"#000000\" stroke-opacity=\"1\" stroke-width=\"3.2\"/>\n",
       "<circle clip-path=\"url(#clip982)\" cx=\"789.781\" cy=\"1076.11\" r=\"7\" fill=\"#009af9\" fill-rule=\"evenodd\" fill-opacity=\"1\" stroke=\"#000000\" stroke-opacity=\"1\" stroke-width=\"3.2\"/>\n",
       "<circle clip-path=\"url(#clip982)\" cx=\"1688.93\" cy=\"1073.13\" r=\"7\" fill=\"#009af9\" fill-rule=\"evenodd\" fill-opacity=\"1\" stroke=\"#000000\" stroke-opacity=\"1\" stroke-width=\"3.2\"/>\n",
       "<circle clip-path=\"url(#clip982)\" cx=\"1574.88\" cy=\"1054.02\" r=\"7\" fill=\"#009af9\" fill-rule=\"evenodd\" fill-opacity=\"1\" stroke=\"#000000\" stroke-opacity=\"1\" stroke-width=\"3.2\"/>\n",
       "<circle clip-path=\"url(#clip982)\" cx=\"1728.14\" cy=\"311.762\" r=\"7\" fill=\"#009af9\" fill-rule=\"evenodd\" fill-opacity=\"1\" stroke=\"#000000\" stroke-opacity=\"1\" stroke-width=\"3.2\"/>\n",
       "<circle clip-path=\"url(#clip982)\" cx=\"2245.84\" cy=\"942.957\" r=\"7\" fill=\"#009af9\" fill-rule=\"evenodd\" fill-opacity=\"1\" stroke=\"#000000\" stroke-opacity=\"1\" stroke-width=\"3.2\"/>\n",
       "<circle clip-path=\"url(#clip982)\" cx=\"2175.18\" cy=\"1134.9\" r=\"7\" fill=\"#009af9\" fill-rule=\"evenodd\" fill-opacity=\"1\" stroke=\"#000000\" stroke-opacity=\"1\" stroke-width=\"3.2\"/>\n",
       "<circle clip-path=\"url(#clip982)\" cx=\"2218.35\" cy=\"243.337\" r=\"7\" fill=\"#009af9\" fill-rule=\"evenodd\" fill-opacity=\"1\" stroke=\"#000000\" stroke-opacity=\"1\" stroke-width=\"3.2\"/>\n",
       "<circle clip-path=\"url(#clip982)\" cx=\"1691.92\" cy=\"831.893\" r=\"7\" fill=\"#009af9\" fill-rule=\"evenodd\" fill-opacity=\"1\" stroke=\"#000000\" stroke-opacity=\"1\" stroke-width=\"3.2\"/>\n",
       "<circle clip-path=\"url(#clip982)\" cx=\"997.031\" cy=\"859.339\" r=\"7\" fill=\"#009af9\" fill-rule=\"evenodd\" fill-opacity=\"1\" stroke=\"#000000\" stroke-opacity=\"1\" stroke-width=\"3.2\"/>\n",
       "<circle clip-path=\"url(#clip982)\" cx=\"770.7\" cy=\"1102.98\" r=\"7\" fill=\"#009af9\" fill-rule=\"evenodd\" fill-opacity=\"1\" stroke=\"#000000\" stroke-opacity=\"1\" stroke-width=\"3.2\"/>\n",
       "<circle clip-path=\"url(#clip982)\" cx=\"1555.72\" cy=\"1194.7\" r=\"7\" fill=\"#009af9\" fill-rule=\"evenodd\" fill-opacity=\"1\" stroke=\"#000000\" stroke-opacity=\"1\" stroke-width=\"3.2\"/>\n",
       "<circle clip-path=\"url(#clip982)\" cx=\"1473.39\" cy=\"1171.13\" r=\"7\" fill=\"#009af9\" fill-rule=\"evenodd\" fill-opacity=\"1\" stroke=\"#000000\" stroke-opacity=\"1\" stroke-width=\"3.2\"/>\n",
       "<circle clip-path=\"url(#clip982)\" cx=\"1168.57\" cy=\"1059.81\" r=\"7\" fill=\"#009af9\" fill-rule=\"evenodd\" fill-opacity=\"1\" stroke=\"#000000\" stroke-opacity=\"1\" stroke-width=\"3.2\"/>\n",
       "<circle clip-path=\"url(#clip982)\" cx=\"1785.54\" cy=\"1068.7\" r=\"7\" fill=\"#009af9\" fill-rule=\"evenodd\" fill-opacity=\"1\" stroke=\"#000000\" stroke-opacity=\"1\" stroke-width=\"3.2\"/>\n",
       "<circle clip-path=\"url(#clip982)\" cx=\"694.468\" cy=\"1091.92\" r=\"7\" fill=\"#009af9\" fill-rule=\"evenodd\" fill-opacity=\"1\" stroke=\"#000000\" stroke-opacity=\"1\" stroke-width=\"3.2\"/>\n",
       "<circle clip-path=\"url(#clip982)\" cx=\"1878.94\" cy=\"1016.3\" r=\"7\" fill=\"#009af9\" fill-rule=\"evenodd\" fill-opacity=\"1\" stroke=\"#000000\" stroke-opacity=\"1\" stroke-width=\"3.2\"/>\n",
       "<circle clip-path=\"url(#clip982)\" cx=\"365.918\" cy=\"1074.45\" r=\"7\" fill=\"#009af9\" fill-rule=\"evenodd\" fill-opacity=\"1\" stroke=\"#000000\" stroke-opacity=\"1\" stroke-width=\"3.2\"/>\n",
       "<circle clip-path=\"url(#clip982)\" cx=\"727.898\" cy=\"950.955\" r=\"7\" fill=\"#009af9\" fill-rule=\"evenodd\" fill-opacity=\"1\" stroke=\"#000000\" stroke-opacity=\"1\" stroke-width=\"3.2\"/>\n",
       "<circle clip-path=\"url(#clip982)\" cx=\"431.924\" cy=\"1036.29\" r=\"7\" fill=\"#009af9\" fill-rule=\"evenodd\" fill-opacity=\"1\" stroke=\"#000000\" stroke-opacity=\"1\" stroke-width=\"3.2\"/>\n",
       "<circle clip-path=\"url(#clip982)\" cx=\"1329.03\" cy=\"1054.72\" r=\"7\" fill=\"#009af9\" fill-rule=\"evenodd\" fill-opacity=\"1\" stroke=\"#000000\" stroke-opacity=\"1\" stroke-width=\"3.2\"/>\n",
       "<circle clip-path=\"url(#clip982)\" cx=\"1698.6\" cy=\"898.422\" r=\"7\" fill=\"#009af9\" fill-rule=\"evenodd\" fill-opacity=\"1\" stroke=\"#000000\" stroke-opacity=\"1\" stroke-width=\"3.2\"/>\n",
       "<circle clip-path=\"url(#clip982)\" cx=\"361.046\" cy=\"856.076\" r=\"7\" fill=\"#009af9\" fill-rule=\"evenodd\" fill-opacity=\"1\" stroke=\"#000000\" stroke-opacity=\"1\" stroke-width=\"3.2\"/>\n",
       "<circle clip-path=\"url(#clip982)\" cx=\"1863.23\" cy=\"1113.87\" r=\"7\" fill=\"#009af9\" fill-rule=\"evenodd\" fill-opacity=\"1\" stroke=\"#000000\" stroke-opacity=\"1\" stroke-width=\"3.2\"/>\n",
       "<circle clip-path=\"url(#clip982)\" cx=\"2167.82\" cy=\"638.073\" r=\"7\" fill=\"#009af9\" fill-rule=\"evenodd\" fill-opacity=\"1\" stroke=\"#000000\" stroke-opacity=\"1\" stroke-width=\"3.2\"/>\n",
       "<circle clip-path=\"url(#clip982)\" cx=\"1441.14\" cy=\"1309.34\" r=\"7\" fill=\"#009af9\" fill-rule=\"evenodd\" fill-opacity=\"1\" stroke=\"#000000\" stroke-opacity=\"1\" stroke-width=\"3.2\"/>\n",
       "<circle clip-path=\"url(#clip982)\" cx=\"689.827\" cy=\"1137.59\" r=\"7\" fill=\"#009af9\" fill-rule=\"evenodd\" fill-opacity=\"1\" stroke=\"#000000\" stroke-opacity=\"1\" stroke-width=\"3.2\"/>\n",
       "<circle clip-path=\"url(#clip982)\" cx=\"1439.08\" cy=\"1137.05\" r=\"7\" fill=\"#009af9\" fill-rule=\"evenodd\" fill-opacity=\"1\" stroke=\"#000000\" stroke-opacity=\"1\" stroke-width=\"3.2\"/>\n",
       "<circle clip-path=\"url(#clip982)\" cx=\"2074.87\" cy=\"882.784\" r=\"7\" fill=\"#009af9\" fill-rule=\"evenodd\" fill-opacity=\"1\" stroke=\"#000000\" stroke-opacity=\"1\" stroke-width=\"3.2\"/>\n",
       "<circle clip-path=\"url(#clip982)\" cx=\"1419.83\" cy=\"267.405\" r=\"7\" fill=\"#009af9\" fill-rule=\"evenodd\" fill-opacity=\"1\" stroke=\"#000000\" stroke-opacity=\"1\" stroke-width=\"3.2\"/>\n",
       "<circle clip-path=\"url(#clip982)\" cx=\"1573.8\" cy=\"984.569\" r=\"7\" fill=\"#009af9\" fill-rule=\"evenodd\" fill-opacity=\"1\" stroke=\"#000000\" stroke-opacity=\"1\" stroke-width=\"3.2\"/>\n",
       "<circle clip-path=\"url(#clip982)\" cx=\"1586.43\" cy=\"1282.95\" r=\"7\" fill=\"#009af9\" fill-rule=\"evenodd\" fill-opacity=\"1\" stroke=\"#000000\" stroke-opacity=\"1\" stroke-width=\"3.2\"/>\n",
       "<circle clip-path=\"url(#clip982)\" cx=\"1634.49\" cy=\"1113.97\" r=\"7\" fill=\"#009af9\" fill-rule=\"evenodd\" fill-opacity=\"1\" stroke=\"#000000\" stroke-opacity=\"1\" stroke-width=\"3.2\"/>\n",
       "<circle clip-path=\"url(#clip982)\" cx=\"1476.23\" cy=\"1062.23\" r=\"7\" fill=\"#009af9\" fill-rule=\"evenodd\" fill-opacity=\"1\" stroke=\"#000000\" stroke-opacity=\"1\" stroke-width=\"3.2\"/>\n",
       "<circle clip-path=\"url(#clip982)\" cx=\"1255.79\" cy=\"423.171\" r=\"7\" fill=\"#009af9\" fill-rule=\"evenodd\" fill-opacity=\"1\" stroke=\"#000000\" stroke-opacity=\"1\" stroke-width=\"3.2\"/>\n",
       "<circle clip-path=\"url(#clip982)\" cx=\"664.1\" cy=\"899.912\" r=\"7\" fill=\"#009af9\" fill-rule=\"evenodd\" fill-opacity=\"1\" stroke=\"#000000\" stroke-opacity=\"1\" stroke-width=\"3.2\"/>\n",
       "<circle clip-path=\"url(#clip982)\" cx=\"609.795\" cy=\"1182.41\" r=\"7\" fill=\"#009af9\" fill-rule=\"evenodd\" fill-opacity=\"1\" stroke=\"#000000\" stroke-opacity=\"1\" stroke-width=\"3.2\"/>\n",
       "<circle clip-path=\"url(#clip982)\" cx=\"1246.97\" cy=\"1165.13\" r=\"7\" fill=\"#009af9\" fill-rule=\"evenodd\" fill-opacity=\"1\" stroke=\"#000000\" stroke-opacity=\"1\" stroke-width=\"3.2\"/>\n",
       "<circle clip-path=\"url(#clip982)\" cx=\"940.079\" cy=\"959.548\" r=\"7\" fill=\"#009af9\" fill-rule=\"evenodd\" fill-opacity=\"1\" stroke=\"#000000\" stroke-opacity=\"1\" stroke-width=\"3.2\"/>\n",
       "<circle clip-path=\"url(#clip982)\" cx=\"695.004\" cy=\"957.647\" r=\"7\" fill=\"#009af9\" fill-rule=\"evenodd\" fill-opacity=\"1\" stroke=\"#000000\" stroke-opacity=\"1\" stroke-width=\"3.2\"/>\n",
       "<circle clip-path=\"url(#clip982)\" cx=\"598.578\" cy=\"1001.89\" r=\"7\" fill=\"#009af9\" fill-rule=\"evenodd\" fill-opacity=\"1\" stroke=\"#000000\" stroke-opacity=\"1\" stroke-width=\"3.2\"/>\n",
       "<circle clip-path=\"url(#clip982)\" cx=\"2052.98\" cy=\"637.655\" r=\"7\" fill=\"#009af9\" fill-rule=\"evenodd\" fill-opacity=\"1\" stroke=\"#000000\" stroke-opacity=\"1\" stroke-width=\"3.2\"/>\n",
       "<circle clip-path=\"url(#clip982)\" cx=\"1205.05\" cy=\"655.7\" r=\"7\" fill=\"#009af9\" fill-rule=\"evenodd\" fill-opacity=\"1\" stroke=\"#000000\" stroke-opacity=\"1\" stroke-width=\"3.2\"/>\n",
       "<circle clip-path=\"url(#clip982)\" cx=\"1307.67\" cy=\"995.502\" r=\"7\" fill=\"#009af9\" fill-rule=\"evenodd\" fill-opacity=\"1\" stroke=\"#000000\" stroke-opacity=\"1\" stroke-width=\"3.2\"/>\n",
       "<circle clip-path=\"url(#clip982)\" cx=\"1257.35\" cy=\"448.719\" r=\"7\" fill=\"#009af9\" fill-rule=\"evenodd\" fill-opacity=\"1\" stroke=\"#000000\" stroke-opacity=\"1\" stroke-width=\"3.2\"/>\n",
       "<circle clip-path=\"url(#clip982)\" cx=\"426.664\" cy=\"964.666\" r=\"7\" fill=\"#009af9\" fill-rule=\"evenodd\" fill-opacity=\"1\" stroke=\"#000000\" stroke-opacity=\"1\" stroke-width=\"3.2\"/>\n",
       "<circle clip-path=\"url(#clip982)\" cx=\"401.69\" cy=\"1018.83\" r=\"7\" fill=\"#009af9\" fill-rule=\"evenodd\" fill-opacity=\"1\" stroke=\"#000000\" stroke-opacity=\"1\" stroke-width=\"3.2\"/>\n",
       "<circle clip-path=\"url(#clip982)\" cx=\"578.63\" cy=\"912.752\" r=\"7\" fill=\"#009af9\" fill-rule=\"evenodd\" fill-opacity=\"1\" stroke=\"#000000\" stroke-opacity=\"1\" stroke-width=\"3.2\"/>\n",
       "<circle clip-path=\"url(#clip982)\" cx=\"1136.65\" cy=\"869.773\" r=\"7\" fill=\"#009af9\" fill-rule=\"evenodd\" fill-opacity=\"1\" stroke=\"#000000\" stroke-opacity=\"1\" stroke-width=\"3.2\"/>\n",
       "</svg>\n"
      ]
     },
     "execution_count": 16,
     "metadata": {},
     "output_type": "execute_result"
    }
   ],
   "source": [
    "#=\n",
    "idx_plt = length(obs_data.t) <= 100 ? (1:length(obs_data.t))  : rand(1:length(obs_data.t),100) \n",
    "plt = scatter(obs_data.t[idx_plt],obs_data.rv[idx_plt],yerr=obs_data.σ[idx_plt],legend=:none,ms=2)\n",
    "xlabel!(plt,\"Time (d)\")\n",
    "ylabel!(plt,\"RV (m/s)\")\n",
    "title!(plt,\"Simulated Data\")\n",
    "=#"
   ]
  },
  {
   "cell_type": "markdown",
   "metadata": {},
   "source": [
    "## Executing a kernel\n",
    "First, we'll make sure that the CPU kernel we generated with KernelAbstractions gives similar results.  Since our kernel needs an array to write it's output to, we'll allocate memory for that.  Then we'll pass the optional arguement `ndrange` to tell it the size of the global indices that it should use for the times and outputs.  Kernel calls can be asynchronous, so they return an *event* that can be used to check whether the kernel has completed.  We call `wait` on the event to make sure our kernel has completed its work before using the results."
   ]
  },
  {
   "cell_type": "code",
   "execution_count": 17,
   "metadata": {},
   "outputs": [],
   "source": [
    "output_cpu = similar(obs_data.t)\n",
    "cpu_event = cpu_kernel_calc_rv_circ!(output_cpu, obs_data.t, θ_true, ndrange=size(obs_data.t))\n",
    "wait(cpu_event)"
   ]
  },
  {
   "cell_type": "markdown",
   "metadata": {},
   "source": [
    "Now we'll try performing the same calculation on the GPU.  We generate a GPU kernel for NVIDIA GPUs by passing `CUDADevice()` instead of `CPU()`.  We'll specify a workgroup size equal to the warpsize on our GPUs.  "
   ]
  },
  {
   "cell_type": "code",
   "execution_count": 18,
   "metadata": {},
   "outputs": [],
   "source": [
    "output_gpu_d = CUDA.zeros(length(obs_data.t));\n",
    "obs_times_d = cu(obs_data.t);"
   ]
  },
  {
   "cell_type": "code",
   "execution_count": 19,
   "metadata": {},
   "outputs": [
    {
     "data": {
      "text/plain": [
       "KernelAbstractions.Kernel{CUDADevice, KernelAbstractions.NDIteration.StaticSize{(32,)}, KernelAbstractions.NDIteration.DynamicSize, typeof(gpu_calc_rv_circ_kernel)}(gpu_calc_rv_circ_kernel)"
      ]
     },
     "execution_count": 19,
     "metadata": {},
     "output_type": "execute_result"
    }
   ],
   "source": [
    "gpu_kernel_calc_rv_circ! = calc_rv_circ_kernel(CUDADevice(), 32)"
   ]
  },
  {
   "cell_type": "code",
   "execution_count": 21,
   "metadata": {},
   "outputs": [],
   "source": [
    "gpu_event = gpu_kernel_calc_rv_circ!(output_gpu_d, obs_times_d, θ_true, ndrange=size(obs_times_d))\n",
    "wait(gpu_event)"
   ]
  },
  {
   "cell_type": "markdown",
   "metadata": {},
   "source": [
    "## Accuracy of GPU calculations\n",
    "Before we start benchmarking, let's check the the results from the GPU kernel are accurate.    "
   ]
  },
  {
   "cell_type": "code",
   "execution_count": 22,
   "metadata": {},
   "outputs": [
    {
     "data": {
      "text/plain": [
       "0.00015977717873867647"
      ]
     },
     "execution_count": 22,
     "metadata": {},
     "output_type": "execute_result"
    }
   ],
   "source": [
    "maximum(abs.(collect(output_gpu_d).-output_cpu))"
   ]
  },
  {
   "cell_type": "markdown",
   "metadata": {},
   "source": [
    "That's likely larger than we'd normally expect.  What could have caused it.  It's good to check the types of the arrays on the device."
   ]
  },
  {
   "cell_type": "code",
   "execution_count": 23,
   "metadata": {},
   "outputs": [
    {
     "data": {
      "text/plain": [
       "(CuArray{Float32, 1, CUDA.Mem.DeviceBuffer}, CuArray{Float32, 1, CUDA.Mem.DeviceBuffer})"
      ]
     },
     "execution_count": 23,
     "metadata": {},
     "output_type": "execute_result"
    }
   ],
   "source": [
    "typeof(obs_times_d), typeof(output_gpu_d)"
   ]
  },
  {
   "cell_type": "markdown",
   "metadata": {},
   "source": [
    "Why?  Look back at where we allocated `obs_times_d` and `output_gpu_d`.  `cu` defaults to sending arrays as Float32's rather than Float64's.  We can be explicit about what type we want.  Additionally, the default element type for `CUDA.zeros` is Float32, rather than Float64 (like it is for `Base.zeros`).  "
   ]
  },
  {
   "cell_type": "code",
   "execution_count": 24,
   "metadata": {},
   "outputs": [
    {
     "data": {
      "text/plain": [
       "8.881784197001252e-16"
      ]
     },
     "execution_count": 24,
     "metadata": {},
     "output_type": "execute_result"
    }
   ],
   "source": [
    "obs_times_d = convert(CuArray{Float64,1},obs_data.t);\n",
    "output_gpu_d64 = CUDA.zeros(Float64,length(obs_data.t));\n",
    "gpu_event = gpu_kernel_calc_rv_circ!(output_gpu_d64, obs_times_d, θ_true, ndrange=size(obs_times_d))\n",
    "wait(gpu_event)\n",
    "maximum(abs.(collect(output_gpu_d64).-output_cpu))"
   ]
  },
  {
   "cell_type": "markdown",
   "metadata": {},
   "source": [
    "That should be much better.  (It's still not zero, since the GPU defaults to allowing the optimizer to perform optimizations that are not IEEE-compliant.) "
   ]
  },
  {
   "cell_type": "markdown",
   "metadata": {},
   "source": [
    "## Comparing CPU & GPU Performance \n",
    "Next, we'll comapre the time to execute the CPU and GPU kernels.  In the test below, we'll compute the predicted radial velcoity for the first `num_obs_to_eval` time.  The default code below is for the full set of observation times.  But you may wish to try comparing the performance for fewer observations (without having to regenerate the simulated data)."
   ]
  },
  {
   "cell_type": "code",
   "execution_count": 25,
   "metadata": {},
   "outputs": [
    {
     "data": {
      "text/plain": [
       "1000000"
      ]
     },
     "execution_count": 25,
     "metadata": {},
     "output_type": "execute_result"
    }
   ],
   "source": [
    "num_obs_to_eval = length(obs_data.t)"
   ]
  },
  {
   "cell_type": "code",
   "execution_count": 100,
   "metadata": {},
   "outputs": [
    {
     "data": {
      "text/plain": [
       "BenchmarkTools.Trial: 233 samples with 1 evaluation.\n",
       " Range \u001b[90m(\u001b[39m\u001b[36m\u001b[1mmin\u001b[22m\u001b[39m … \u001b[35mmax\u001b[39m\u001b[90m):  \u001b[39m\u001b[36m\u001b[1m4.251 ms\u001b[22m\u001b[39m … \u001b[35m  8.529 ms\u001b[39m  \u001b[90m┊\u001b[39m GC \u001b[90m(\u001b[39mmin … max\u001b[90m): \u001b[39m0.00% … 0.00%\n",
       " Time  \u001b[90m(\u001b[39m\u001b[34m\u001b[1mmedian\u001b[22m\u001b[39m\u001b[90m):     \u001b[39m\u001b[34m\u001b[1m4.264 ms               \u001b[22m\u001b[39m\u001b[90m┊\u001b[39m GC \u001b[90m(\u001b[39mmedian\u001b[90m):    \u001b[39m0.00%\n",
       " Time  \u001b[90m(\u001b[39m\u001b[32m\u001b[1mmean\u001b[22m\u001b[39m ± \u001b[32mσ\u001b[39m\u001b[90m):   \u001b[39m\u001b[32m\u001b[1m4.312 ms\u001b[22m\u001b[39m ± \u001b[32m356.056 μs\u001b[39m  \u001b[90m┊\u001b[39m GC \u001b[90m(\u001b[39mmean ± σ\u001b[90m):  \u001b[39m0.00% ± 0.00%\n",
       "\n",
       "  \u001b[39m \u001b[39m \u001b[39m \u001b[39m█\u001b[34m▁\u001b[39m\u001b[39m \u001b[39m \u001b[39m \u001b[39m \u001b[39m \u001b[39m \u001b[39m \u001b[39m \u001b[39m \u001b[39m \u001b[39m \u001b[39m \u001b[39m \u001b[39m \u001b[39m \u001b[39m \u001b[32m \u001b[39m\u001b[39m \u001b[39m \u001b[39m \u001b[39m \u001b[39m \u001b[39m \u001b[39m \u001b[39m \u001b[39m \u001b[39m \u001b[39m \u001b[39m \u001b[39m \u001b[39m \u001b[39m \u001b[39m \u001b[39m \u001b[39m \u001b[39m \u001b[39m \u001b[39m \u001b[39m \u001b[39m \u001b[39m \u001b[39m \u001b[39m \u001b[39m \u001b[39m \u001b[39m \u001b[39m \u001b[39m \u001b[39m \u001b[39m \u001b[39m \u001b[39m \u001b[39m \u001b[39m \u001b[39m \u001b[39m \n",
       "  \u001b[39m▄\u001b[39m▇\u001b[39m█\u001b[39m█\u001b[34m█\u001b[39m\u001b[39m▃\u001b[39m▃\u001b[39m▅\u001b[39m▃\u001b[39m▃\u001b[39m▃\u001b[39m▃\u001b[39m▁\u001b[39m▂\u001b[39m▃\u001b[39m▅\u001b[39m▆\u001b[39m▆\u001b[39m▃\u001b[39m▃\u001b[39m▃\u001b[32m▃\u001b[39m\u001b[39m▃\u001b[39m▁\u001b[39m▃\u001b[39m▃\u001b[39m▁\u001b[39m▃\u001b[39m▃\u001b[39m▂\u001b[39m▂\u001b[39m▂\u001b[39m▁\u001b[39m▂\u001b[39m▁\u001b[39m▁\u001b[39m▂\u001b[39m▁\u001b[39m▁\u001b[39m▁\u001b[39m▁\u001b[39m▁\u001b[39m▁\u001b[39m▁\u001b[39m▁\u001b[39m▁\u001b[39m▁\u001b[39m▁\u001b[39m▂\u001b[39m▁\u001b[39m▁\u001b[39m▂\u001b[39m▁\u001b[39m▁\u001b[39m▁\u001b[39m▁\u001b[39m▁\u001b[39m▁\u001b[39m▃\u001b[39m \u001b[39m▃\n",
       "  4.25 ms\u001b[90m         Histogram: frequency by time\u001b[39m        4.42 ms \u001b[0m\u001b[1m<\u001b[22m\n",
       "\n",
       " Memory estimate\u001b[90m: \u001b[39m\u001b[33m3.98 KiB\u001b[39m, allocs estimate\u001b[90m: \u001b[39m\u001b[33m67\u001b[39m."
      ]
     },
     "execution_count": 100,
     "metadata": {},
     "output_type": "execute_result"
    }
   ],
   "source": [
    "@benchmark  wait(cpu_kernel_calc_rv_circ!($output_cpu, $obs_data.t, $θ_true, ndrange=$num_obs_to_eval )) seconds=1"
   ]
  },
  {
   "cell_type": "code",
   "execution_count": 101,
   "metadata": {},
   "outputs": [
    {
     "data": {
      "text/plain": [
       "BenchmarkTools.Trial: 6200 samples with 1 evaluation.\n",
       " Range \u001b[90m(\u001b[39m\u001b[36m\u001b[1mmin\u001b[22m\u001b[39m … \u001b[35mmax\u001b[39m\u001b[90m):  \u001b[39m\u001b[36m\u001b[1m147.691 μs\u001b[22m\u001b[39m … \u001b[35m602.741 μs\u001b[39m  \u001b[90m┊\u001b[39m GC \u001b[90m(\u001b[39mmin … max\u001b[90m): \u001b[39m0.00% … 0.00%\n",
       " Time  \u001b[90m(\u001b[39m\u001b[34m\u001b[1mmedian\u001b[22m\u001b[39m\u001b[90m):     \u001b[39m\u001b[34m\u001b[1m150.866 μs               \u001b[22m\u001b[39m\u001b[90m┊\u001b[39m GC \u001b[90m(\u001b[39mmedian\u001b[90m):    \u001b[39m0.00%\n",
       " Time  \u001b[90m(\u001b[39m\u001b[32m\u001b[1mmean\u001b[22m\u001b[39m ± \u001b[32mσ\u001b[39m\u001b[90m):   \u001b[39m\u001b[32m\u001b[1m155.341 μs\u001b[22m\u001b[39m ± \u001b[32m 26.441 μs\u001b[39m  \u001b[90m┊\u001b[39m GC \u001b[90m(\u001b[39mmean ± σ\u001b[90m):  \u001b[39m0.00% ± 0.00%\n",
       "\n",
       "  \u001b[39m▁\u001b[39m▅\u001b[39m█\u001b[34m▇\u001b[39m\u001b[39m▄\u001b[39m▃\u001b[39m▃\u001b[32m▄\u001b[39m\u001b[39m▃\u001b[39m▁\u001b[39m \u001b[39m \u001b[39m \u001b[39m \u001b[39m \u001b[39m \u001b[39m \u001b[39m \u001b[39m \u001b[39m \u001b[39m \u001b[39m \u001b[39m \u001b[39m \u001b[39m▁\u001b[39m \u001b[39m \u001b[39m \u001b[39m \u001b[39m \u001b[39m \u001b[39m \u001b[39m \u001b[39m \u001b[39m \u001b[39m \u001b[39m \u001b[39m \u001b[39m \u001b[39m \u001b[39m \u001b[39m \u001b[39m \u001b[39m \u001b[39m \u001b[39m \u001b[39m \u001b[39m \u001b[39m \u001b[39m \u001b[39m \u001b[39m \u001b[39m \u001b[39m \u001b[39m \u001b[39m \u001b[39m \u001b[39m \u001b[39m \u001b[39m \u001b[39m \u001b[39m \u001b[39m▁\n",
       "  \u001b[39m█\u001b[39m█\u001b[39m█\u001b[34m█\u001b[39m\u001b[39m█\u001b[39m█\u001b[39m█\u001b[32m█\u001b[39m\u001b[39m█\u001b[39m█\u001b[39m█\u001b[39m▇\u001b[39m▇\u001b[39m▆\u001b[39m▆\u001b[39m▇\u001b[39m▇\u001b[39m█\u001b[39m▇\u001b[39m▇\u001b[39m█\u001b[39m█\u001b[39m█\u001b[39m█\u001b[39m█\u001b[39m█\u001b[39m█\u001b[39m▆\u001b[39m▅\u001b[39m▄\u001b[39m▅\u001b[39m▅\u001b[39m▇\u001b[39m▅\u001b[39m▅\u001b[39m▆\u001b[39m▇\u001b[39m▅\u001b[39m▅\u001b[39m▅\u001b[39m▅\u001b[39m▃\u001b[39m▅\u001b[39m▃\u001b[39m▃\u001b[39m▁\u001b[39m▄\u001b[39m▃\u001b[39m▃\u001b[39m▃\u001b[39m▃\u001b[39m▁\u001b[39m▃\u001b[39m▃\u001b[39m▁\u001b[39m▅\u001b[39m▁\u001b[39m▃\u001b[39m▅\u001b[39m▇\u001b[39m▇\u001b[39m \u001b[39m█\n",
       "  148 μs\u001b[90m        \u001b[39m\u001b[90mHistogram: \u001b[39m\u001b[90m\u001b[1mlog(\u001b[22m\u001b[39m\u001b[90mfrequency\u001b[39m\u001b[90m\u001b[1m)\u001b[22m\u001b[39m\u001b[90m by time\u001b[39m        213 μs \u001b[0m\u001b[1m<\u001b[22m\n",
       "\n",
       " Memory estimate\u001b[90m: \u001b[39m\u001b[33m3.77 KiB\u001b[39m, allocs estimate\u001b[90m: \u001b[39m\u001b[33m77\u001b[39m."
      ]
     },
     "execution_count": 101,
     "metadata": {},
     "output_type": "execute_result"
    }
   ],
   "source": [
    "@benchmark wait(gpu_kernel_calc_rv_circ!($output_gpu_d64, $obs_times_d, $θ_true, ndrange=$num_obs_to_eval)) seconds=1"
   ]
  },
  {
   "cell_type": "markdown",
   "metadata": {},
   "source": [
    "2a.  How much faster was performing the computations on the GPU than on the CPU? "
   ]
  },
  {
   "cell_type": "code",
   "execution_count": 28,
   "metadata": {},
   "outputs": [
    {
     "data": {
      "text/plain": [
       "missing"
      ]
     },
     "execution_count": 28,
     "metadata": {},
     "output_type": "execute_result"
    }
   ],
   "source": [
    "response_2a = missing # md\"Insert response\""
   ]
  },
  {
   "cell_type": "markdown",
   "metadata": {},
   "source": [
    "## Performance as a function of workgroup size\n",
    "When we generate a kernel to run on the GPU, the workgroup size can make a significant difference in the performance.  My understanding is that the workgroup size is equivalent to the block size on NVIDIA GPUs.  response_2a = missing # md\"Insert response\"\n",
    "\n",
    "2b.  What do you predict for the compute time for the same GPU kernel, except with the workgroup size set to 1?"
   ]
  },
  {
   "cell_type": "code",
   "execution_count": 29,
   "metadata": {},
   "outputs": [
    {
     "data": {
      "text/plain": [
       "missing"
      ]
     },
     "execution_count": 29,
     "metadata": {},
     "output_type": "execute_result"
    }
   ],
   "source": [
    "response_2b = missing # md\"Insert response\""
   ]
  },
  {
   "cell_type": "code",
   "execution_count": 30,
   "metadata": {},
   "outputs": [
    {
     "data": {
      "text/plain": [
       "KernelAbstractions.Kernel{CUDADevice, KernelAbstractions.NDIteration.StaticSize{(1,)}, KernelAbstractions.NDIteration.DynamicSize, typeof(gpu_calc_rv_circ_kernel)}(gpu_calc_rv_circ_kernel)"
      ]
     },
     "execution_count": 30,
     "metadata": {},
     "output_type": "execute_result"
    }
   ],
   "source": [
    "gpu_kernel_calc_rv_circ_alt! = calc_rv_circ_kernel(CUDADevice(), 1)"
   ]
  },
  {
   "cell_type": "code",
   "execution_count": 102,
   "metadata": {},
   "outputs": [
    {
     "data": {
      "text/plain": [
       "BenchmarkTools.Trial: 351 samples with 1 evaluation.\n",
       " Range \u001b[90m(\u001b[39m\u001b[36m\u001b[1mmin\u001b[22m\u001b[39m … \u001b[35mmax\u001b[39m\u001b[90m):  \u001b[39m\u001b[36m\u001b[1m2.746 ms\u001b[22m\u001b[39m … \u001b[35m 3.007 ms\u001b[39m  \u001b[90m┊\u001b[39m GC \u001b[90m(\u001b[39mmin … max\u001b[90m): \u001b[39m0.00% … 0.00%\n",
       " Time  \u001b[90m(\u001b[39m\u001b[34m\u001b[1mmedian\u001b[22m\u001b[39m\u001b[90m):     \u001b[39m\u001b[34m\u001b[1m2.840 ms              \u001b[22m\u001b[39m\u001b[90m┊\u001b[39m GC \u001b[90m(\u001b[39mmedian\u001b[90m):    \u001b[39m0.00%\n",
       " Time  \u001b[90m(\u001b[39m\u001b[32m\u001b[1mmean\u001b[22m\u001b[39m ± \u001b[32mσ\u001b[39m\u001b[90m):   \u001b[39m\u001b[32m\u001b[1m2.835 ms\u001b[22m\u001b[39m ± \u001b[32m49.677 μs\u001b[39m  \u001b[90m┊\u001b[39m GC \u001b[90m(\u001b[39mmean ± σ\u001b[90m):  \u001b[39m0.00% ± 0.00%\n",
       "\n",
       "  \u001b[39m \u001b[39m \u001b[39m \u001b[39m \u001b[39m \u001b[39m \u001b[39m \u001b[39m \u001b[39m▇\u001b[39m█\u001b[39m \u001b[39m \u001b[39m \u001b[39m \u001b[39m \u001b[39m \u001b[39m \u001b[39m \u001b[39m \u001b[39m \u001b[39m \u001b[39m \u001b[39m \u001b[39m \u001b[39m \u001b[39m \u001b[39m \u001b[32m \u001b[39m\u001b[34m \u001b[39m\u001b[39m \u001b[39m \u001b[39m \u001b[39m \u001b[39m \u001b[39m \u001b[39m \u001b[39m▇\u001b[39m \u001b[39m \u001b[39m \u001b[39m \u001b[39m \u001b[39m \u001b[39m \u001b[39m \u001b[39m \u001b[39m \u001b[39m \u001b[39m \u001b[39m \u001b[39m \u001b[39m \u001b[39m \u001b[39m \u001b[39m \u001b[39m \u001b[39m \u001b[39m \u001b[39m \u001b[39m \n",
       "  \u001b[39m▂\u001b[39m▃\u001b[39m▂\u001b[39m▁\u001b[39m▁\u001b[39m▂\u001b[39m▄\u001b[39m▂\u001b[39m█\u001b[39m█\u001b[39m█\u001b[39m▅\u001b[39m▃\u001b[39m▃\u001b[39m▃\u001b[39m▃\u001b[39m▆\u001b[39m▅\u001b[39m▃\u001b[39m▄\u001b[39m▄\u001b[39m▃\u001b[39m▅\u001b[39m▅\u001b[39m▅\u001b[39m▃\u001b[39m▄\u001b[32m▃\u001b[39m\u001b[34m▅\u001b[39m\u001b[39m▃\u001b[39m▅\u001b[39m▅\u001b[39m▃\u001b[39m▅\u001b[39m▄\u001b[39m█\u001b[39m█\u001b[39m█\u001b[39m▆\u001b[39m▄\u001b[39m▄\u001b[39m▆\u001b[39m▂\u001b[39m▂\u001b[39m▂\u001b[39m▃\u001b[39m▁\u001b[39m▃\u001b[39m▂\u001b[39m▃\u001b[39m▅\u001b[39m▄\u001b[39m▃\u001b[39m▃\u001b[39m▄\u001b[39m▃\u001b[39m▁\u001b[39m▄\u001b[39m \u001b[39m▃\n",
       "  2.75 ms\u001b[90m        Histogram: frequency by time\u001b[39m        2.94 ms \u001b[0m\u001b[1m<\u001b[22m\n",
       "\n",
       " Memory estimate\u001b[90m: \u001b[39m\u001b[33m3.77 KiB\u001b[39m, allocs estimate\u001b[90m: \u001b[39m\u001b[33m77\u001b[39m."
      ]
     },
     "execution_count": 102,
     "metadata": {},
     "output_type": "execute_result"
    }
   ],
   "source": [
    "@benchmark wait(gpu_kernel_calc_rv_circ_alt!($output_gpu_d, $obs_times_d, $θ_true, ndrange=$num_obs_to_eval)) seconds=1"
   ]
  },
  {
   "cell_type": "markdown",
   "metadata": {},
   "source": [
    "2c.  How did the performance with a workgrop size of 1 compare to your predictions?  "
   ]
  },
  {
   "cell_type": "code",
   "execution_count": 32,
   "metadata": {},
   "outputs": [
    {
     "data": {
      "text/plain": [
       "missing"
      ]
     },
     "execution_count": 32,
     "metadata": {},
     "output_type": "execute_result"
    }
   ],
   "source": [
    "response_2c = missing # md\"Insert response\""
   ]
  },
  {
   "cell_type": "markdown",
   "metadata": {},
   "source": [
    "If you're likely to be using a GPU for parallelizing your project code, then try adjusting the workgroup size to other values (between 1 and twice the warpsize) and see how it affects the performance."
   ]
  },
  {
   "cell_type": "markdown",
   "metadata": {},
   "source": [
    "## Comparing performance of kernels\n",
    "So far, we've been benchmarking a relatively simple kernel (some arithmetic and one trig function).  Now, we'll try switching to computing the radial velocity assuming a Keplerian orbit.  First, we'll use a CPU version of the kernel.  "
   ]
  },
  {
   "cell_type": "code",
   "execution_count": 103,
   "metadata": {},
   "outputs": [
    {
     "data": {
      "text/plain": [
       "BenchmarkTools.Trial: 15 samples with 1 evaluation.\n",
       " Range \u001b[90m(\u001b[39m\u001b[36m\u001b[1mmin\u001b[22m\u001b[39m … \u001b[35mmax\u001b[39m\u001b[90m):  \u001b[39m\u001b[36m\u001b[1m66.724 ms\u001b[22m\u001b[39m … \u001b[35m 69.143 ms\u001b[39m  \u001b[90m┊\u001b[39m GC \u001b[90m(\u001b[39mmin … max\u001b[90m): \u001b[39m0.00% … 0.00%\n",
       " Time  \u001b[90m(\u001b[39m\u001b[34m\u001b[1mmedian\u001b[22m\u001b[39m\u001b[90m):     \u001b[39m\u001b[34m\u001b[1m67.157 ms               \u001b[22m\u001b[39m\u001b[90m┊\u001b[39m GC \u001b[90m(\u001b[39mmedian\u001b[90m):    \u001b[39m0.00%\n",
       " Time  \u001b[90m(\u001b[39m\u001b[32m\u001b[1mmean\u001b[22m\u001b[39m ± \u001b[32mσ\u001b[39m\u001b[90m):   \u001b[39m\u001b[32m\u001b[1m67.304 ms\u001b[22m\u001b[39m ± \u001b[32m627.755 μs\u001b[39m  \u001b[90m┊\u001b[39m GC \u001b[90m(\u001b[39mmean ± σ\u001b[90m):  \u001b[39m0.00% ± 0.00%\n",
       "\n",
       "  \u001b[39m▃\u001b[39m \u001b[39m \u001b[39m \u001b[39m▃\u001b[39m \u001b[39m \u001b[39m \u001b[39m \u001b[39m \u001b[34m▃\u001b[39m\u001b[39m \u001b[39m \u001b[39m \u001b[32m \u001b[39m\u001b[39m█\u001b[39m \u001b[39m \u001b[39m \u001b[39m \u001b[39m \u001b[39m \u001b[39m \u001b[39m \u001b[39m \u001b[39m \u001b[39m \u001b[39m \u001b[39m \u001b[39m \u001b[39m \u001b[39m \u001b[39m \u001b[39m \u001b[39m \u001b[39m \u001b[39m \u001b[39m \u001b[39m \u001b[39m \u001b[39m \u001b[39m \u001b[39m \u001b[39m \u001b[39m \u001b[39m \u001b[39m \u001b[39m \u001b[39m \u001b[39m \u001b[39m \u001b[39m \u001b[39m \u001b[39m \u001b[39m \u001b[39m \u001b[39m \u001b[39m \u001b[39m \u001b[39m \u001b[39m \u001b[39m \n",
       "  \u001b[39m█\u001b[39m▁\u001b[39m▁\u001b[39m▇\u001b[39m█\u001b[39m▁\u001b[39m▁\u001b[39m▁\u001b[39m▇\u001b[39m▁\u001b[34m█\u001b[39m\u001b[39m▇\u001b[39m▁\u001b[39m▁\u001b[32m▁\u001b[39m\u001b[39m█\u001b[39m▁\u001b[39m▇\u001b[39m▁\u001b[39m▁\u001b[39m▁\u001b[39m▁\u001b[39m▁\u001b[39m▁\u001b[39m▁\u001b[39m▁\u001b[39m▁\u001b[39m▁\u001b[39m▁\u001b[39m▁\u001b[39m▁\u001b[39m▁\u001b[39m▁\u001b[39m▁\u001b[39m▁\u001b[39m▁\u001b[39m▁\u001b[39m▇\u001b[39m▁\u001b[39m▁\u001b[39m▁\u001b[39m▁\u001b[39m▁\u001b[39m▁\u001b[39m▁\u001b[39m▁\u001b[39m▁\u001b[39m▁\u001b[39m▁\u001b[39m▁\u001b[39m▁\u001b[39m▁\u001b[39m▁\u001b[39m▁\u001b[39m▁\u001b[39m▁\u001b[39m▁\u001b[39m▁\u001b[39m▁\u001b[39m▇\u001b[39m \u001b[39m▁\n",
       "  66.7 ms\u001b[90m         Histogram: frequency by time\u001b[39m         69.1 ms \u001b[0m\u001b[1m<\u001b[22m\n",
       "\n",
       " Memory estimate\u001b[90m: \u001b[39m\u001b[33m3.97 KiB\u001b[39m, allocs estimate\u001b[90m: \u001b[39m\u001b[33m66\u001b[39m."
      ]
     },
     "execution_count": 103,
     "metadata": {},
     "output_type": "execute_result"
    }
   ],
   "source": [
    "@benchmark wait(cpu_kernel_calc_rv_kepler!($output_cpu, $obs_data.t, $θ_true, ndrange=size($obs_data.t))) seconds=1"
   ]
  },
  {
   "cell_type": "markdown",
   "metadata": {},
   "source": [
    "Next, we'll create a GPU kernel to benchmark the Keplerian calculation on the GPU."
   ]
  },
  {
   "cell_type": "code",
   "execution_count": 34,
   "metadata": {},
   "outputs": [
    {
     "data": {
      "text/plain": [
       "KernelAbstractions.Kernel{CUDADevice, KernelAbstractions.NDIteration.StaticSize{(32,)}, KernelAbstractions.NDIteration.DynamicSize, typeof(gpu_calc_rv_kepler_kernel)}(gpu_calc_rv_kepler_kernel)"
      ]
     },
     "execution_count": 34,
     "metadata": {},
     "output_type": "execute_result"
    }
   ],
   "source": [
    "gpu_kernel_calc_rv_kepler! = calc_rv_kepler_kernel(CUDAKernels.CUDADevice(), 32)"
   ]
  },
  {
   "cell_type": "markdown",
   "metadata": {},
   "source": [
    "2d.   Before you run the benchmarks, what do you expect for the GPU performance if we use a workgroup size equal to the warpsize?  What if we use a workgroup size of 1?  Explain your reasoning.  response_2c = missing # md\"Insert response\""
   ]
  },
  {
   "cell_type": "code",
   "execution_count": 35,
   "metadata": {},
   "outputs": [
    {
     "data": {
      "text/plain": [
       "missing"
      ]
     },
     "execution_count": 35,
     "metadata": {},
     "output_type": "execute_result"
    }
   ],
   "source": [
    "response_2d = missing # md\"Insert response\""
   ]
  },
  {
   "cell_type": "code",
   "execution_count": 104,
   "metadata": {},
   "outputs": [
    {
     "data": {
      "text/plain": [
       "BenchmarkTools.Trial: 1522 samples with 1 evaluation.\n",
       " Range \u001b[90m(\u001b[39m\u001b[36m\u001b[1mmin\u001b[22m\u001b[39m … \u001b[35mmax\u001b[39m\u001b[90m):  \u001b[39m\u001b[36m\u001b[1m549.781 μs\u001b[22m\u001b[39m … \u001b[35m837.586 μs\u001b[39m  \u001b[90m┊\u001b[39m GC \u001b[90m(\u001b[39mmin … max\u001b[90m): \u001b[39m0.00% … 0.00%\n",
       " Time  \u001b[90m(\u001b[39m\u001b[34m\u001b[1mmedian\u001b[22m\u001b[39m\u001b[90m):     \u001b[39m\u001b[34m\u001b[1m632.604 μs               \u001b[22m\u001b[39m\u001b[90m┊\u001b[39m GC \u001b[90m(\u001b[39mmedian\u001b[90m):    \u001b[39m0.00%\n",
       " Time  \u001b[90m(\u001b[39m\u001b[32m\u001b[1mmean\u001b[22m\u001b[39m ± \u001b[32mσ\u001b[39m\u001b[90m):   \u001b[39m\u001b[32m\u001b[1m642.696 μs\u001b[22m\u001b[39m ± \u001b[32m 44.663 μs\u001b[39m  \u001b[90m┊\u001b[39m GC \u001b[90m(\u001b[39mmean ± σ\u001b[90m):  \u001b[39m0.00% ± 0.00%\n",
       "\n",
       "  \u001b[39m \u001b[39m \u001b[39m \u001b[39m \u001b[39m \u001b[39m \u001b[39m \u001b[39m \u001b[39m \u001b[39m \u001b[39m \u001b[39m \u001b[39m \u001b[39m \u001b[39m▅\u001b[39m \u001b[39m \u001b[39m \u001b[39m \u001b[39m \u001b[39m \u001b[39m█\u001b[39m▇\u001b[39m▁\u001b[39m \u001b[34m \u001b[39m\u001b[39m \u001b[39m \u001b[32m \u001b[39m\u001b[39m \u001b[39m \u001b[39m \u001b[39m \u001b[39m \u001b[39m \u001b[39m \u001b[39m \u001b[39m \u001b[39m \u001b[39m \u001b[39m \u001b[39m \u001b[39m \u001b[39m \u001b[39m \u001b[39m \u001b[39m \u001b[39m \u001b[39m \u001b[39m \u001b[39m \u001b[39m \u001b[39m \u001b[39m \u001b[39m \u001b[39m \u001b[39m \u001b[39m \u001b[39m \u001b[39m \u001b[39m \u001b[39m \u001b[39m \n",
       "  \u001b[39m▂\u001b[39m▂\u001b[39m▂\u001b[39m▁\u001b[39m▁\u001b[39m▂\u001b[39m▃\u001b[39m▅\u001b[39m▃\u001b[39m▄\u001b[39m▅\u001b[39m▄\u001b[39m▄\u001b[39m▃\u001b[39m█\u001b[39m▇\u001b[39m▅\u001b[39m▆\u001b[39m▇\u001b[39m▆\u001b[39m▅\u001b[39m█\u001b[39m█\u001b[39m█\u001b[39m▇\u001b[34m▆\u001b[39m\u001b[39m▆\u001b[39m▄\u001b[32m▅\u001b[39m\u001b[39m▄\u001b[39m▅\u001b[39m▅\u001b[39m▆\u001b[39m▇\u001b[39m▅\u001b[39m▅\u001b[39m█\u001b[39m▇\u001b[39m▃\u001b[39m▅\u001b[39m▄\u001b[39m▄\u001b[39m▄\u001b[39m▆\u001b[39m█\u001b[39m▅\u001b[39m▃\u001b[39m▅\u001b[39m▃\u001b[39m▃\u001b[39m▂\u001b[39m▃\u001b[39m▂\u001b[39m▂\u001b[39m▂\u001b[39m▁\u001b[39m▁\u001b[39m▃\u001b[39m▄\u001b[39m▂\u001b[39m▁\u001b[39m \u001b[39m▃\n",
       "  550 μs\u001b[90m           Histogram: frequency by time\u001b[39m          750 μs \u001b[0m\u001b[1m<\u001b[22m\n",
       "\n",
       " Memory estimate\u001b[90m: \u001b[39m\u001b[33m3.77 KiB\u001b[39m, allocs estimate\u001b[90m: \u001b[39m\u001b[33m77\u001b[39m."
      ]
     },
     "execution_count": 104,
     "metadata": {},
     "output_type": "execute_result"
    }
   ],
   "source": [
    "@benchmark wait(gpu_kernel_calc_rv_kepler!($output_gpu_d, $obs_times_d, $θ_true, ndrange=size($obs_times_d))) seconds=1"
   ]
  },
  {
   "cell_type": "code",
   "execution_count": 105,
   "metadata": {},
   "outputs": [
    {
     "data": {
      "text/plain": [
       "BenchmarkTools.Trial: 88 samples with 1 evaluation.\n",
       " Range \u001b[90m(\u001b[39m\u001b[36m\u001b[1mmin\u001b[22m\u001b[39m … \u001b[35mmax\u001b[39m\u001b[90m):  \u001b[39m\u001b[36m\u001b[1m11.273 ms\u001b[22m\u001b[39m … \u001b[35m11.478 ms\u001b[39m  \u001b[90m┊\u001b[39m GC \u001b[90m(\u001b[39mmin … max\u001b[90m): \u001b[39m0.00% … 0.00%\n",
       " Time  \u001b[90m(\u001b[39m\u001b[34m\u001b[1mmedian\u001b[22m\u001b[39m\u001b[90m):     \u001b[39m\u001b[34m\u001b[1m11.349 ms              \u001b[22m\u001b[39m\u001b[90m┊\u001b[39m GC \u001b[90m(\u001b[39mmedian\u001b[90m):    \u001b[39m0.00%\n",
       " Time  \u001b[90m(\u001b[39m\u001b[32m\u001b[1mmean\u001b[22m\u001b[39m ± \u001b[32mσ\u001b[39m\u001b[90m):   \u001b[39m\u001b[32m\u001b[1m11.368 ms\u001b[22m\u001b[39m ± \u001b[32m42.101 μs\u001b[39m  \u001b[90m┊\u001b[39m GC \u001b[90m(\u001b[39mmean ± σ\u001b[90m):  \u001b[39m0.00% ± 0.00%\n",
       "\n",
       "  \u001b[39m \u001b[39m \u001b[39m \u001b[39m \u001b[39m \u001b[39m \u001b[39m \u001b[39m \u001b[39m \u001b[39m \u001b[39m \u001b[39m \u001b[39m \u001b[39m \u001b[39m \u001b[39m \u001b[39m \u001b[39m \u001b[39m▂\u001b[39m \u001b[39m█\u001b[39m \u001b[39m▃\u001b[39m▇\u001b[34m \u001b[39m\u001b[39m \u001b[39m \u001b[39m \u001b[39m \u001b[39m \u001b[32m \u001b[39m\u001b[39m \u001b[39m \u001b[39m \u001b[39m \u001b[39m \u001b[39m \u001b[39m \u001b[39m \u001b[39m \u001b[39m \u001b[39m \u001b[39m \u001b[39m \u001b[39m \u001b[39m \u001b[39m \u001b[39m \u001b[39m \u001b[39m \u001b[39m \u001b[39m \u001b[39m \u001b[39m \u001b[39m \u001b[39m \u001b[39m \u001b[39m \u001b[39m \u001b[39m \u001b[39m \n",
       "  \u001b[39m▃\u001b[39m▁\u001b[39m▁\u001b[39m▁\u001b[39m▁\u001b[39m▁\u001b[39m▁\u001b[39m▁\u001b[39m▁\u001b[39m▁\u001b[39m▁\u001b[39m▁\u001b[39m▁\u001b[39m▁\u001b[39m▃\u001b[39m▁\u001b[39m▁\u001b[39m▇\u001b[39m█\u001b[39m▇\u001b[39m█\u001b[39m▇\u001b[39m█\u001b[39m█\u001b[34m▅\u001b[39m\u001b[39m▅\u001b[39m▃\u001b[39m█\u001b[39m▃\u001b[39m▃\u001b[32m▁\u001b[39m\u001b[39m▅\u001b[39m▃\u001b[39m▃\u001b[39m▁\u001b[39m▁\u001b[39m▁\u001b[39m▃\u001b[39m▁\u001b[39m▁\u001b[39m▁\u001b[39m▃\u001b[39m▁\u001b[39m▃\u001b[39m▃\u001b[39m▅\u001b[39m▆\u001b[39m▆\u001b[39m▅\u001b[39m▆\u001b[39m▃\u001b[39m▁\u001b[39m▁\u001b[39m▅\u001b[39m▁\u001b[39m▁\u001b[39m▃\u001b[39m▃\u001b[39m▃\u001b[39m \u001b[39m▁\n",
       "  11.3 ms\u001b[90m         Histogram: frequency by time\u001b[39m        11.5 ms \u001b[0m\u001b[1m<\u001b[22m\n",
       "\n",
       " Memory estimate\u001b[90m: \u001b[39m\u001b[33m3.77 KiB\u001b[39m, allocs estimate\u001b[90m: \u001b[39m\u001b[33m77\u001b[39m."
      ]
     },
     "execution_count": 105,
     "metadata": {},
     "output_type": "execute_result"
    }
   ],
   "source": [
    "gpu_kernel_calc_rv_kepler_alt! = calc_rv_kepler_kernel(CUDAKernels.CUDADevice(), 1)\n",
    "@benchmark wait(gpu_kernel_calc_rv_kepler_alt!($output_gpu_d, $obs_times_d, $θ_true, ndrange=size($obs_times_d))) seconds=1"
   ]
  },
  {
   "cell_type": "markdown",
   "metadata": {},
   "source": [
    "2e.  How did the benchmarking results for the GPU version compare to your expectations?  What could explain the differences? "
   ]
  },
  {
   "cell_type": "code",
   "execution_count": 38,
   "metadata": {},
   "outputs": [
    {
     "data": {
      "text/plain": [
       "missing"
      ]
     },
     "execution_count": 38,
     "metadata": {},
     "output_type": "execute_result"
    }
   ],
   "source": [
    "response_2e = missing # md\"Insert response\""
   ]
  },
  {
   "cell_type": "markdown",
   "metadata": {},
   "source": [
    "## Improving performance by performing reductions on GPU\n",
    "In the previous calculations, there was a substantial ammount of data to be transfered back from the GPU to CPU.  Often, we don't need all the data to be moved back to the CPU, since we're primarily interested in one or more summary statistics.  For example, we might be interested in the chi-squared statistic for comparing our model predictions to the data.  In that case, we'll only need to return a very small ammount of data from the GPU back to the CPU.  Below, we'll see how that affects the performance.  \n",
    "\n",
    "First, let's try calculating chi-squared the obvious way on the CPU."
   ]
  },
  {
   "cell_type": "code",
   "execution_count": 39,
   "metadata": {},
   "outputs": [
    {
     "data": {
      "text/plain": [
       "calc_chisq_rv_circ_cpu_simple (generic function with 1 method)"
      ]
     },
     "execution_count": 39,
     "metadata": {},
     "output_type": "execute_result"
    }
   ],
   "source": [
    "function calc_chisq_rv_circ_cpu_simple(data, param)\n",
    "    @assert length(data.t) == length(data.rv) == length(data.σ) \n",
    "    sum(((calc_rv_circ.(data.t, param=param).-data.rv)./data.σ).^2)\n",
    "end"
   ]
  },
  {
   "cell_type": "code",
   "execution_count": 40,
   "metadata": {},
   "outputs": [
    {
     "data": {
      "text/plain": [
       "calc_chisq_rv_kepler_cpu_simple (generic function with 1 method)"
      ]
     },
     "execution_count": 40,
     "metadata": {},
     "output_type": "execute_result"
    }
   ],
   "source": [
    "function calc_chisq_rv_kepler_cpu_simple(data, param)\n",
    "    @assert length(data.t) == length(data.rv) == length(data.σ) \n",
    "    sum(((calc_rv_kepler.(data.t, param=param).-data.rv)./data.σ).^2)\n",
    "end"
   ]
  },
  {
   "cell_type": "code",
   "execution_count": 41,
   "metadata": {},
   "outputs": [
    {
     "data": {
      "text/plain": [
       "1.0003088895690591e6"
      ]
     },
     "execution_count": 41,
     "metadata": {},
     "output_type": "execute_result"
    }
   ],
   "source": [
    "chisq_from_cpu_simple = calc_chisq_rv_kepler_cpu_simple(obs_data, θ_true)"
   ]
  },
  {
   "cell_type": "code",
   "execution_count": 106,
   "metadata": {},
   "outputs": [
    {
     "data": {
      "text/plain": [
       "BenchmarkTools.Trial: 5 samples with 1 evaluation.\n",
       " Range \u001b[90m(\u001b[39m\u001b[36m\u001b[1mmin\u001b[22m\u001b[39m … \u001b[35mmax\u001b[39m\u001b[90m):  \u001b[39m\u001b[36m\u001b[1m246.685 ms\u001b[22m\u001b[39m … \u001b[35m250.392 ms\u001b[39m  \u001b[90m┊\u001b[39m GC \u001b[90m(\u001b[39mmin … max\u001b[90m): \u001b[39m0.00% … 0.00%\n",
       " Time  \u001b[90m(\u001b[39m\u001b[34m\u001b[1mmedian\u001b[22m\u001b[39m\u001b[90m):     \u001b[39m\u001b[34m\u001b[1m248.321 ms               \u001b[22m\u001b[39m\u001b[90m┊\u001b[39m GC \u001b[90m(\u001b[39mmedian\u001b[90m):    \u001b[39m0.00%\n",
       " Time  \u001b[90m(\u001b[39m\u001b[32m\u001b[1mmean\u001b[22m\u001b[39m ± \u001b[32mσ\u001b[39m\u001b[90m):   \u001b[39m\u001b[32m\u001b[1m248.228 ms\u001b[22m\u001b[39m ± \u001b[32m  1.545 ms\u001b[39m  \u001b[90m┊\u001b[39m GC \u001b[90m(\u001b[39mmean ± σ\u001b[90m):  \u001b[39m0.00% ± 0.00%\n",
       "\n",
       "  \u001b[39m█\u001b[39m \u001b[34m█\u001b[39m\u001b[39m \u001b[39m \u001b[39m \u001b[39m \u001b[39m \u001b[39m \u001b[39m \u001b[39m \u001b[39m \u001b[39m \u001b[39m \u001b[39m \u001b[39m \u001b[39m \u001b[39m \u001b[39m \u001b[39m \u001b[39m \u001b[39m \u001b[39m \u001b[39m \u001b[39m \u001b[32m \u001b[39m\u001b[39m█\u001b[39m \u001b[39m \u001b[39m \u001b[39m \u001b[39m \u001b[39m \u001b[39m \u001b[39m \u001b[39m \u001b[39m█\u001b[39m \u001b[39m \u001b[39m \u001b[39m \u001b[39m \u001b[39m \u001b[39m \u001b[39m \u001b[39m \u001b[39m \u001b[39m \u001b[39m \u001b[39m \u001b[39m \u001b[39m \u001b[39m \u001b[39m \u001b[39m \u001b[39m \u001b[39m \u001b[39m \u001b[39m \u001b[39m \u001b[39m█\u001b[39m \u001b[39m \n",
       "  \u001b[39m█\u001b[39m▁\u001b[34m█\u001b[39m\u001b[39m▁\u001b[39m▁\u001b[39m▁\u001b[39m▁\u001b[39m▁\u001b[39m▁\u001b[39m▁\u001b[39m▁\u001b[39m▁\u001b[39m▁\u001b[39m▁\u001b[39m▁\u001b[39m▁\u001b[39m▁\u001b[39m▁\u001b[39m▁\u001b[39m▁\u001b[39m▁\u001b[39m▁\u001b[39m▁\u001b[39m▁\u001b[39m▁\u001b[32m▁\u001b[39m\u001b[39m█\u001b[39m▁\u001b[39m▁\u001b[39m▁\u001b[39m▁\u001b[39m▁\u001b[39m▁\u001b[39m▁\u001b[39m▁\u001b[39m▁\u001b[39m█\u001b[39m▁\u001b[39m▁\u001b[39m▁\u001b[39m▁\u001b[39m▁\u001b[39m▁\u001b[39m▁\u001b[39m▁\u001b[39m▁\u001b[39m▁\u001b[39m▁\u001b[39m▁\u001b[39m▁\u001b[39m▁\u001b[39m▁\u001b[39m▁\u001b[39m▁\u001b[39m▁\u001b[39m▁\u001b[39m▁\u001b[39m▁\u001b[39m▁\u001b[39m▁\u001b[39m█\u001b[39m \u001b[39m▁\n",
       "  247 ms\u001b[90m           Histogram: frequency by time\u001b[39m          250 ms \u001b[0m\u001b[1m<\u001b[22m\n",
       "\n",
       " Memory estimate\u001b[90m: \u001b[39m\u001b[33m7.63 MiB\u001b[39m, allocs estimate\u001b[90m: \u001b[39m\u001b[33m2\u001b[39m."
      ]
     },
     "execution_count": 106,
     "metadata": {},
     "output_type": "execute_result"
    }
   ],
   "source": [
    "@benchmark calc_chisq_rv_kepler_cpu_simple($obs_data, $θ_true) seconds=1"
   ]
  },
  {
   "cell_type": "code",
   "execution_count": 43,
   "metadata": {},
   "outputs": [
    {
     "data": {
      "text/plain": [
       "cpu_calc_chisq_kepler (generic function with 2 methods)"
      ]
     },
     "execution_count": 43,
     "metadata": {},
     "output_type": "execute_result"
    }
   ],
   "source": [
    "function cpu_calc_chisq_kepler(t::AbstractArray, rv_obs::AbstractArray, σ::AbstractArray, θ; workspace = missing )\n",
    "    @assert length(t) == length(rv_obs) == length(σ)\n",
    "    @assert ismissing(workspace) || length(t) == length(workspace)\n",
    "    rv_pred = ismissing(workspace) ? similar(rv_obs) : workspace\n",
    "    wait(cpu_kernel_calc_rv_kepler!(rv_pred, t, θ, ndrange=size(t)))\n",
    "    χ² = sum(((rv_pred.-rv_obs)./σ).^2)\n",
    "end\n",
    "\n",
    "function cpu_calc_chisq_kepler(data::NamedTuple, θ; workspace = missing)\n",
    "    cpu_calc_chisq_kepler(data.t, data.rv, data.σ, θ, workspace = workspace)\n",
    "end"
   ]
  },
  {
   "cell_type": "code",
   "execution_count": 44,
   "metadata": {},
   "outputs": [
    {
     "data": {
      "text/plain": [
       "true"
      ]
     },
     "execution_count": 44,
     "metadata": {},
     "output_type": "execute_result"
    }
   ],
   "source": [
    "cpu_calc_chisq_kepler(obs_data, θ_true) ≈ calc_chisq_rv_kepler_cpu_simple(obs_data, θ_true)"
   ]
  },
  {
   "cell_type": "markdown",
   "metadata": {},
   "source": [
    "Now let's try the same calculation on the CPU using the CPU kernel built by `KernelAbstractions`."
   ]
  },
  {
   "cell_type": "code",
   "execution_count": 107,
   "metadata": {},
   "outputs": [
    {
     "data": {
      "text/plain": [
       "BenchmarkTools.Trial: 15 samples with 1 evaluation.\n",
       " Range \u001b[90m(\u001b[39m\u001b[36m\u001b[1mmin\u001b[22m\u001b[39m … \u001b[35mmax\u001b[39m\u001b[90m):  \u001b[39m\u001b[36m\u001b[1m69.499 ms\u001b[22m\u001b[39m … \u001b[35m76.525 ms\u001b[39m  \u001b[90m┊\u001b[39m GC \u001b[90m(\u001b[39mmin … max\u001b[90m): \u001b[39m0.00% … 5.18%\n",
       " Time  \u001b[90m(\u001b[39m\u001b[34m\u001b[1mmedian\u001b[22m\u001b[39m\u001b[90m):     \u001b[39m\u001b[34m\u001b[1m69.639 ms              \u001b[22m\u001b[39m\u001b[90m┊\u001b[39m GC \u001b[90m(\u001b[39mmedian\u001b[90m):    \u001b[39m0.00%\n",
       " Time  \u001b[90m(\u001b[39m\u001b[32m\u001b[1mmean\u001b[22m\u001b[39m ± \u001b[32mσ\u001b[39m\u001b[90m):   \u001b[39m\u001b[32m\u001b[1m70.992 ms\u001b[22m\u001b[39m ± \u001b[32m 2.154 ms\u001b[39m  \u001b[90m┊\u001b[39m GC \u001b[90m(\u001b[39mmean ± σ\u001b[90m):  \u001b[39m0.74% ± 1.84%\n",
       "\n",
       "  \u001b[39m█\u001b[34m \u001b[39m\u001b[39m \u001b[39m \u001b[39m \u001b[39m \u001b[39m \u001b[39m \u001b[39m \u001b[39m \u001b[39m \u001b[39m \u001b[39m \u001b[32m \u001b[39m\u001b[39m \u001b[39m \u001b[39m \u001b[39m \u001b[39m \u001b[39m \u001b[39m \u001b[39m \u001b[39m \u001b[39m \u001b[39m \u001b[39m \u001b[39m \u001b[39m \u001b[39m \u001b[39m \u001b[39m \u001b[39m \u001b[39m \u001b[39m \u001b[39m \u001b[39m \u001b[39m \u001b[39m \u001b[39m \u001b[39m \u001b[39m \u001b[39m \u001b[39m \u001b[39m \u001b[39m \u001b[39m \u001b[39m \u001b[39m \u001b[39m \u001b[39m \u001b[39m \u001b[39m \u001b[39m \u001b[39m \u001b[39m \u001b[39m \u001b[39m \u001b[39m \u001b[39m \u001b[39m \u001b[39m \n",
       "  \u001b[39m█\u001b[34m▄\u001b[39m\u001b[39m▁\u001b[39m▁\u001b[39m▁\u001b[39m▄\u001b[39m▁\u001b[39m▁\u001b[39m▁\u001b[39m▄\u001b[39m▁\u001b[39m▁\u001b[39m▁\u001b[32m▁\u001b[39m\u001b[39m▁\u001b[39m▁\u001b[39m▁\u001b[39m▁\u001b[39m▄\u001b[39m▁\u001b[39m▁\u001b[39m▁\u001b[39m▁\u001b[39m▄\u001b[39m▁\u001b[39m▄\u001b[39m▁\u001b[39m▁\u001b[39m▁\u001b[39m▁\u001b[39m▁\u001b[39m▁\u001b[39m▁\u001b[39m▁\u001b[39m▁\u001b[39m▁\u001b[39m▁\u001b[39m▁\u001b[39m▁\u001b[39m▁\u001b[39m▁\u001b[39m▁\u001b[39m▄\u001b[39m▁\u001b[39m▁\u001b[39m▁\u001b[39m▁\u001b[39m▁\u001b[39m▁\u001b[39m▁\u001b[39m▁\u001b[39m▁\u001b[39m▁\u001b[39m▁\u001b[39m▁\u001b[39m▁\u001b[39m▁\u001b[39m▁\u001b[39m▄\u001b[39m \u001b[39m▁\n",
       "  69.5 ms\u001b[90m         Histogram: frequency by time\u001b[39m        76.5 ms \u001b[0m\u001b[1m<\u001b[22m\n",
       "\n",
       " Memory estimate\u001b[90m: \u001b[39m\u001b[33m15.26 MiB\u001b[39m, allocs estimate\u001b[90m: \u001b[39m\u001b[33m70\u001b[39m."
      ]
     },
     "execution_count": 107,
     "metadata": {},
     "output_type": "execute_result"
    }
   ],
   "source": [
    "@benchmark cpu_calc_chisq_kepler($obs_data,$θ_true) seconds=1"
   ]
  },
  {
   "cell_type": "markdown",
   "metadata": {},
   "source": [
    "That was likely much faster than the simple way!  How is that possible?  The `KernelAbstractions` package is also parallelizing the calculation over multiple threads (assuming that you launched julia using multipel threads).   Let's check how many threads are avaliable."
   ]
  },
  {
   "cell_type": "code",
   "execution_count": 46,
   "metadata": {},
   "outputs": [
    {
     "data": {
      "text/plain": [
       "4"
      ]
     },
     "execution_count": 46,
     "metadata": {},
     "output_type": "execute_result"
    }
   ],
   "source": [
    "Threads.nthreads()"
   ]
  },
  {
   "cell_type": "markdown",
   "metadata": {},
   "source": [
    "Since KernelAbstractions is primarily geared towards GPU computing, it might not generate code that is as efficient as some other packages designed for multi-threaded computing.  Nevertheless, it likely does pretty well on a relatively simple example like this."
   ]
  },
  {
   "cell_type": "markdown",
   "metadata": {},
   "source": [
    "### Performing reduction using Array interface to GPU\n",
    "Since our GPU kernel writes its output to an array on the GPU, we can use the array interface to the GPU to perform the reduction."
   ]
  },
  {
   "cell_type": "code",
   "execution_count": 47,
   "metadata": {},
   "outputs": [
    {
     "data": {
      "text/plain": [
       "gpu_calc_chisq_kepler (generic function with 1 method)"
      ]
     },
     "execution_count": 47,
     "metadata": {},
     "output_type": "execute_result"
    }
   ],
   "source": [
    "function gpu_calc_chisq_kepler(t::CuArray, rv_obs::CuArray, σ::CuArray, θ; workspace::Union{Missing,CuArray} = similar(rv_obs) )\n",
    "    @assert length(t) == length(rv_obs) == length(σ)\n",
    "    @assert ismissing(workspace) || length(t) == length(workspace)\n",
    "    rv_pred = ismissing(workspace) ? similar(rv_obs) : workspace\n",
    "    gpu_kernel_calc_rv_kepler!(rv_pred, t, θ, ndrange=size(t))\n",
    "    χ² = sum(((rv_pred.-rv_obs)./σ).^2)\n",
    "end\n"
   ]
  },
  {
   "cell_type": "markdown",
   "metadata": {},
   "source": [
    " Note that, previously, we didn't transfer the observed velocity and uncertainty to the GPU.  In order to perform the reduction on the GPU, we'll want to do that.  To make it more convenient, we can write a wrapper function that accepts AbstractArrays and transfers them to the GPU if necessary.  We'll also provide an optional workspace parameter, so that we can pass a preallocated array to store the predicted radial velocities in."
   ]
  },
  {
   "cell_type": "code",
   "execution_count": 48,
   "metadata": {},
   "outputs": [
    {
     "data": {
      "text/plain": [
       "gpu_calc_chisq_kepler (generic function with 2 methods)"
      ]
     },
     "execution_count": 48,
     "metadata": {},
     "output_type": "execute_result"
    }
   ],
   "source": [
    "function gpu_calc_chisq_kepler(t::AbstractArray, rv_obs::AbstractArray, σ::AbstractArray, θ; workspace = missing )\n",
    "    t_d = isa(t,CuArray) ? t : convert(CuArray{eltype(t),1},t)\n",
    "    rv_obs_d = isa(rv_obs,CuArray) ? rv_obs : convert(CuArray{eltype(rv_obs),1},rv_obs)\n",
    "    σ_d = isa(σ,CuArray) ? σ : convert(CuArray{eltype(σ),1},σ)\n",
    "    workspace_d = isa(workspace, CuArray) ? workspace : similar(t_d)\n",
    "    gpu_calc_chisq_kepler(t_d,rv_obs_d,σ_d,θ, workspace=workspace_d)\n",
    "end\n"
   ]
  },
  {
   "cell_type": "markdown",
   "metadata": {},
   "source": [
    "Thinking back to our best-practices for scientific software development readings and discussion, passing several arrays to a function can be a bit dangerous, since we have to remember the correct order.  GPU kernels have some limitations, but we can compensate by wrapping our GPU calls with CPU-level functions that have a safer interface.  For example, we can make a nice wrapper function that takes a NamedTuple of arrays and a set of parameters, with an optional named parameter for a pre-allocated workspace."
   ]
  },
  {
   "cell_type": "code",
   "execution_count": 49,
   "metadata": {},
   "outputs": [
    {
     "data": {
      "text/plain": [
       "gpu_calc_chisq_kepler (generic function with 3 methods)"
      ]
     },
     "execution_count": 49,
     "metadata": {},
     "output_type": "execute_result"
    }
   ],
   "source": [
    "function gpu_calc_chisq_kepler(data::NamedTuple, θ; workspace = missing)\n",
    "    gpu_calc_chisq_kepler(data.t, data.rv, data.σ, θ, workspace = workspace)\n",
    "end"
   ]
  },
  {
   "cell_type": "markdown",
   "metadata": {},
   "source": [
    "Before benchmarking, let's make sure that the results are acceptably accurate."
   ]
  },
  {
   "cell_type": "code",
   "execution_count": 50,
   "metadata": {},
   "outputs": [
    {
     "data": {
      "text/plain": [
       "true"
      ]
     },
     "execution_count": 50,
     "metadata": {},
     "output_type": "execute_result"
    }
   ],
   "source": [
    "gpu_calc_chisq_kepler(obs_data, θ_true) ≈ cpu_calc_chisq_kepler(obs_data, θ_true)"
   ]
  },
  {
   "cell_type": "markdown",
   "metadata": {},
   "source": [
    "2f.  What do you predict for the time required to transfer the input data to the GPU, to compute the predicted velocities (allocating GPU memory to hold the results), to calcualte chi-squared on the GPU and to return just the chi-squared value to the CPU?"
   ]
  },
  {
   "cell_type": "code",
   "execution_count": 51,
   "metadata": {},
   "outputs": [
    {
     "data": {
      "text/plain": [
       "missing"
      ]
     },
     "execution_count": 51,
     "metadata": {},
     "output_type": "execute_result"
    }
   ],
   "source": [
    "response_2f = missing # md\"Insert response\""
   ]
  },
  {
   "cell_type": "code",
   "execution_count": 108,
   "metadata": {},
   "outputs": [
    {
     "data": {
      "text/plain": [
       "BenchmarkTools.Trial: 335 samples with 1 evaluation.\n",
       " Range \u001b[90m(\u001b[39m\u001b[36m\u001b[1mmin\u001b[22m\u001b[39m … \u001b[35mmax\u001b[39m\u001b[90m):  \u001b[39m\u001b[36m\u001b[1m2.828 ms\u001b[22m\u001b[39m … \u001b[35m 14.392 ms\u001b[39m  \u001b[90m┊\u001b[39m GC \u001b[90m(\u001b[39mmin … max\u001b[90m): \u001b[39m0.00% … 36.66%\n",
       " Time  \u001b[90m(\u001b[39m\u001b[34m\u001b[1mmedian\u001b[22m\u001b[39m\u001b[90m):     \u001b[39m\u001b[34m\u001b[1m2.910 ms               \u001b[22m\u001b[39m\u001b[90m┊\u001b[39m GC \u001b[90m(\u001b[39mmedian\u001b[90m):    \u001b[39m0.00%\n",
       " Time  \u001b[90m(\u001b[39m\u001b[32m\u001b[1mmean\u001b[22m\u001b[39m ± \u001b[32mσ\u001b[39m\u001b[90m):   \u001b[39m\u001b[32m\u001b[1m2.983 ms\u001b[22m\u001b[39m ± \u001b[32m746.931 μs\u001b[39m  \u001b[90m┊\u001b[39m GC \u001b[90m(\u001b[39mmean ± σ\u001b[90m):  \u001b[39m0.53% ±  2.00%\n",
       "\n",
       "  \u001b[39m \u001b[39m \u001b[39m \u001b[39m▃\u001b[39m█\u001b[39m▂\u001b[34m▁\u001b[39m\u001b[39m▄\u001b[39m \u001b[39m \u001b[39m \u001b[39m▃\u001b[32m \u001b[39m\u001b[39m \u001b[39m \u001b[39m \u001b[39m \u001b[39m \u001b[39m \u001b[39m \u001b[39m \u001b[39m \u001b[39m \u001b[39m \u001b[39m \u001b[39m \u001b[39m \u001b[39m \u001b[39m \u001b[39m \u001b[39m \u001b[39m \u001b[39m \u001b[39m \u001b[39m \u001b[39m \u001b[39m \u001b[39m \u001b[39m \u001b[39m \u001b[39m \u001b[39m \u001b[39m \u001b[39m \u001b[39m \u001b[39m \u001b[39m \u001b[39m \u001b[39m \u001b[39m \u001b[39m \u001b[39m \u001b[39m \u001b[39m \u001b[39m \u001b[39m \u001b[39m \u001b[39m \u001b[39m \u001b[39m \u001b[39m \n",
       "  \u001b[39m▇\u001b[39m▅\u001b[39m▆\u001b[39m█\u001b[39m█\u001b[39m█\u001b[34m█\u001b[39m\u001b[39m█\u001b[39m█\u001b[39m▄\u001b[39m▄\u001b[39m█\u001b[32m▇\u001b[39m\u001b[39m▅\u001b[39m▂\u001b[39m▂\u001b[39m▂\u001b[39m▁\u001b[39m▁\u001b[39m▂\u001b[39m▁\u001b[39m▁\u001b[39m▁\u001b[39m▁\u001b[39m▁\u001b[39m▂\u001b[39m▁\u001b[39m▁\u001b[39m▁\u001b[39m▁\u001b[39m▁\u001b[39m▁\u001b[39m▁\u001b[39m▁\u001b[39m▁\u001b[39m▁\u001b[39m▁\u001b[39m▁\u001b[39m▁\u001b[39m▁\u001b[39m▁\u001b[39m▂\u001b[39m▁\u001b[39m▁\u001b[39m▁\u001b[39m▁\u001b[39m▁\u001b[39m▁\u001b[39m▁\u001b[39m▁\u001b[39m▁\u001b[39m▁\u001b[39m▁\u001b[39m▁\u001b[39m▁\u001b[39m▁\u001b[39m▁\u001b[39m▁\u001b[39m▂\u001b[39m \u001b[39m▃\n",
       "  2.83 ms\u001b[90m         Histogram: frequency by time\u001b[39m        3.61 ms \u001b[0m\u001b[1m<\u001b[22m\n",
       "\n",
       " Memory estimate\u001b[90m: \u001b[39m\u001b[33m12.17 KiB\u001b[39m, allocs estimate\u001b[90m: \u001b[39m\u001b[33m224\u001b[39m."
      ]
     },
     "execution_count": 108,
     "metadata": {},
     "output_type": "execute_result"
    }
   ],
   "source": [
    "@benchmark gpu_calc_chisq_kepler($obs_data, $θ_true) seconds=1"
   ]
  },
  {
   "cell_type": "markdown",
   "metadata": {},
   "source": [
    "2g.  How did the benchmarking results compare to your prediction?  What might explain any differences?"
   ]
  },
  {
   "cell_type": "code",
   "execution_count": 53,
   "metadata": {},
   "outputs": [
    {
     "data": {
      "text/plain": [
       "missing"
      ]
     },
     "execution_count": 53,
     "metadata": {},
     "output_type": "execute_result"
    }
   ],
   "source": [
    "response_2g = missing # md\"Insert response\""
   ]
  },
  {
   "cell_type": "markdown",
   "metadata": {},
   "source": [
    "Now, we'll repeat the benchmarking, but using input data already loaded onto the GPU and a pre-alocated workspace on the GPU.  The function below helps with that.  Don't worry about the non-obvious syntax."
   ]
  },
  {
   "cell_type": "code",
   "execution_count": 54,
   "metadata": {},
   "outputs": [
    {
     "data": {
      "text/plain": [
       "convert_namedtuple_of_arrays_to_namedtuple_of_cuarrays (generic function with 1 method)"
      ]
     },
     "execution_count": 54,
     "metadata": {},
     "output_type": "execute_result"
    }
   ],
   "source": [
    "function convert_namedtuple_of_arrays_to_namedtuple_of_cuarrays(θ::NamedTuple{NTK,NTVT}) where { NTK, T<:Real, N1, A<:AbstractArray{T,N1}, N2, NTVT<:NTuple{N2,A} }\n",
    "    (; zip(keys(θ), convert.(CuArray{T,N1},values(θ)) )... )\n",
    "end"
   ]
  },
  {
   "cell_type": "code",
   "execution_count": 55,
   "metadata": {},
   "outputs": [
    {
     "data": {
      "text/plain": [
       "(t = [0.0001959991361714164, 0.00029443891623098795, 0.0004796784767074469, 0.0006547950531211017, 0.0015014448787468975, 0.0016873659815738874, 0.001909661702093395, 0.002130982466411191, 0.00259829898195772, 0.0027598296012540423  …  365.2388310397458, 365.2390880612847, 365.23928911368637, 365.23929378028726, 365.2393340406119, 365.2401410724707, 365.24100236797346, 365.24137543997875, 365.24203066117343, 365.24232621495213], rv = [5.663784504660641, 6.309328923909253, 4.892724049756472, 4.829014649135238, 5.924745124114967, 5.832715075900054, 4.675865369892856, 4.1514268408595365, 5.545878280125482, 5.63706149519609  …  0.9004173736067858, -1.1729999279440906, -0.7036493217008016, -1.0613840496841234, -0.30833124200319706, -0.6803664303147237, 0.08715102038502343, -1.7629470052876772, -0.5014088120395367, 1.4495774831710884], σ = [1.0, 1.0, 1.0, 1.0, 1.0, 1.0, 1.0, 1.0, 1.0, 1.0  …  1.0, 1.0, 1.0, 1.0, 1.0, 1.0, 1.0, 1.0, 1.0, 1.0])"
      ]
     },
     "execution_count": 55,
     "metadata": {},
     "output_type": "execute_result"
    }
   ],
   "source": [
    "obs_data_gpu = convert_namedtuple_of_arrays_to_namedtuple_of_cuarrays(obs_data)"
   ]
  },
  {
   "cell_type": "markdown",
   "metadata": {},
   "source": [
    "2h.  What do you predict for the time required to compute the predicted velocities (using a pre-allocated workspace on the GPU), to compute chi-squared on the GPU and to return just the chi-squared value to the CPU?  "
   ]
  },
  {
   "cell_type": "code",
   "execution_count": 56,
   "metadata": {},
   "outputs": [
    {
     "data": {
      "text/plain": [
       "missing"
      ]
     },
     "execution_count": 56,
     "metadata": {},
     "output_type": "execute_result"
    }
   ],
   "source": [
    "response_2h = missing # md\"Insert response\""
   ]
  },
  {
   "cell_type": "code",
   "execution_count": 109,
   "metadata": {},
   "outputs": [
    {
     "data": {
      "text/plain": [
       "BenchmarkTools.Trial: 1747 samples with 1 evaluation.\n",
       " Range \u001b[90m(\u001b[39m\u001b[36m\u001b[1mmin\u001b[22m\u001b[39m … \u001b[35mmax\u001b[39m\u001b[90m):  \u001b[39m\u001b[36m\u001b[1m547.533 μs\u001b[22m\u001b[39m … \u001b[35m 21.382 ms\u001b[39m  \u001b[90m┊\u001b[39m GC \u001b[90m(\u001b[39mmin … max\u001b[90m): \u001b[39m0.00% … 41.53%\n",
       " Time  \u001b[90m(\u001b[39m\u001b[34m\u001b[1mmedian\u001b[22m\u001b[39m\u001b[90m):     \u001b[39m\u001b[34m\u001b[1m552.866 μs               \u001b[22m\u001b[39m\u001b[90m┊\u001b[39m GC \u001b[90m(\u001b[39mmedian\u001b[90m):    \u001b[39m0.00%\n",
       " Time  \u001b[90m(\u001b[39m\u001b[32m\u001b[1mmean\u001b[22m\u001b[39m ± \u001b[32mσ\u001b[39m\u001b[90m):   \u001b[39m\u001b[32m\u001b[1m566.239 μs\u001b[22m\u001b[39m ± \u001b[32m498.833 μs\u001b[39m  \u001b[90m┊\u001b[39m GC \u001b[90m(\u001b[39mmean ± σ\u001b[90m):  \u001b[39m0.90% ±  0.99%\n",
       "\n",
       "  \u001b[39m \u001b[39m \u001b[39m \u001b[39m \u001b[39m \u001b[39m \u001b[39m \u001b[39m \u001b[39m \u001b[39m \u001b[39m \u001b[39m▂\u001b[39m▁\u001b[39m▅\u001b[39m▆\u001b[39m▃\u001b[39m█\u001b[39m▇\u001b[39m▅\u001b[39m▇\u001b[39m▇\u001b[39m█\u001b[34m▇\u001b[39m\u001b[39m▆\u001b[39m▇\u001b[39m▇\u001b[39m▇\u001b[39m▆\u001b[39m▆\u001b[39m▃\u001b[39m▃\u001b[39m▄\u001b[39m \u001b[39m \u001b[39m \u001b[39m \u001b[39m \u001b[39m \u001b[39m \u001b[39m \u001b[39m \u001b[39m \u001b[39m \u001b[39m \u001b[39m \u001b[39m \u001b[39m \u001b[39m \u001b[39m \u001b[39m \u001b[39m \u001b[39m \u001b[39m \u001b[39m \u001b[39m \u001b[39m \u001b[39m \u001b[39m \u001b[39m \u001b[39m \u001b[39m \u001b[39m \u001b[39m \n",
       "  \u001b[39m▂\u001b[39m▃\u001b[39m▂\u001b[39m▃\u001b[39m▃\u001b[39m▃\u001b[39m▅\u001b[39m▄\u001b[39m█\u001b[39m█\u001b[39m█\u001b[39m█\u001b[39m█\u001b[39m█\u001b[39m█\u001b[39m█\u001b[39m█\u001b[39m█\u001b[39m█\u001b[39m█\u001b[39m█\u001b[39m█\u001b[34m█\u001b[39m\u001b[39m█\u001b[39m█\u001b[39m█\u001b[39m█\u001b[39m█\u001b[39m█\u001b[39m█\u001b[39m█\u001b[39m█\u001b[39m█\u001b[39m▇\u001b[39m▇\u001b[39m▅\u001b[39m▆\u001b[39m▅\u001b[39m▄\u001b[39m▄\u001b[39m▄\u001b[39m▃\u001b[39m▃\u001b[39m▄\u001b[39m▃\u001b[39m▃\u001b[39m▃\u001b[39m▂\u001b[39m▃\u001b[39m▃\u001b[39m▃\u001b[39m▃\u001b[39m▂\u001b[39m▃\u001b[39m▁\u001b[39m▂\u001b[39m▃\u001b[39m▂\u001b[39m▂\u001b[39m▁\u001b[39m▂\u001b[39m \u001b[39m▅\n",
       "  548 μs\u001b[90m           Histogram: frequency by time\u001b[39m          562 μs \u001b[0m\u001b[1m<\u001b[22m\n",
       "\n",
       " Memory estimate\u001b[90m: \u001b[39m\u001b[33m11.50 KiB\u001b[39m, allocs estimate\u001b[90m: \u001b[39m\u001b[33m201\u001b[39m."
      ]
     },
     "execution_count": 109,
     "metadata": {},
     "output_type": "execute_result"
    }
   ],
   "source": [
    "@benchmark gpu_calc_chisq_kepler($obs_data_gpu, $θ_true, workspace = $output_gpu_d64) seconds=1"
   ]
  },
  {
   "cell_type": "markdown",
   "metadata": {},
   "source": [
    "2i.  How did the benchmarking results compare to your prediction?  What might explain any differences?"
   ]
  },
  {
   "cell_type": "code",
   "execution_count": 58,
   "metadata": {},
   "outputs": [
    {
     "data": {
      "text/plain": [
       "missing"
      ]
     },
     "execution_count": 58,
     "metadata": {},
     "output_type": "execute_result"
    }
   ],
   "source": [
    "response_2i = missing # md\"Insert response\""
   ]
  },
  {
   "cell_type": "markdown",
   "metadata": {},
   "source": [
    "## Evaluating many models at once\n",
    "In the previous examples, we got a good performance speed-up when we computed a million predicted velocities in one GPU call.  Most stars won't have nearly that many observations.  If we only had a few hundred observations and used the code above, we would not get nearly as good performance out of the CPU.  (Feel free to try repeating the above benchmarks, changing n_obs.  Remember, you'd need to rerun all the cells that are affected.)  Is there a way that GPU computing might still be useful?  \n",
    "\n",
    "Typically, we don't just want to evalute one model, but rather need to evaluate thousand, millions or billions of models to find those that are a good match to the observations.  This creates a second opportunity for parallelization.  We can have each thread evaluate the predicted velocity for one observation time and one set of model parameters.  Let's try that.  \n",
    "\n",
    "First, we'll generate a smaller dataset for testing, and load it onto the GPU."
   ]
  },
  {
   "cell_type": "code",
   "execution_count": 59,
   "metadata": {
    "tags": []
   },
   "outputs": [
    {
     "data": {
      "text/plain": [
       "(t = [2.8742067949527534, 3.162557997918074, 5.810859332217534, 7.134368969219339, 15.861522044564799, 19.77826782384052, 20.273924302026447, 21.984169226740697, 24.24671103537783, 24.512769399600533  …  346.0312694638401, 347.17468302993507, 347.40354489472685, 350.3435639861119, 350.9360029936967, 354.85316487421386, 355.440309178182, 357.24310859954994, 357.5490889457361, 361.14111726656733], rv = [3.242145790626962, 5.560755423384858, 3.858950151412185, -4.068849943396792, -3.115155547612416, -3.2556863925419792, -0.2786246192543612, -4.113643986571189, 7.632940843957569, 3.115754725520077  …  -2.462035669721482, -1.8029102067075686, 0.973956354589591, 1.311814639591536, 3.6954850163579476, -3.9775804513784725, -3.8372356003585737, 8.69716464816484, 2.9384316371402894, -4.038972729167349], σ = [1.0, 1.0, 1.0, 1.0, 1.0, 1.0, 1.0, 1.0, 1.0, 1.0  …  1.0, 1.0, 1.0, 1.0, 1.0, 1.0, 1.0, 1.0, 1.0, 1.0])"
      ]
     },
     "execution_count": 59,
     "metadata": {},
     "output_type": "execute_result"
    }
   ],
   "source": [
    "n_obs_small = 256\n",
    "obs_data_small = generate_obs_data(time_span=time_span_in_years, num_obs=n_obs_small, param=θ_true, σ_obs=1.0, model=calc_rv_kepler);\n",
    "obs_data_small_gpu = convert_namedtuple_of_arrays_to_namedtuple_of_cuarrays(obs_data_small)"
   ]
  },
  {
   "cell_type": "markdown",
   "metadata": {},
   "source": [
    "Now, let's generate a lot of different sets of model parameters to try evaluating."
   ]
  },
  {
   "cell_type": "code",
   "execution_count": 176,
   "metadata": {
    "tags": []
   },
   "outputs": [],
   "source": [
    "num_models = 8_192\n",
    "σ_P = P_true*1e-4\n",
    "σ_K = K_true*1e-2\n",
    "σ_e = 0.1\n",
    "σ_ω = 2π*0.1\n",
    "σ_M0 = 2π*0.1\n",
    "θ_eval = (;P=clamp.(P_true.+σ_P.*randn(num_models), 0.0, Inf),\n",
    "    K=clamp.(K_true.+σ_K.*randn(num_models), 0.0, Inf),\n",
    "    e=clamp.(e_true.+σ_e.*randn(num_models), 0.0, 1.0),\n",
    "    ω=ω_true.+σ_ω.*randn(num_models),\n",
    "    M0=M0_true.+σ_M0.*randn(num_models) );"
   ]
  },
  {
   "cell_type": "markdown",
   "metadata": {},
   "source": [
    "Next, we'll write a custom kernel that computes the predicted velocity for one observation time and one set of model parameters.  \n",
    "We'll need to specify a problem size that is a tuple, with the first dimension being the number of times and the second dimension being the number of models to evaluate."
   ]
  },
  {
   "cell_type": "code",
   "execution_count": 156,
   "metadata": {
    "tags": []
   },
   "outputs": [],
   "source": [
    "KernelAbstractions.@kernel function calc_rv_kepler_kernel_many_models(y, @Const(times), @Const(P), @Const(K), @Const(ecc), @Const(ω), @Const(M0) )\n",
    "    I, J = @index(Global, NTuple)\n",
    "    t_I = times[I]\n",
    "    param_J = (; P=P[J], K=K[J], e=ecc[J], ω=ω[J], M0=M0[J] )\n",
    "    y[I,J] = calc_rv_kepler(t_I,param=param_J)\n",
    "end"
   ]
  },
  {
   "cell_type": "markdown",
   "metadata": {},
   "source": [
    "We'll create a CPU version of the kernel,  allocate the memory for it to store its results in, and test the CPU kernel."
   ]
  },
  {
   "cell_type": "code",
   "execution_count": 157,
   "metadata": {},
   "outputs": [
    {
     "data": {
      "text/plain": [
       "KernelAbstractions.Kernel{CPU, KernelAbstractions.NDIteration.StaticSize{(16,)}, KernelAbstractions.NDIteration.DynamicSize, typeof(cpu_calc_rv_kepler_kernel_many_models)}(cpu_calc_rv_kepler_kernel_many_models)"
      ]
     },
     "execution_count": 157,
     "metadata": {},
     "output_type": "execute_result"
    }
   ],
   "source": [
    "cpu_kernel_calc_rv_kepler_many_models! = calc_rv_kepler_kernel_many_models(CPU(), 16)"
   ]
  },
  {
   "cell_type": "code",
   "execution_count": 158,
   "metadata": {},
   "outputs": [],
   "source": [
    "output_many_models_cpu = zeros(n_obs_small, num_models);"
   ]
  },
  {
   "cell_type": "code",
   "execution_count": 159,
   "metadata": {},
   "outputs": [],
   "source": [
    "wait(cpu_kernel_calc_rv_kepler_many_models!(output_many_models_cpu, obs_data_small.t, θ_eval.P, θ_eval.K, θ_eval.e, θ_eval.ω, θ_eval.M0, ndrange=( n_obs_small, num_models ) ))"
   ]
  },
  {
   "cell_type": "markdown",
   "metadata": {},
   "source": [
    "Now, we'll create a GPU version of the kernel, allocate the memory for it to store its results in, load the model parameters to be evaluated onto the GPU, and test Ghe CPU kernel."
   ]
  },
  {
   "cell_type": "code",
   "execution_count": 160,
   "metadata": {},
   "outputs": [
    {
     "data": {
      "text/plain": [
       "KernelAbstractions.Kernel{CUDADevice, KernelAbstractions.NDIteration.StaticSize{(32,)}, KernelAbstractions.NDIteration.DynamicSize, typeof(gpu_calc_rv_kepler_kernel_many_models)}(gpu_calc_rv_kepler_kernel_many_models)"
      ]
     },
     "execution_count": 160,
     "metadata": {},
     "output_type": "execute_result"
    }
   ],
   "source": [
    "gpu_kernel_calc_rv_kepler_many_models! = calc_rv_kepler_kernel_many_models(CUDAKernels.CUDADevice(), 32)"
   ]
  },
  {
   "cell_type": "code",
   "execution_count": 161,
   "metadata": {},
   "outputs": [],
   "source": [
    "output_many_models_gpu = CUDA.zeros(Float64,n_obs_small, num_models);"
   ]
  },
  {
   "cell_type": "code",
   "execution_count": 162,
   "metadata": {},
   "outputs": [],
   "source": [
    "θ_eval_gpu = convert_namedtuple_of_arrays_to_namedtuple_of_cuarrays(θ_eval);"
   ]
  },
  {
   "cell_type": "code",
   "execution_count": 163,
   "metadata": {},
   "outputs": [],
   "source": [
    "wait(gpu_kernel_calc_rv_kepler_many_models!(output_many_models_gpu, obs_data_small_gpu.t, θ_eval_gpu.P, θ_eval_gpu.K, θ_eval_gpu.e, θ_eval_gpu.ω, θ_eval_gpu.M0, ndrange=( n_obs_small, num_models ) ))"
   ]
  },
  {
   "cell_type": "markdown",
   "metadata": {},
   "source": [
    "A quick check that the results are consistent given expected limitations of floating point arithmetic."
   ]
  },
  {
   "cell_type": "code",
   "execution_count": 164,
   "metadata": {},
   "outputs": [
    {
     "data": {
      "text/plain": [
       "5.551115123125783e-15"
      ]
     },
     "execution_count": 164,
     "metadata": {},
     "output_type": "execute_result"
    }
   ],
   "source": [
    "maximum(abs.(collect(output_many_models_gpu).-output_many_models_cpu))"
   ]
  },
  {
   "cell_type": "markdown",
   "metadata": {},
   "source": [
    "2j. What do you predict for the speed-up factor of the GPU relative to the CPU?"
   ]
  },
  {
   "cell_type": "code",
   "execution_count": 165,
   "metadata": {},
   "outputs": [
    {
     "data": {
      "text/plain": [
       "missing"
      ]
     },
     "execution_count": 165,
     "metadata": {},
     "output_type": "execute_result"
    }
   ],
   "source": [
    "response_2j = missing # md\"Insert response\""
   ]
  },
  {
   "cell_type": "code",
   "execution_count": 166,
   "metadata": {},
   "outputs": [
    {
     "data": {
      "text/plain": [
       "BenchmarkTools.Trial: 812 samples with 1 evaluation.\n",
       " Range \u001b[90m(\u001b[39m\u001b[36m\u001b[1mmin\u001b[22m\u001b[39m … \u001b[35mmax\u001b[39m\u001b[90m):  \u001b[39m\u001b[36m\u001b[1m1.203 ms\u001b[22m\u001b[39m … \u001b[35m 2.464 ms\u001b[39m  \u001b[90m┊\u001b[39m GC \u001b[90m(\u001b[39mmin … max\u001b[90m): \u001b[39m0.00% … 0.00%\n",
       " Time  \u001b[90m(\u001b[39m\u001b[34m\u001b[1mmedian\u001b[22m\u001b[39m\u001b[90m):     \u001b[39m\u001b[34m\u001b[1m1.218 ms              \u001b[22m\u001b[39m\u001b[90m┊\u001b[39m GC \u001b[90m(\u001b[39mmedian\u001b[90m):    \u001b[39m0.00%\n",
       " Time  \u001b[90m(\u001b[39m\u001b[32m\u001b[1mmean\u001b[22m\u001b[39m ± \u001b[32mσ\u001b[39m\u001b[90m):   \u001b[39m\u001b[32m\u001b[1m1.228 ms\u001b[22m\u001b[39m ± \u001b[32m62.737 μs\u001b[39m  \u001b[90m┊\u001b[39m GC \u001b[90m(\u001b[39mmean ± σ\u001b[90m):  \u001b[39m0.00% ± 0.00%\n",
       "\n",
       "  \u001b[39m \u001b[39m \u001b[39m \u001b[39m \u001b[39m \u001b[39m \u001b[39m \u001b[39m▁\u001b[39m█\u001b[34m▄\u001b[39m\u001b[39m \u001b[39m \u001b[39m \u001b[39m \u001b[32m \u001b[39m\u001b[39m \u001b[39m \u001b[39m \u001b[39m \u001b[39m \u001b[39m \u001b[39m \u001b[39m \u001b[39m \u001b[39m \u001b[39m \u001b[39m \u001b[39m \u001b[39m \u001b[39m \u001b[39m \u001b[39m \u001b[39m \u001b[39m \u001b[39m \u001b[39m \u001b[39m \u001b[39m \u001b[39m \u001b[39m \u001b[39m \u001b[39m \u001b[39m \u001b[39m \u001b[39m \u001b[39m \u001b[39m \u001b[39m \u001b[39m \u001b[39m \u001b[39m \u001b[39m \u001b[39m \u001b[39m \u001b[39m \u001b[39m \u001b[39m \u001b[39m \u001b[39m \u001b[39m \n",
       "  \u001b[39m▄\u001b[39m▄\u001b[39m▄\u001b[39m█\u001b[39m▇\u001b[39m▆\u001b[39m▇\u001b[39m█\u001b[39m█\u001b[34m█\u001b[39m\u001b[39m▇\u001b[39m▄\u001b[39m▃\u001b[39m▂\u001b[32m▂\u001b[39m\u001b[39m▃\u001b[39m▃\u001b[39m▃\u001b[39m▂\u001b[39m▄\u001b[39m▃\u001b[39m▃\u001b[39m▃\u001b[39m▃\u001b[39m▃\u001b[39m▃\u001b[39m▃\u001b[39m▃\u001b[39m▄\u001b[39m▂\u001b[39m▃\u001b[39m▂\u001b[39m▃\u001b[39m▄\u001b[39m▃\u001b[39m▃\u001b[39m▂\u001b[39m▂\u001b[39m▃\u001b[39m▂\u001b[39m▁\u001b[39m▂\u001b[39m▂\u001b[39m▂\u001b[39m▂\u001b[39m▁\u001b[39m▂\u001b[39m▂\u001b[39m▁\u001b[39m▁\u001b[39m▁\u001b[39m▂\u001b[39m▂\u001b[39m▁\u001b[39m▁\u001b[39m▁\u001b[39m▁\u001b[39m▂\u001b[39m \u001b[39m▃\n",
       "  1.2 ms\u001b[90m         Histogram: frequency by time\u001b[39m         1.3 ms \u001b[0m\u001b[1m<\u001b[22m\n",
       "\n",
       " Memory estimate\u001b[90m: \u001b[39m\u001b[33m4.20 KiB\u001b[39m, allocs estimate\u001b[90m: \u001b[39m\u001b[33m65\u001b[39m."
      ]
     },
     "execution_count": 166,
     "metadata": {},
     "output_type": "execute_result"
    }
   ],
   "source": [
    "@benchmark wait(cpu_kernel_calc_rv_kepler_many_models!($output_many_models_cpu, $obs_data_small.t, $θ_eval.P, $θ_eval.K, $θ_eval.e, $θ_eval.ω, $θ_eval.M0, ndrange=( n_obs_small, num_models ) )) seconds=1"
   ]
  },
  {
   "cell_type": "code",
   "execution_count": 167,
   "metadata": {},
   "outputs": [
    {
     "data": {
      "text/plain": [
       "BenchmarkTools.Trial: 5721 samples with 1 evaluation.\n",
       " Range \u001b[90m(\u001b[39m\u001b[36m\u001b[1mmin\u001b[22m\u001b[39m … \u001b[35mmax\u001b[39m\u001b[90m):  \u001b[39m\u001b[36m\u001b[1m 56.128 μs\u001b[22m\u001b[39m … \u001b[35m60.112 ms\u001b[39m  \u001b[90m┊\u001b[39m GC \u001b[90m(\u001b[39mmin … max\u001b[90m): \u001b[39m0.00% … 0.00%\n",
       " Time  \u001b[90m(\u001b[39m\u001b[34m\u001b[1mmedian\u001b[22m\u001b[39m\u001b[90m):     \u001b[39m\u001b[34m\u001b[1m 74.862 μs              \u001b[22m\u001b[39m\u001b[90m┊\u001b[39m GC \u001b[90m(\u001b[39mmedian\u001b[90m):    \u001b[39m0.00%\n",
       " Time  \u001b[90m(\u001b[39m\u001b[32m\u001b[1mmean\u001b[22m\u001b[39m ± \u001b[32mσ\u001b[39m\u001b[90m):   \u001b[39m\u001b[32m\u001b[1m168.839 μs\u001b[22m\u001b[39m ± \u001b[32m 1.775 ms\u001b[39m  \u001b[90m┊\u001b[39m GC \u001b[90m(\u001b[39mmean ± σ\u001b[90m):  \u001b[39m0.00% ± 0.00%\n",
       "\n",
       "  \u001b[39m \u001b[39m \u001b[39m \u001b[39m \u001b[39m \u001b[39m \u001b[39m \u001b[39m \u001b[39m \u001b[39m \u001b[39m \u001b[39m \u001b[39m \u001b[39m \u001b[39m \u001b[39m▄\u001b[39m▇\u001b[39m█\u001b[34m▇\u001b[39m\u001b[39m▆\u001b[39m▅\u001b[39m▅\u001b[39m▅\u001b[39m▄\u001b[39m▃\u001b[39m▂\u001b[39m▁\u001b[39m \u001b[39m \u001b[39m \u001b[39m▁\u001b[39m \u001b[39m \u001b[39m \u001b[39m \u001b[39m \u001b[39m \u001b[39m \u001b[39m \u001b[39m \u001b[39m \u001b[39m \u001b[39m \u001b[39m \u001b[39m \u001b[39m \u001b[39m \u001b[39m \u001b[39m \u001b[39m \u001b[39m \u001b[39m \u001b[39m \u001b[39m \u001b[39m \u001b[39m \u001b[39m \u001b[39m \u001b[39m \u001b[39m \u001b[39m \u001b[39m▂\n",
       "  \u001b[39m▃\u001b[39m▁\u001b[39m▁\u001b[39m▁\u001b[39m▁\u001b[39m▁\u001b[39m▃\u001b[39m▁\u001b[39m▁\u001b[39m▁\u001b[39m▁\u001b[39m▁\u001b[39m▁\u001b[39m▃\u001b[39m█\u001b[39m█\u001b[39m█\u001b[39m█\u001b[34m█\u001b[39m\u001b[39m█\u001b[39m█\u001b[39m█\u001b[39m█\u001b[39m█\u001b[39m█\u001b[39m█\u001b[39m█\u001b[39m█\u001b[39m█\u001b[39m█\u001b[39m█\u001b[39m█\u001b[39m█\u001b[39m▇\u001b[39m▇\u001b[39m▇\u001b[39m▇\u001b[39m▆\u001b[39m▆\u001b[39m▅\u001b[39m▄\u001b[39m▄\u001b[39m▃\u001b[39m▅\u001b[39m▅\u001b[39m▃\u001b[39m▄\u001b[39m▄\u001b[39m▅\u001b[39m▄\u001b[39m▄\u001b[39m▃\u001b[39m▁\u001b[39m▃\u001b[39m▃\u001b[39m▁\u001b[39m▄\u001b[39m▅\u001b[39m▃\u001b[39m▃\u001b[39m \u001b[39m█\n",
       "  56.1 μs\u001b[90m       \u001b[39m\u001b[90mHistogram: \u001b[39m\u001b[90m\u001b[1mlog(\u001b[22m\u001b[39m\u001b[90mfrequency\u001b[39m\u001b[90m\u001b[1m)\u001b[22m\u001b[39m\u001b[90m by time\u001b[39m       117 μs \u001b[0m\u001b[1m<\u001b[22m\n",
       "\n",
       " Memory estimate\u001b[90m: \u001b[39m\u001b[33m3.70 KiB\u001b[39m, allocs estimate\u001b[90m: \u001b[39m\u001b[33m68\u001b[39m."
      ]
     },
     "execution_count": 167,
     "metadata": {},
     "output_type": "execute_result"
    }
   ],
   "source": [
    "@benchmark wait(gpu_kernel_calc_rv_kepler_many_models!($output_many_models_gpu, $obs_data_small_gpu.t, $θ_eval_gpu.P, $θ_eval_gpu.K, $θ_eval_gpu.e, $θ_eval_gpu.ω, $θ_eval_gpu.M0, ndrange=( n_obs_small, num_models ) )) seconds=1"
   ]
  },
  {
   "cell_type": "markdown",
   "metadata": {},
   "source": [
    "2k.  How did the benchmarking results compare to your prediction?  What might explain any differences?"
   ]
  },
  {
   "cell_type": "code",
   "execution_count": 168,
   "metadata": {},
   "outputs": [
    {
     "data": {
      "text/plain": [
       "missing"
      ]
     },
     "execution_count": 168,
     "metadata": {},
     "output_type": "execute_result"
    }
   ],
   "source": [
    "response_2k = missing # md\"Insert response\""
   ]
  },
  {
   "cell_type": "markdown",
   "metadata": {},
   "source": [
    "## Evaluating many models with reduction\n",
    "We can likely get a further speed-up be performing the reduction operation on the GPU and returning only the goodness of fit statistics, rather than every predicted velocity.  We'll try that below."
   ]
  },
  {
   "cell_type": "code",
   "execution_count": 169,
   "metadata": {
    "tags": []
   },
   "outputs": [
    {
     "data": {
      "text/plain": [
       "cpu_calc_chisq_kepler_many_models (generic function with 2 methods)"
      ]
     },
     "execution_count": 169,
     "metadata": {},
     "output_type": "execute_result"
    }
   ],
   "source": [
    "function cpu_calc_chisq_kepler_many_models(t::AbstractArray, rv_obs::AbstractArray, σ::AbstractArray, θ; workspace = missing )\n",
    "    @assert length(t) == length(rv_obs) == length(σ)\n",
    "    @assert ismissing(workspace) || size(workspace) == (length(t), length(first(θ)) )\n",
    "    rv_pred = ismissing(workspace) ? zeros(eltype(rv_obs),length(t),length(first(θ))) : workspace\n",
    "    wait(cpu_kernel_calc_rv_kepler_many_models!(rv_pred, t, θ.P, θ.K, θ.e, θ.ω, θ.M0, ndrange=(length(t), length(first(θ))) ))\n",
    "    χ² = vec(sum(((rv_pred.-rv_obs)./σ).^2, dims=1))\n",
    "end\n",
    "\n",
    "function cpu_calc_chisq_kepler_many_models(data::NamedTuple, θ; workspace = missing)\n",
    "    cpu_calc_chisq_kepler_many_models(data.t, data.rv, data.σ, θ, workspace = workspace)\n",
    "end"
   ]
  },
  {
   "cell_type": "code",
   "execution_count": 170,
   "metadata": {},
   "outputs": [
    {
     "data": {
      "text/plain": [
       "gpu_calc_chisq_kepler_many_models (generic function with 3 methods)"
      ]
     },
     "execution_count": 170,
     "metadata": {},
     "output_type": "execute_result"
    }
   ],
   "source": [
    "function gpu_calc_chisq_kepler_many_models(t::CuArray, rv_obs::CuArray, σ::CuArray, θ; workspace::Union{Missing,CuArray} = CUDA.zeros(eltype(rv_obs),length(t),length(θ.P)) )\n",
    "    @assert length(t) == length(rv_obs) == length(σ)\n",
    "    @assert ismissing(workspace) || size(workspace) == (length(t), length(first(θ)) )\n",
    "    rv_pred = ismissing(workspace) ? CUDA.zeros(eltype(rv_obs),length(t),length(first(θ)))  : workspace\n",
    "    (gpu_kernel_calc_rv_kepler_many_models!(rv_pred, t, θ.P, θ.K, θ.e, θ.ω, θ.M0, ndrange=(length(t), length(first(θ))) ))\n",
    "    χ² = vec(sum(((rv_pred.-rv_obs)./σ).^2, dims=1))\n",
    "end\n",
    "\n",
    "function gpu_calc_chisq_kepler_many_models(t::AbstractArray, rv_obs::AbstractArray, σ::AbstractArray, θ; workspace = missing )\n",
    "    t_d = isa(t,CuArray) ? t : convert(CuArray{Float64,1},t)\n",
    "    rv_obs_d = isa(rv_obs,CuArray) ? rv_obs : convert(CuArray{Float64,1},rv_obs)\n",
    "    σ_d = isa(σ,CuArray) ? σ : convert(CuArray{Float64,1},σ)\n",
    "    workspace_d = isa(workspace, CuArray) ? workspace : CUDA.zeros(eltype(rv_obs),length(t_d),length(first(θ)))\n",
    "    gpu_calc_chisq_kepler_many_models(t_d,rv_obs_d,σ_d,θ, workspace=workspace_d)\n",
    "end\n",
    "\n",
    "function gpu_calc_chisq_kepler_many_models(data::NamedTuple, θ; workspace = missing)\n",
    "    gpu_calc_chisq_kepler_many_models(data.t, data.rv, data.σ, θ, workspace = workspace)\n",
    "end"
   ]
  },
  {
   "cell_type": "code",
   "execution_count": 171,
   "metadata": {},
   "outputs": [
    {
     "data": {
      "text/plain": [
       "3.637978807091713e-12"
      ]
     },
     "execution_count": 171,
     "metadata": {},
     "output_type": "execute_result"
    }
   ],
   "source": [
    "χ²s_gpu = gpu_calc_chisq_kepler_many_models(obs_data_small_gpu, θ_eval_gpu, workspace = output_many_models_gpu);\n",
    "χ²s_cpu = cpu_calc_chisq_kepler_many_models(obs_data_small, θ_eval, workspace = output_many_models_cpu);\n",
    "maximum(abs.(collect(χ²s_gpu).-χ²s_cpu))"
   ]
  },
  {
   "cell_type": "code",
   "execution_count": 172,
   "metadata": {},
   "outputs": [
    {
     "data": {
      "text/plain": [
       "BenchmarkTools.Trial: 10000 samples with 1 evaluation.\n",
       " Range \u001b[90m(\u001b[39m\u001b[36m\u001b[1mmin\u001b[22m\u001b[39m … \u001b[35mmax\u001b[39m\u001b[90m):  \u001b[39m\u001b[36m\u001b[1m65.901 μs\u001b[22m\u001b[39m … \u001b[35m 82.618 ms\u001b[39m  \u001b[90m┊\u001b[39m GC \u001b[90m(\u001b[39mmin … max\u001b[90m): \u001b[39m0.00% … 31.44%\n",
       " Time  \u001b[90m(\u001b[39m\u001b[34m\u001b[1mmedian\u001b[22m\u001b[39m\u001b[90m):     \u001b[39m\u001b[34m\u001b[1m75.898 μs               \u001b[22m\u001b[39m\u001b[90m┊\u001b[39m GC \u001b[90m(\u001b[39mmedian\u001b[90m):    \u001b[39m0.00%\n",
       " Time  \u001b[90m(\u001b[39m\u001b[32m\u001b[1mmean\u001b[22m\u001b[39m ± \u001b[32mσ\u001b[39m\u001b[90m):   \u001b[39m\u001b[32m\u001b[1m85.308 μs\u001b[22m\u001b[39m ± \u001b[32m825.707 μs\u001b[39m  \u001b[90m┊\u001b[39m GC \u001b[90m(\u001b[39mmean ± σ\u001b[90m):  \u001b[39m3.04% ±  0.31%\n",
       "\n",
       "  \u001b[39m \u001b[39m \u001b[39m \u001b[39m \u001b[39m \u001b[39m \u001b[39m \u001b[39m \u001b[39m \u001b[39m \u001b[39m \u001b[39m \u001b[39m \u001b[39m \u001b[39m \u001b[39m \u001b[39m▂\u001b[39m▃\u001b[39m▃\u001b[39m▄\u001b[39m▅\u001b[39m▄\u001b[39m▆\u001b[39m▅\u001b[39m▆\u001b[39m▆\u001b[39m▆\u001b[39m█\u001b[34m▇\u001b[39m\u001b[39m▆\u001b[39m▆\u001b[39m▇\u001b[39m▅\u001b[39m▆\u001b[39m▅\u001b[39m▃\u001b[39m▃\u001b[39m▂\u001b[39m▂\u001b[39m▁\u001b[39m▁\u001b[39m \u001b[39m \u001b[39m \u001b[39m \u001b[39m \u001b[39m \u001b[39m \u001b[39m \u001b[39m \u001b[39m \u001b[39m \u001b[39m \u001b[39m \u001b[39m \u001b[32m \u001b[39m\u001b[39m \u001b[39m \u001b[39m \u001b[39m \u001b[39m \u001b[39m \n",
       "  \u001b[39m▁\u001b[39m▁\u001b[39m▂\u001b[39m▂\u001b[39m▂\u001b[39m▃\u001b[39m▃\u001b[39m▄\u001b[39m▄\u001b[39m▄\u001b[39m▅\u001b[39m▅\u001b[39m▆\u001b[39m▇\u001b[39m█\u001b[39m█\u001b[39m█\u001b[39m█\u001b[39m█\u001b[39m█\u001b[39m█\u001b[39m█\u001b[39m█\u001b[39m█\u001b[39m█\u001b[39m█\u001b[39m█\u001b[39m█\u001b[34m█\u001b[39m\u001b[39m█\u001b[39m█\u001b[39m█\u001b[39m█\u001b[39m█\u001b[39m█\u001b[39m█\u001b[39m█\u001b[39m█\u001b[39m█\u001b[39m█\u001b[39m█\u001b[39m▇\u001b[39m▇\u001b[39m▆\u001b[39m▅\u001b[39m▄\u001b[39m▄\u001b[39m▄\u001b[39m▃\u001b[39m▃\u001b[39m▃\u001b[39m▃\u001b[39m▂\u001b[39m▂\u001b[39m▂\u001b[32m▂\u001b[39m\u001b[39m▂\u001b[39m▂\u001b[39m▁\u001b[39m▁\u001b[39m \u001b[39m▅\n",
       "  65.9 μs\u001b[90m         Histogram: frequency by time\u001b[39m         87.1 μs \u001b[0m\u001b[1m<\u001b[22m\n",
       "\n",
       " Memory estimate\u001b[90m: \u001b[39m\u001b[33m10.36 KiB\u001b[39m, allocs estimate\u001b[90m: \u001b[39m\u001b[33m161\u001b[39m."
      ]
     },
     "execution_count": 172,
     "metadata": {},
     "output_type": "execute_result"
    }
   ],
   "source": [
    "@benchmark gpu_calc_chisq_kepler_many_models($obs_data_small_gpu, $θ_eval_gpu, workspace = $output_many_models_gpu) seconds=1"
   ]
  },
  {
   "cell_type": "code",
   "execution_count": 173,
   "metadata": {},
   "outputs": [
    {
     "data": {
      "text/plain": [
       "BenchmarkTools.Trial: 789 samples with 1 evaluation.\n",
       " Range \u001b[90m(\u001b[39m\u001b[36m\u001b[1mmin\u001b[22m\u001b[39m … \u001b[35mmax\u001b[39m\u001b[90m):  \u001b[39m\u001b[36m\u001b[1m1.236 ms\u001b[22m\u001b[39m … \u001b[35m  6.097 ms\u001b[39m  \u001b[90m┊\u001b[39m GC \u001b[90m(\u001b[39mmin … max\u001b[90m): \u001b[39m0.00% … 79.13%\n",
       " Time  \u001b[90m(\u001b[39m\u001b[34m\u001b[1mmedian\u001b[22m\u001b[39m\u001b[90m):     \u001b[39m\u001b[34m\u001b[1m1.241 ms               \u001b[22m\u001b[39m\u001b[90m┊\u001b[39m GC \u001b[90m(\u001b[39mmedian\u001b[90m):    \u001b[39m0.00%\n",
       " Time  \u001b[90m(\u001b[39m\u001b[32m\u001b[1mmean\u001b[22m\u001b[39m ± \u001b[32mσ\u001b[39m\u001b[90m):   \u001b[39m\u001b[32m\u001b[1m1.264 ms\u001b[22m\u001b[39m ± \u001b[32m195.216 μs\u001b[39m  \u001b[90m┊\u001b[39m GC \u001b[90m(\u001b[39mmean ± σ\u001b[90m):  \u001b[39m0.48% ±  2.82%\n",
       "\n",
       "  \u001b[39m█\u001b[34m█\u001b[39m\u001b[39m▃\u001b[39m▂\u001b[39m \u001b[39m▁\u001b[39m▁\u001b[39m▁\u001b[32m \u001b[39m\u001b[39m▁\u001b[39m \u001b[39m▁\u001b[39m▂\u001b[39m▂\u001b[39m \u001b[39m \u001b[39m \u001b[39m \u001b[39m \u001b[39m \u001b[39m \u001b[39m \u001b[39m \u001b[39m \u001b[39m \u001b[39m \u001b[39m \u001b[39m \u001b[39m \u001b[39m \u001b[39m \u001b[39m \u001b[39m \u001b[39m \u001b[39m \u001b[39m \u001b[39m \u001b[39m \u001b[39m \u001b[39m \u001b[39m \u001b[39m \u001b[39m \u001b[39m \u001b[39m \u001b[39m \u001b[39m \u001b[39m \u001b[39m \u001b[39m \u001b[39m \u001b[39m \u001b[39m \u001b[39m \u001b[39m \u001b[39m \u001b[39m \u001b[39m \u001b[39m \u001b[39m \u001b[39m \n",
       "  \u001b[39m█\u001b[34m█\u001b[39m\u001b[39m█\u001b[39m█\u001b[39m█\u001b[39m█\u001b[39m█\u001b[39m█\u001b[32m█\u001b[39m\u001b[39m█\u001b[39m█\u001b[39m█\u001b[39m█\u001b[39m█\u001b[39m█\u001b[39m▇\u001b[39m▅\u001b[39m▆\u001b[39m▅\u001b[39m▁\u001b[39m▁\u001b[39m▅\u001b[39m▄\u001b[39m▄\u001b[39m▄\u001b[39m▄\u001b[39m▅\u001b[39m▁\u001b[39m▁\u001b[39m▁\u001b[39m▄\u001b[39m▄\u001b[39m▁\u001b[39m▁\u001b[39m▁\u001b[39m▁\u001b[39m▁\u001b[39m▁\u001b[39m▄\u001b[39m▁\u001b[39m▁\u001b[39m▁\u001b[39m▁\u001b[39m▁\u001b[39m▄\u001b[39m▁\u001b[39m▁\u001b[39m▁\u001b[39m▁\u001b[39m▁\u001b[39m▁\u001b[39m▁\u001b[39m▁\u001b[39m▁\u001b[39m▁\u001b[39m▁\u001b[39m▁\u001b[39m▁\u001b[39m▄\u001b[39m \u001b[39m▇\n",
       "  1.24 ms\u001b[90m      \u001b[39m\u001b[90mHistogram: \u001b[39m\u001b[90m\u001b[1mlog(\u001b[22m\u001b[39m\u001b[90mfrequency\u001b[39m\u001b[90m\u001b[1m)\u001b[22m\u001b[39m\u001b[90m by time\u001b[39m      1.45 ms \u001b[0m\u001b[1m<\u001b[22m\n",
       "\n",
       " Memory estimate\u001b[90m: \u001b[39m\u001b[33m132.91 KiB\u001b[39m, allocs estimate\u001b[90m: \u001b[39m\u001b[33m68\u001b[39m."
      ]
     },
     "execution_count": 173,
     "metadata": {},
     "output_type": "execute_result"
    }
   ],
   "source": [
    "@benchmark χ²s_cpu = cpu_calc_chisq_kepler_many_models($obs_data_small, $θ_eval, workspace = $output_many_models_cpu) seconds=1"
   ]
  },
  {
   "cell_type": "markdown",
   "metadata": {},
   "source": [
    "2l. What do you observe for the speed-up factor of the GPU relative to the CPU now that we're performing the reduction on the GPU with a pre-allocated workspace?"
   ]
  },
  {
   "cell_type": "code",
   "execution_count": 174,
   "metadata": {},
   "outputs": [
    {
     "data": {
      "text/plain": [
       "missing"
      ]
     },
     "execution_count": 174,
     "metadata": {},
     "output_type": "execute_result"
    }
   ],
   "source": [
    "response_2l = missing # md\"Insert response\""
   ]
  },
  {
   "cell_type": "markdown",
   "metadata": {},
   "source": [
    "2m.  If you still have some time, try changing `num_models` and rerunning the affected cells.   How many models do you need to evaluate in parallel to get at least a factor of 50 performance improvement over the CPU?"
   ]
  },
  {
   "cell_type": "code",
   "execution_count": 135,
   "metadata": {},
   "outputs": [
    {
     "data": {
      "text/plain": [
       "missing"
      ]
     },
     "execution_count": 135,
     "metadata": {},
     "output_type": "execute_result"
    }
   ],
   "source": [
    "response_2m = missing # md\"Insert response\""
   ]
  },
  {
   "cell_type": "markdown",
   "metadata": {},
   "source": [
    "### Comparison to simple CPU version\n",
    "Just for fun, here's a benchmark for the same computation on the CPU without kernel abstraction."
   ]
  },
  {
   "cell_type": "code",
   "execution_count": 79,
   "metadata": {},
   "outputs": [
    {
     "data": {
      "text/plain": [
       "get_nth_as_namedtuple (generic function with 1 method)"
      ]
     },
     "execution_count": 79,
     "metadata": {},
     "output_type": "execute_result"
    }
   ],
   "source": [
    "function get_nth_as_namedtuple(θ::NamedTuple{NTK,NTVT}, n::Integer) where { NTK, T<:Real, N1, A<:AbstractArray{T,N1}, N2, NTVT<:NTuple{N2,A} }\n",
    "    @assert 1 <= n <= length(first(values(θ)))\n",
    "    (; zip(keys(θ), map(x->x[n],values(θ)) )... )\n",
    "end"
   ]
  },
  {
   "cell_type": "code",
   "execution_count": 112,
   "metadata": {},
   "outputs": [
    {
     "data": {
      "text/plain": [
       "0.122223589"
      ]
     },
     "execution_count": 112,
     "metadata": {},
     "output_type": "execute_result"
    }
   ],
   "source": [
    "@elapsed map(n->calc_chisq_rv_kepler_cpu_simple(obs_data_small,get_nth_as_namedtuple(θ_eval,n)), 1:length(first(θ_eval)) )"
   ]
  },
  {
   "cell_type": "code",
   "execution_count": null,
   "metadata": {},
   "outputs": [],
   "source": []
  }
 ],
 "metadata": {
  "kernelspec": {
   "display_name": "Julia 1.6.0",
   "language": "julia",
   "name": "julia-1.6"
  },
  "language_info": {
   "file_extension": ".jl",
   "mimetype": "application/julia",
   "name": "julia",
   "version": "1.6.0"
  }
 },
 "nbformat": 4,
 "nbformat_minor": 4
}
